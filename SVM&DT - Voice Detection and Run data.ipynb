{
 "cells": [
  {
   "cell_type": "markdown",
   "metadata": {},
   "source": [
    "### To predict if the person is male or female"
   ]
  },
  {
   "cell_type": "code",
   "execution_count": 1,
   "metadata": {},
   "outputs": [],
   "source": [
    "import numpy as np\n",
    "import pandas as pd\n",
    "import matplotlib.pyplot as plt\n",
    "import seaborn as sns\n",
    "from sklearn.preprocessing import StandardScaler\n",
    "from sklearn.model_selection import train_test_split\n",
    "import statistics\n",
    "import math\n",
    "from sklearn.svm import SVC\n",
    "from sklearn import metrics\n",
    "from sklearn.tree import DecisionTreeClassifier\n",
    "from sklearn.ensemble import AdaBoostClassifier\n",
    "from sklearn.model_selection import KFold\n",
    "from sklearn.svm import SVR\n",
    "import warnings\n",
    "warnings.filterwarnings(\"ignore\")\n",
    "from sklearn.model_selection import cross_val_score"
   ]
  },
  {
   "cell_type": "code",
   "execution_count": 2,
   "metadata": {},
   "outputs": [],
   "source": [
    "mal_fem = pd.read_csv(\"voice.csv\",index_col=False)"
   ]
  },
  {
   "cell_type": "code",
   "execution_count": 3,
   "metadata": {},
   "outputs": [
    {
     "data": {
      "text/plain": [
       "(3168, 21)"
      ]
     },
     "execution_count": 3,
     "metadata": {},
     "output_type": "execute_result"
    }
   ],
   "source": [
    "mal_fem.shape"
   ]
  },
  {
   "cell_type": "markdown",
   "metadata": {},
   "source": [
    "# EDA"
   ]
  },
  {
   "cell_type": "markdown",
   "metadata": {},
   "source": [
    "### Since label is a categorical variable, we change it to a dummy one, keeping male as base, i.e., male = 0 female =1"
   ]
  },
  {
   "cell_type": "markdown",
   "metadata": {},
   "source": [
    "meanfreq: mean frequency (in kHz)\n",
    "sd: standard deviation of frequency\n",
    "median: median frequency (in kHz)\n",
    "Q25: first quantile (in kHz)\n",
    "Q75: third quantile (in kHz)\n",
    "IQR: interquantile range (in kHz)\n",
    "skew: skewness (see note in specprop description)\n",
    "kurt: kurtosis (see note in specprop description)\n",
    "sp.ent: spectral entropy\n",
    "sfm: spectral flatness \n",
    "mode: mode frequency\n",
    "centroid: frequency centroid (see specprop)\n",
    "peakf: peak frequency (frequency with highest energy)\n",
    "meanfun: average of fundamental frequency measured across acoustic signal\n",
    "minfun: minimum fundamental frequency measured across acoustic signal\n",
    "maxfun: maximum fundamental frequency measured across acoustic signal\n",
    "meandom: average of dominant frequency measured across acoustic signal\n",
    "mindom: minimum of dominant frequency measured across acoustic signal\n",
    "maxdom: maximum of dominant frequency measured across acoustic signal\n",
    "dfrange: range of dominant frequency measured across acoustic signal\n",
    "modindx: modulation index. Calculated as the accumulated absolute difference between adjacent measurements of fundamental frequencies divided by the frequency range\n",
    "label: male or female"
   ]
  },
  {
   "cell_type": "code",
   "execution_count": 4,
   "metadata": {},
   "outputs": [],
   "source": [
    "mal_fem['class'] = np.where(mal_fem['label']==\"male\",0,1)\n",
    "mal_fem1 = mal_fem.drop(['label'],axis=1)"
   ]
  },
  {
   "cell_type": "code",
   "execution_count": 5,
   "metadata": {},
   "outputs": [
    {
     "data": {
      "text/plain": [
       "0"
      ]
     },
     "execution_count": 5,
     "metadata": {},
     "output_type": "execute_result"
    }
   ],
   "source": [
    "#Checking null values:\n",
    "mal_fem1.isnull().sum().sum()"
   ]
  },
  {
   "cell_type": "markdown",
   "metadata": {},
   "source": [
    "##### Finding Distribution of male and female"
   ]
  },
  {
   "cell_type": "code",
   "execution_count": 6,
   "metadata": {},
   "outputs": [
    {
     "name": "stdout",
     "output_type": "stream",
     "text": [
      "male      1584\n",
      "female    1584\n",
      "Name: label, dtype: int64\n"
     ]
    },
    {
     "data": {
      "image/png": "[encoded data removed]",
      "text/plain": [
       "<Figure size 432x288 with 1 Axes>"
      ]
     },
     "metadata": {
      "needs_background": "light"
     },
     "output_type": "display_data"
    }
   ],
   "source": [
    "counts = sns.countplot(x='label', data=mal_fem, palette='coolwarm')\n",
    "counts.set(xlabel='Gender', ylabel='Count', title='Count per Gender')\n",
    "print(mal_fem['label'].value_counts())\n",
    "#We can see that both male and female have the same count"
   ]
  },
  {
   "cell_type": "code",
   "execution_count": 7,
   "metadata": {},
   "outputs": [
    {
     "data": {
      "text/html": [
       "<div>\n",
       "<style scoped>\n",
       "    .dataframe tbody tr th:only-of-type {\n",
       "        vertical-align: middle;\n",
       "    }\n",
       "\n",
       "    .dataframe tbody tr th {\n",
       "        vertical-align: top;\n",
       "    }\n",
       "\n",
       "    .dataframe thead th {\n",
       "        text-align: right;\n",
       "    }\n",
       "</style>\n",
       "<table border=\"1\" class=\"dataframe\">\n",
       "  <thead>\n",
       "    <tr style=\"text-align: right;\">\n",
       "      <th></th>\n",
       "      <th>meanfreq</th>\n",
       "      <th>sd</th>\n",
       "      <th>median</th>\n",
       "      <th>Q25</th>\n",
       "      <th>Q75</th>\n",
       "      <th>IQR</th>\n",
       "      <th>skew</th>\n",
       "      <th>kurt</th>\n",
       "      <th>sp.ent</th>\n",
       "      <th>sfm</th>\n",
       "      <th>...</th>\n",
       "      <th>centroid</th>\n",
       "      <th>meanfun</th>\n",
       "      <th>minfun</th>\n",
       "      <th>maxfun</th>\n",
       "      <th>meandom</th>\n",
       "      <th>mindom</th>\n",
       "      <th>maxdom</th>\n",
       "      <th>dfrange</th>\n",
       "      <th>modindx</th>\n",
       "      <th>class</th>\n",
       "    </tr>\n",
       "  </thead>\n",
       "  <tbody>\n",
       "    <tr>\n",
       "      <td>meanfreq</td>\n",
       "      <td>1.000000</td>\n",
       "      <td>-0.739039</td>\n",
       "      <td>0.925445</td>\n",
       "      <td>0.911416</td>\n",
       "      <td>0.740997</td>\n",
       "      <td>-0.627605</td>\n",
       "      <td>-0.322327</td>\n",
       "      <td>-0.316036</td>\n",
       "      <td>-0.601203</td>\n",
       "      <td>-0.784332</td>\n",
       "      <td>...</td>\n",
       "      <td>1.000000</td>\n",
       "      <td>0.460844</td>\n",
       "      <td>0.383937</td>\n",
       "      <td>0.274004</td>\n",
       "      <td>0.536666</td>\n",
       "      <td>0.229261</td>\n",
       "      <td>0.519528</td>\n",
       "      <td>0.515570</td>\n",
       "      <td>-0.216979</td>\n",
       "      <td>0.337415</td>\n",
       "    </tr>\n",
       "    <tr>\n",
       "      <td>sd</td>\n",
       "      <td>-0.739039</td>\n",
       "      <td>1.000000</td>\n",
       "      <td>-0.562603</td>\n",
       "      <td>-0.846931</td>\n",
       "      <td>-0.161076</td>\n",
       "      <td>0.874660</td>\n",
       "      <td>0.314597</td>\n",
       "      <td>0.346241</td>\n",
       "      <td>0.716620</td>\n",
       "      <td>0.838086</td>\n",
       "      <td>...</td>\n",
       "      <td>-0.739039</td>\n",
       "      <td>-0.466281</td>\n",
       "      <td>-0.345609</td>\n",
       "      <td>-0.129662</td>\n",
       "      <td>-0.482726</td>\n",
       "      <td>-0.357667</td>\n",
       "      <td>-0.482278</td>\n",
       "      <td>-0.475999</td>\n",
       "      <td>0.122660</td>\n",
       "      <td>-0.479539</td>\n",
       "    </tr>\n",
       "    <tr>\n",
       "      <td>median</td>\n",
       "      <td>0.925445</td>\n",
       "      <td>-0.562603</td>\n",
       "      <td>1.000000</td>\n",
       "      <td>0.774922</td>\n",
       "      <td>0.731849</td>\n",
       "      <td>-0.477352</td>\n",
       "      <td>-0.257407</td>\n",
       "      <td>-0.243382</td>\n",
       "      <td>-0.502005</td>\n",
       "      <td>-0.661690</td>\n",
       "      <td>...</td>\n",
       "      <td>0.925445</td>\n",
       "      <td>0.414909</td>\n",
       "      <td>0.337602</td>\n",
       "      <td>0.251328</td>\n",
       "      <td>0.455943</td>\n",
       "      <td>0.191169</td>\n",
       "      <td>0.438919</td>\n",
       "      <td>0.435621</td>\n",
       "      <td>-0.213298</td>\n",
       "      <td>0.283919</td>\n",
       "    </tr>\n",
       "    <tr>\n",
       "      <td>Q25</td>\n",
       "      <td>0.911416</td>\n",
       "      <td>-0.846931</td>\n",
       "      <td>0.774922</td>\n",
       "      <td>1.000000</td>\n",
       "      <td>0.477140</td>\n",
       "      <td>-0.874189</td>\n",
       "      <td>-0.319475</td>\n",
       "      <td>-0.350182</td>\n",
       "      <td>-0.648126</td>\n",
       "      <td>-0.766875</td>\n",
       "      <td>...</td>\n",
       "      <td>0.911416</td>\n",
       "      <td>0.545035</td>\n",
       "      <td>0.320994</td>\n",
       "      <td>0.199841</td>\n",
       "      <td>0.467403</td>\n",
       "      <td>0.302255</td>\n",
       "      <td>0.459683</td>\n",
       "      <td>0.454394</td>\n",
       "      <td>-0.141377</td>\n",
       "      <td>0.511455</td>\n",
       "    </tr>\n",
       "    <tr>\n",
       "      <td>Q75</td>\n",
       "      <td>0.740997</td>\n",
       "      <td>-0.161076</td>\n",
       "      <td>0.731849</td>\n",
       "      <td>0.477140</td>\n",
       "      <td>1.000000</td>\n",
       "      <td>0.009636</td>\n",
       "      <td>-0.206339</td>\n",
       "      <td>-0.148881</td>\n",
       "      <td>-0.174905</td>\n",
       "      <td>-0.378198</td>\n",
       "      <td>...</td>\n",
       "      <td>0.740997</td>\n",
       "      <td>0.155091</td>\n",
       "      <td>0.258002</td>\n",
       "      <td>0.285584</td>\n",
       "      <td>0.359181</td>\n",
       "      <td>-0.023750</td>\n",
       "      <td>0.335114</td>\n",
       "      <td>0.335648</td>\n",
       "      <td>-0.216475</td>\n",
       "      <td>-0.066906</td>\n",
       "    </tr>\n",
       "    <tr>\n",
       "      <td>IQR</td>\n",
       "      <td>-0.627605</td>\n",
       "      <td>0.874660</td>\n",
       "      <td>-0.477352</td>\n",
       "      <td>-0.874189</td>\n",
       "      <td>0.009636</td>\n",
       "      <td>1.000000</td>\n",
       "      <td>0.249497</td>\n",
       "      <td>0.316185</td>\n",
       "      <td>0.640813</td>\n",
       "      <td>0.663601</td>\n",
       "      <td>...</td>\n",
       "      <td>-0.627605</td>\n",
       "      <td>-0.534462</td>\n",
       "      <td>-0.222680</td>\n",
       "      <td>-0.069588</td>\n",
       "      <td>-0.333362</td>\n",
       "      <td>-0.357037</td>\n",
       "      <td>-0.337877</td>\n",
       "      <td>-0.331563</td>\n",
       "      <td>0.041252</td>\n",
       "      <td>-0.618916</td>\n",
       "    </tr>\n",
       "    <tr>\n",
       "      <td>skew</td>\n",
       "      <td>-0.322327</td>\n",
       "      <td>0.314597</td>\n",
       "      <td>-0.257407</td>\n",
       "      <td>-0.319475</td>\n",
       "      <td>-0.206339</td>\n",
       "      <td>0.249497</td>\n",
       "      <td>1.000000</td>\n",
       "      <td>0.977020</td>\n",
       "      <td>-0.195459</td>\n",
       "      <td>0.079694</td>\n",
       "      <td>...</td>\n",
       "      <td>-0.322327</td>\n",
       "      <td>-0.167668</td>\n",
       "      <td>-0.216954</td>\n",
       "      <td>-0.080861</td>\n",
       "      <td>-0.336848</td>\n",
       "      <td>-0.061608</td>\n",
       "      <td>-0.305651</td>\n",
       "      <td>-0.304640</td>\n",
       "      <td>-0.169325</td>\n",
       "      <td>-0.036627</td>\n",
       "    </tr>\n",
       "    <tr>\n",
       "      <td>kurt</td>\n",
       "      <td>-0.316036</td>\n",
       "      <td>0.346241</td>\n",
       "      <td>-0.243382</td>\n",
       "      <td>-0.350182</td>\n",
       "      <td>-0.148881</td>\n",
       "      <td>0.316185</td>\n",
       "      <td>0.977020</td>\n",
       "      <td>1.000000</td>\n",
       "      <td>-0.127644</td>\n",
       "      <td>0.109884</td>\n",
       "      <td>...</td>\n",
       "      <td>-0.316036</td>\n",
       "      <td>-0.194560</td>\n",
       "      <td>-0.203201</td>\n",
       "      <td>-0.045667</td>\n",
       "      <td>-0.303234</td>\n",
       "      <td>-0.103313</td>\n",
       "      <td>-0.274500</td>\n",
       "      <td>-0.272729</td>\n",
       "      <td>-0.205539</td>\n",
       "      <td>-0.087195</td>\n",
       "    </tr>\n",
       "    <tr>\n",
       "      <td>sp.ent</td>\n",
       "      <td>-0.601203</td>\n",
       "      <td>0.716620</td>\n",
       "      <td>-0.502005</td>\n",
       "      <td>-0.648126</td>\n",
       "      <td>-0.174905</td>\n",
       "      <td>0.640813</td>\n",
       "      <td>-0.195459</td>\n",
       "      <td>-0.127644</td>\n",
       "      <td>1.000000</td>\n",
       "      <td>0.866411</td>\n",
       "      <td>...</td>\n",
       "      <td>-0.601203</td>\n",
       "      <td>-0.513194</td>\n",
       "      <td>-0.305826</td>\n",
       "      <td>-0.120738</td>\n",
       "      <td>-0.293562</td>\n",
       "      <td>-0.294869</td>\n",
       "      <td>-0.324253</td>\n",
       "      <td>-0.319054</td>\n",
       "      <td>0.198074</td>\n",
       "      <td>-0.490552</td>\n",
       "    </tr>\n",
       "    <tr>\n",
       "      <td>sfm</td>\n",
       "      <td>-0.784332</td>\n",
       "      <td>0.838086</td>\n",
       "      <td>-0.661690</td>\n",
       "      <td>-0.766875</td>\n",
       "      <td>-0.378198</td>\n",
       "      <td>0.663601</td>\n",
       "      <td>0.079694</td>\n",
       "      <td>0.109884</td>\n",
       "      <td>0.866411</td>\n",
       "      <td>1.000000</td>\n",
       "      <td>...</td>\n",
       "      <td>-0.784332</td>\n",
       "      <td>-0.421066</td>\n",
       "      <td>-0.362100</td>\n",
       "      <td>-0.192369</td>\n",
       "      <td>-0.428442</td>\n",
       "      <td>-0.289593</td>\n",
       "      <td>-0.436649</td>\n",
       "      <td>-0.431580</td>\n",
       "      <td>0.211477</td>\n",
       "      <td>-0.357499</td>\n",
       "    </tr>\n",
       "    <tr>\n",
       "      <td>mode</td>\n",
       "      <td>0.687715</td>\n",
       "      <td>-0.529150</td>\n",
       "      <td>0.677433</td>\n",
       "      <td>0.591277</td>\n",
       "      <td>0.486857</td>\n",
       "      <td>-0.403764</td>\n",
       "      <td>-0.434859</td>\n",
       "      <td>-0.406722</td>\n",
       "      <td>-0.325298</td>\n",
       "      <td>-0.485913</td>\n",
       "      <td>...</td>\n",
       "      <td>0.687715</td>\n",
       "      <td>0.324771</td>\n",
       "      <td>0.385467</td>\n",
       "      <td>0.172329</td>\n",
       "      <td>0.491479</td>\n",
       "      <td>0.198150</td>\n",
       "      <td>0.477187</td>\n",
       "      <td>0.473775</td>\n",
       "      <td>-0.182344</td>\n",
       "      <td>0.171775</td>\n",
       "    </tr>\n",
       "    <tr>\n",
       "      <td>centroid</td>\n",
       "      <td>1.000000</td>\n",
       "      <td>-0.739039</td>\n",
       "      <td>0.925445</td>\n",
       "      <td>0.911416</td>\n",
       "      <td>0.740997</td>\n",
       "      <td>-0.627605</td>\n",
       "      <td>-0.322327</td>\n",
       "      <td>-0.316036</td>\n",
       "      <td>-0.601203</td>\n",
       "      <td>-0.784332</td>\n",
       "      <td>...</td>\n",
       "      <td>1.000000</td>\n",
       "      <td>0.460844</td>\n",
       "      <td>0.383937</td>\n",
       "      <td>0.274004</td>\n",
       "      <td>0.536666</td>\n",
       "      <td>0.229261</td>\n",
       "      <td>0.519528</td>\n",
       "      <td>0.515570</td>\n",
       "      <td>-0.216979</td>\n",
       "      <td>0.337415</td>\n",
       "    </tr>\n",
       "    <tr>\n",
       "      <td>meanfun</td>\n",
       "      <td>0.460844</td>\n",
       "      <td>-0.466281</td>\n",
       "      <td>0.414909</td>\n",
       "      <td>0.545035</td>\n",
       "      <td>0.155091</td>\n",
       "      <td>-0.534462</td>\n",
       "      <td>-0.167668</td>\n",
       "      <td>-0.194560</td>\n",
       "      <td>-0.513194</td>\n",
       "      <td>-0.421066</td>\n",
       "      <td>...</td>\n",
       "      <td>0.460844</td>\n",
       "      <td>1.000000</td>\n",
       "      <td>0.339387</td>\n",
       "      <td>0.311950</td>\n",
       "      <td>0.270840</td>\n",
       "      <td>0.162163</td>\n",
       "      <td>0.277982</td>\n",
       "      <td>0.275154</td>\n",
       "      <td>-0.054858</td>\n",
       "      <td>0.833921</td>\n",
       "    </tr>\n",
       "    <tr>\n",
       "      <td>minfun</td>\n",
       "      <td>0.383937</td>\n",
       "      <td>-0.345609</td>\n",
       "      <td>0.337602</td>\n",
       "      <td>0.320994</td>\n",
       "      <td>0.258002</td>\n",
       "      <td>-0.222680</td>\n",
       "      <td>-0.216954</td>\n",
       "      <td>-0.203201</td>\n",
       "      <td>-0.305826</td>\n",
       "      <td>-0.362100</td>\n",
       "      <td>...</td>\n",
       "      <td>0.383937</td>\n",
       "      <td>0.339387</td>\n",
       "      <td>1.000000</td>\n",
       "      <td>0.213987</td>\n",
       "      <td>0.375979</td>\n",
       "      <td>0.082015</td>\n",
       "      <td>0.317860</td>\n",
       "      <td>0.316486</td>\n",
       "      <td>0.002042</td>\n",
       "      <td>0.136692</td>\n",
       "    </tr>\n",
       "    <tr>\n",
       "      <td>maxfun</td>\n",
       "      <td>0.274004</td>\n",
       "      <td>-0.129662</td>\n",
       "      <td>0.251328</td>\n",
       "      <td>0.199841</td>\n",
       "      <td>0.285584</td>\n",
       "      <td>-0.069588</td>\n",
       "      <td>-0.080861</td>\n",
       "      <td>-0.045667</td>\n",
       "      <td>-0.120738</td>\n",
       "      <td>-0.192369</td>\n",
       "      <td>...</td>\n",
       "      <td>0.274004</td>\n",
       "      <td>0.311950</td>\n",
       "      <td>0.213987</td>\n",
       "      <td>1.000000</td>\n",
       "      <td>0.337553</td>\n",
       "      <td>-0.243426</td>\n",
       "      <td>0.355390</td>\n",
       "      <td>0.359880</td>\n",
       "      <td>-0.363029</td>\n",
       "      <td>0.166461</td>\n",
       "    </tr>\n",
       "    <tr>\n",
       "      <td>meandom</td>\n",
       "      <td>0.536666</td>\n",
       "      <td>-0.482726</td>\n",
       "      <td>0.455943</td>\n",
       "      <td>0.467403</td>\n",
       "      <td>0.359181</td>\n",
       "      <td>-0.333362</td>\n",
       "      <td>-0.336848</td>\n",
       "      <td>-0.303234</td>\n",
       "      <td>-0.293562</td>\n",
       "      <td>-0.428442</td>\n",
       "      <td>...</td>\n",
       "      <td>0.536666</td>\n",
       "      <td>0.270840</td>\n",
       "      <td>0.375979</td>\n",
       "      <td>0.337553</td>\n",
       "      <td>1.000000</td>\n",
       "      <td>0.099656</td>\n",
       "      <td>0.812838</td>\n",
       "      <td>0.811304</td>\n",
       "      <td>-0.180954</td>\n",
       "      <td>0.191067</td>\n",
       "    </tr>\n",
       "    <tr>\n",
       "      <td>mindom</td>\n",
       "      <td>0.229261</td>\n",
       "      <td>-0.357667</td>\n",
       "      <td>0.191169</td>\n",
       "      <td>0.302255</td>\n",
       "      <td>-0.023750</td>\n",
       "      <td>-0.357037</td>\n",
       "      <td>-0.061608</td>\n",
       "      <td>-0.103313</td>\n",
       "      <td>-0.294869</td>\n",
       "      <td>-0.289593</td>\n",
       "      <td>...</td>\n",
       "      <td>0.229261</td>\n",
       "      <td>0.162163</td>\n",
       "      <td>0.082015</td>\n",
       "      <td>-0.243426</td>\n",
       "      <td>0.099656</td>\n",
       "      <td>1.000000</td>\n",
       "      <td>0.026640</td>\n",
       "      <td>0.008666</td>\n",
       "      <td>0.200212</td>\n",
       "      <td>0.194974</td>\n",
       "    </tr>\n",
       "    <tr>\n",
       "      <td>maxdom</td>\n",
       "      <td>0.519528</td>\n",
       "      <td>-0.482278</td>\n",
       "      <td>0.438919</td>\n",
       "      <td>0.459683</td>\n",
       "      <td>0.335114</td>\n",
       "      <td>-0.337877</td>\n",
       "      <td>-0.305651</td>\n",
       "      <td>-0.274500</td>\n",
       "      <td>-0.324253</td>\n",
       "      <td>-0.436649</td>\n",
       "      <td>...</td>\n",
       "      <td>0.519528</td>\n",
       "      <td>0.277982</td>\n",
       "      <td>0.317860</td>\n",
       "      <td>0.355390</td>\n",
       "      <td>0.812838</td>\n",
       "      <td>0.026640</td>\n",
       "      <td>1.000000</td>\n",
       "      <td>0.999838</td>\n",
       "      <td>-0.425531</td>\n",
       "      <td>0.195657</td>\n",
       "    </tr>\n",
       "    <tr>\n",
       "      <td>dfrange</td>\n",
       "      <td>0.515570</td>\n",
       "      <td>-0.475999</td>\n",
       "      <td>0.435621</td>\n",
       "      <td>0.454394</td>\n",
       "      <td>0.335648</td>\n",
       "      <td>-0.331563</td>\n",
       "      <td>-0.304640</td>\n",
       "      <td>-0.272729</td>\n",
       "      <td>-0.319054</td>\n",
       "      <td>-0.431580</td>\n",
       "      <td>...</td>\n",
       "      <td>0.515570</td>\n",
       "      <td>0.275154</td>\n",
       "      <td>0.316486</td>\n",
       "      <td>0.359880</td>\n",
       "      <td>0.811304</td>\n",
       "      <td>0.008666</td>\n",
       "      <td>0.999838</td>\n",
       "      <td>1.000000</td>\n",
       "      <td>-0.429266</td>\n",
       "      <td>0.192213</td>\n",
       "    </tr>\n",
       "    <tr>\n",
       "      <td>modindx</td>\n",
       "      <td>-0.216979</td>\n",
       "      <td>0.122660</td>\n",
       "      <td>-0.213298</td>\n",
       "      <td>-0.141377</td>\n",
       "      <td>-0.216475</td>\n",
       "      <td>0.041252</td>\n",
       "      <td>-0.169325</td>\n",
       "      <td>-0.205539</td>\n",
       "      <td>0.198074</td>\n",
       "      <td>0.211477</td>\n",
       "      <td>...</td>\n",
       "      <td>-0.216979</td>\n",
       "      <td>-0.054858</td>\n",
       "      <td>0.002042</td>\n",
       "      <td>-0.363029</td>\n",
       "      <td>-0.180954</td>\n",
       "      <td>0.200212</td>\n",
       "      <td>-0.425531</td>\n",
       "      <td>-0.429266</td>\n",
       "      <td>1.000000</td>\n",
       "      <td>-0.030801</td>\n",
       "    </tr>\n",
       "    <tr>\n",
       "      <td>class</td>\n",
       "      <td>0.337415</td>\n",
       "      <td>-0.479539</td>\n",
       "      <td>0.283919</td>\n",
       "      <td>0.511455</td>\n",
       "      <td>-0.066906</td>\n",
       "      <td>-0.618916</td>\n",
       "      <td>-0.036627</td>\n",
       "      <td>-0.087195</td>\n",
       "      <td>-0.490552</td>\n",
       "      <td>-0.357499</td>\n",
       "      <td>...</td>\n",
       "      <td>0.337415</td>\n",
       "      <td>0.833921</td>\n",
       "      <td>0.136692</td>\n",
       "      <td>0.166461</td>\n",
       "      <td>0.191067</td>\n",
       "      <td>0.194974</td>\n",
       "      <td>0.195657</td>\n",
       "      <td>0.192213</td>\n",
       "      <td>-0.030801</td>\n",
       "      <td>1.000000</td>\n",
       "    </tr>\n",
       "  </tbody>\n",
       "</table>\n",
       "<p>21 rows × 21 columns</p>\n",
       "</div>"
      ],
      "text/plain": [
       "          meanfreq        sd    median       Q25       Q75       IQR  \\\n",
       "meanfreq  1.000000 -0.739039  0.925445  0.911416  0.740997 -0.627605   \n",
       "sd       -0.739039  1.000000 -0.562603 -0.846931 -0.161076  0.874660   \n",
       "median    0.925445 -0.562603  1.000000  0.774922  0.731849 -0.477352   \n",
       "Q25       0.911416 -0.846931  0.774922  1.000000  0.477140 -0.874189   \n",
       "Q75       0.740997 -0.161076  0.731849  0.477140  1.000000  0.009636   \n",
       "IQR      -0.627605  0.874660 -0.477352 -0.874189  0.009636  1.000000   \n",
       "skew     -0.322327  0.314597 -0.257407 -0.319475 -0.206339  0.249497   \n",
       "kurt     -0.316036  0.346241 -0.243382 -0.350182 -0.148881  0.316185   \n",
       "sp.ent   -0.601203  0.716620 -0.502005 -0.648126 -0.174905  0.640813   \n",
       "sfm      -0.784332  0.838086 -0.661690 -0.766875 -0.378198  0.663601   \n",
       "mode      0.687715 -0.529150  0.677433  0.591277  0.486857 -0.403764   \n",
       "centroid  1.000000 -0.739039  0.925445  0.911416  0.740997 -0.627605   \n",
       "meanfun   0.460844 -0.466281  0.414909  0.545035  0.155091 -0.534462   \n",
       "minfun    0.383937 -0.345609  0.337602  0.320994  0.258002 -0.222680   \n",
       "maxfun    0.274004 -0.129662  0.251328  0.199841  0.285584 -0.069588   \n",
       "meandom   0.536666 -0.482726  0.455943  0.467403  0.359181 -0.333362   \n",
       "mindom    0.229261 -0.357667  0.191169  0.302255 -0.023750 -0.357037   \n",
       "maxdom    0.519528 -0.482278  0.438919  0.459683  0.335114 -0.337877   \n",
       "dfrange   0.515570 -0.475999  0.435621  0.454394  0.335648 -0.331563   \n",
       "modindx  -0.216979  0.122660 -0.213298 -0.141377 -0.216475  0.041252   \n",
       "class     0.337415 -0.479539  0.283919  0.511455 -0.066906 -0.618916   \n",
       "\n",
       "              skew      kurt    sp.ent       sfm  ...  centroid   meanfun  \\\n",
       "meanfreq -0.322327 -0.316036 -0.601203 -0.784332  ...  1.000000  0.460844   \n",
       "sd        0.314597  0.346241  0.716620  0.838086  ... -0.739039 -0.466281   \n",
       "median   -0.257407 -0.243382 -0.502005 -0.661690  ...  0.925445  0.414909   \n",
       "Q25      -0.319475 -0.350182 -0.648126 -0.766875  ...  0.911416  0.545035   \n",
       "Q75      -0.206339 -0.148881 -0.174905 -0.378198  ...  0.740997  0.155091   \n",
       "IQR       0.249497  0.316185  0.640813  0.663601  ... -0.627605 -0.534462   \n",
       "skew      1.000000  0.977020 -0.195459  0.079694  ... -0.322327 -0.167668   \n",
       "kurt      0.977020  1.000000 -0.127644  0.109884  ... -0.316036 -0.194560   \n",
       "sp.ent   -0.195459 -0.127644  1.000000  0.866411  ... -0.601203 -0.513194   \n",
       "sfm       0.079694  0.109884  0.866411  1.000000  ... -0.784332 -0.421066   \n",
       "mode     -0.434859 -0.406722 -0.325298 -0.485913  ...  0.687715  0.324771   \n",
       "centroid -0.322327 -0.316036 -0.601203 -0.784332  ...  1.000000  0.460844   \n",
       "meanfun  -0.167668 -0.194560 -0.513194 -0.421066  ...  0.460844  1.000000   \n",
       "minfun   -0.216954 -0.203201 -0.305826 -0.362100  ...  0.383937  0.339387   \n",
       "maxfun   -0.080861 -0.045667 -0.120738 -0.192369  ...  0.274004  0.311950   \n",
       "meandom  -0.336848 -0.303234 -0.293562 -0.428442  ...  0.536666  0.270840   \n",
       "mindom   -0.061608 -0.103313 -0.294869 -0.289593  ...  0.229261  0.162163   \n",
       "maxdom   -0.305651 -0.274500 -0.324253 -0.436649  ...  0.519528  0.277982   \n",
       "dfrange  -0.304640 -0.272729 -0.319054 -0.431580  ...  0.515570  0.275154   \n",
       "modindx  -0.169325 -0.205539  0.198074  0.211477  ... -0.216979 -0.054858   \n",
       "class    -0.036627 -0.087195 -0.490552 -0.357499  ...  0.337415  0.833921   \n",
       "\n",
       "            minfun    maxfun   meandom    mindom    maxdom   dfrange  \\\n",
       "meanfreq  0.383937  0.274004  0.536666  0.229261  0.519528  0.515570   \n",
       "sd       -0.345609 -0.129662 -0.482726 -0.357667 -0.482278 -0.475999   \n",
       "median    0.337602  0.251328  0.455943  0.191169  0.438919  0.435621   \n",
       "Q25       0.320994  0.199841  0.467403  0.302255  0.459683  0.454394   \n",
       "Q75       0.258002  0.285584  0.359181 -0.023750  0.335114  0.335648   \n",
       "IQR      -0.222680 -0.069588 -0.333362 -0.357037 -0.337877 -0.331563   \n",
       "skew     -0.216954 -0.080861 -0.336848 -0.061608 -0.305651 -0.304640   \n",
       "kurt     -0.203201 -0.045667 -0.303234 -0.103313 -0.274500 -0.272729   \n",
       "sp.ent   -0.305826 -0.120738 -0.293562 -0.294869 -0.324253 -0.319054   \n",
       "sfm      -0.362100 -0.192369 -0.428442 -0.289593 -0.436649 -0.431580   \n",
       "mode      0.385467  0.172329  0.491479  0.198150  0.477187  0.473775   \n",
       "centroid  0.383937  0.274004  0.536666  0.229261  0.519528  0.515570   \n",
       "meanfun   0.339387  0.311950  0.270840  0.162163  0.277982  0.275154   \n",
       "minfun    1.000000  0.213987  0.375979  0.082015  0.317860  0.316486   \n",
       "maxfun    0.213987  1.000000  0.337553 -0.243426  0.355390  0.359880   \n",
       "meandom   0.375979  0.337553  1.000000  0.099656  0.812838  0.811304   \n",
       "mindom    0.082015 -0.243426  0.099656  1.000000  0.026640  0.008666   \n",
       "maxdom    0.317860  0.355390  0.812838  0.026640  1.000000  0.999838   \n",
       "dfrange   0.316486  0.359880  0.811304  0.008666  0.999838  1.000000   \n",
       "modindx   0.002042 -0.363029 -0.180954  0.200212 -0.425531 -0.429266   \n",
       "class     0.136692  0.166461  0.191067  0.194974  0.195657  0.192213   \n",
       "\n",
       "           modindx     class  \n",
       "meanfreq -0.216979  0.337415  \n",
       "sd        0.122660 -0.479539  \n",
       "median   -0.213298  0.283919  \n",
       "Q25      -0.141377  0.511455  \n",
       "Q75      -0.216475 -0.066906  \n",
       "IQR       0.041252 -0.618916  \n",
       "skew     -0.169325 -0.036627  \n",
       "kurt     -0.205539 -0.087195  \n",
       "sp.ent    0.198074 -0.490552  \n",
       "sfm       0.211477 -0.357499  \n",
       "mode     -0.182344  0.171775  \n",
       "centroid -0.216979  0.337415  \n",
       "meanfun  -0.054858  0.833921  \n",
       "minfun    0.002042  0.136692  \n",
       "maxfun   -0.363029  0.166461  \n",
       "meandom  -0.180954  0.191067  \n",
       "mindom    0.200212  0.194974  \n",
       "maxdom   -0.425531  0.195657  \n",
       "dfrange  -0.429266  0.192213  \n",
       "modindx   1.000000 -0.030801  \n",
       "class    -0.030801  1.000000  \n",
       "\n",
       "[21 rows x 21 columns]"
      ]
     },
     "execution_count": 7,
     "metadata": {},
     "output_type": "execute_result"
    }
   ],
   "source": [
    "mal_fem1.corr()"
   ]
  },
  {
   "cell_type": "code",
   "execution_count": 8,
   "metadata": {},
   "outputs": [
    {
     "data": {
      "text/html": [
       "<style  type=\"text/css\" >\n",
       "    #T_2f35cd26_6286_11ea_8429_98e7430917d3row0_col0 {\n",
       "            background-color:  #fde725;\n",
       "            color:  #000000;\n",
       "        }    #T_2f35cd26_6286_11ea_8429_98e7430917d3row0_col1 {\n",
       "            background-color:  #481769;\n",
       "            color:  #f1f1f1;\n",
       "        }    #T_2f35cd26_6286_11ea_8429_98e7430917d3row0_col2 {\n",
       "            background-color:  #450559;\n",
       "            color:  #f1f1f1;\n",
       "        }    #T_2f35cd26_6286_11ea_8429_98e7430917d3row0_col3 {\n",
       "            background-color:  #453781;\n",
       "            color:  #f1f1f1;\n",
       "        }    #T_2f35cd26_6286_11ea_8429_98e7430917d3row0_col4 {\n",
       "            background-color:  #d2e21b;\n",
       "            color:  #000000;\n",
       "        }    #T_2f35cd26_6286_11ea_8429_98e7430917d3row0_col5 {\n",
       "            background-color:  #1f958b;\n",
       "            color:  #000000;\n",
       "        }    #T_2f35cd26_6286_11ea_8429_98e7430917d3row0_col6 {\n",
       "            background-color:  #1f998a;\n",
       "            color:  #000000;\n",
       "        }    #T_2f35cd26_6286_11ea_8429_98e7430917d3row0_col7 {\n",
       "            background-color:  #8bd646;\n",
       "            color:  #000000;\n",
       "        }    #T_2f35cd26_6286_11ea_8429_98e7430917d3row0_col8 {\n",
       "            background-color:  #c2df23;\n",
       "            color:  #000000;\n",
       "        }    #T_2f35cd26_6286_11ea_8429_98e7430917d3row0_col9 {\n",
       "            background-color:  #440154;\n",
       "            color:  #f1f1f1;\n",
       "        }    #T_2f35cd26_6286_11ea_8429_98e7430917d3row0_col10 {\n",
       "            background-color:  #460a5d;\n",
       "            color:  #f1f1f1;\n",
       "        }    #T_2f35cd26_6286_11ea_8429_98e7430917d3row0_col11 {\n",
       "            background-color:  #471164;\n",
       "            color:  #f1f1f1;\n",
       "        }    #T_2f35cd26_6286_11ea_8429_98e7430917d3row0_col12 {\n",
       "            background-color:  #450559;\n",
       "            color:  #f1f1f1;\n",
       "        }    #T_2f35cd26_6286_11ea_8429_98e7430917d3row0_col13 {\n",
       "            background-color:  #443a83;\n",
       "            color:  #f1f1f1;\n",
       "        }    #T_2f35cd26_6286_11ea_8429_98e7430917d3row0_col14 {\n",
       "            background-color:  #440154;\n",
       "            color:  #f1f1f1;\n",
       "        }    #T_2f35cd26_6286_11ea_8429_98e7430917d3row0_col15 {\n",
       "            background-color:  #440154;\n",
       "            color:  #f1f1f1;\n",
       "        }    #T_2f35cd26_6286_11ea_8429_98e7430917d3row0_col16 {\n",
       "            background-color:  #440154;\n",
       "            color:  #f1f1f1;\n",
       "        }    #T_2f35cd26_6286_11ea_8429_98e7430917d3row0_col17 {\n",
       "            background-color:  #440154;\n",
       "            color:  #f1f1f1;\n",
       "        }    #T_2f35cd26_6286_11ea_8429_98e7430917d3row0_col18 {\n",
       "            background-color:  #2b748e;\n",
       "            color:  #f1f1f1;\n",
       "        }    #T_2f35cd26_6286_11ea_8429_98e7430917d3row1_col0 {\n",
       "            background-color:  #453581;\n",
       "            color:  #f1f1f1;\n",
       "        }    #T_2f35cd26_6286_11ea_8429_98e7430917d3row1_col1 {\n",
       "            background-color:  #fde725;\n",
       "            color:  #000000;\n",
       "        }    #T_2f35cd26_6286_11ea_8429_98e7430917d3row1_col2 {\n",
       "            background-color:  #b0dd2f;\n",
       "            color:  #000000;\n",
       "        }    #T_2f35cd26_6286_11ea_8429_98e7430917d3row1_col3 {\n",
       "            background-color:  #7fd34e;\n",
       "            color:  #000000;\n",
       "        }    #T_2f35cd26_6286_11ea_8429_98e7430917d3row1_col4 {\n",
       "            background-color:  #3f4788;\n",
       "            color:  #f1f1f1;\n",
       "        }    #T_2f35cd26_6286_11ea_8429_98e7430917d3row1_col5 {\n",
       "            background-color:  #472c7a;\n",
       "            color:  #f1f1f1;\n",
       "        }    #T_2f35cd26_6286_11ea_8429_98e7430917d3row1_col6 {\n",
       "            background-color:  #482979;\n",
       "            color:  #f1f1f1;\n",
       "        }    #T_2f35cd26_6286_11ea_8429_98e7430917d3row1_col7 {\n",
       "            background-color:  #482071;\n",
       "            color:  #f1f1f1;\n",
       "        }    #T_2f35cd26_6286_11ea_8429_98e7430917d3row1_col8 {\n",
       "            background-color:  #481a6c;\n",
       "            color:  #f1f1f1;\n",
       "        }    #T_2f35cd26_6286_11ea_8429_98e7430917d3row1_col9 {\n",
       "            background-color:  #73d056;\n",
       "            color:  #000000;\n",
       "        }    #T_2f35cd26_6286_11ea_8429_98e7430917d3row1_col10 {\n",
       "            background-color:  #e5e419;\n",
       "            color:  #000000;\n",
       "        }    #T_2f35cd26_6286_11ea_8429_98e7430917d3row1_col11 {\n",
       "            background-color:  #26ad81;\n",
       "            color:  #000000;\n",
       "        }    #T_2f35cd26_6286_11ea_8429_98e7430917d3row1_col12 {\n",
       "            background-color:  #20938c;\n",
       "            color:  #000000;\n",
       "        }    #T_2f35cd26_6286_11ea_8429_98e7430917d3row1_col13 {\n",
       "            background-color:  #25848e;\n",
       "            color:  #000000;\n",
       "        }    #T_2f35cd26_6286_11ea_8429_98e7430917d3row1_col14 {\n",
       "            background-color:  #2ab07f;\n",
       "            color:  #000000;\n",
       "        }    #T_2f35cd26_6286_11ea_8429_98e7430917d3row1_col15 {\n",
       "            background-color:  #29798e;\n",
       "            color:  #000000;\n",
       "        }    #T_2f35cd26_6286_11ea_8429_98e7430917d3row1_col16 {\n",
       "            background-color:  #27ad81;\n",
       "            color:  #000000;\n",
       "        }    #T_2f35cd26_6286_11ea_8429_98e7430917d3row1_col17 {\n",
       "            background-color:  #26ad81;\n",
       "            color:  #000000;\n",
       "        }    #T_2f35cd26_6286_11ea_8429_98e7430917d3row1_col18 {\n",
       "            background-color:  #463480;\n",
       "            color:  #f1f1f1;\n",
       "        }    #T_2f35cd26_6286_11ea_8429_98e7430917d3row2_col0 {\n",
       "            background-color:  #440154;\n",
       "            color:  #f1f1f1;\n",
       "        }    #T_2f35cd26_6286_11ea_8429_98e7430917d3row2_col1 {\n",
       "            background-color:  #a5db36;\n",
       "            color:  #000000;\n",
       "        }    #T_2f35cd26_6286_11ea_8429_98e7430917d3row2_col2 {\n",
       "            background-color:  #fde725;\n",
       "            color:  #000000;\n",
       "        }    #T_2f35cd26_6286_11ea_8429_98e7430917d3row2_col3 {\n",
       "            background-color:  #26ad81;\n",
       "            color:  #000000;\n",
       "        }    #T_2f35cd26_6286_11ea_8429_98e7430917d3row2_col4 {\n",
       "            background-color:  #440154;\n",
       "            color:  #f1f1f1;\n",
       "        }    #T_2f35cd26_6286_11ea_8429_98e7430917d3row2_col5 {\n",
       "            background-color:  #481d6f;\n",
       "            color:  #f1f1f1;\n",
       "        }    #T_2f35cd26_6286_11ea_8429_98e7430917d3row2_col6 {\n",
       "            background-color:  #471063;\n",
       "            color:  #f1f1f1;\n",
       "        }    #T_2f35cd26_6286_11ea_8429_98e7430917d3row2_col7 {\n",
       "            background-color:  #440154;\n",
       "            color:  #f1f1f1;\n",
       "        }    #T_2f35cd26_6286_11ea_8429_98e7430917d3row2_col8 {\n",
       "            background-color:  #450457;\n",
       "            color:  #f1f1f1;\n",
       "        }    #T_2f35cd26_6286_11ea_8429_98e7430917d3row2_col9 {\n",
       "            background-color:  #54c568;\n",
       "            color:  #000000;\n",
       "        }    #T_2f35cd26_6286_11ea_8429_98e7430917d3row2_col10 {\n",
       "            background-color:  #dfe318;\n",
       "            color:  #000000;\n",
       "        }    #T_2f35cd26_6286_11ea_8429_98e7430917d3row2_col11 {\n",
       "            background-color:  #46c06f;\n",
       "            color:  #000000;\n",
       "        }    #T_2f35cd26_6286_11ea_8429_98e7430917d3row2_col12 {\n",
       "            background-color:  #21918c;\n",
       "            color:  #000000;\n",
       "        }    #T_2f35cd26_6286_11ea_8429_98e7430917d3row2_col13 {\n",
       "            background-color:  #297b8e;\n",
       "            color:  #000000;\n",
       "        }    #T_2f35cd26_6286_11ea_8429_98e7430917d3row2_col14 {\n",
       "            background-color:  #2db27d;\n",
       "            color:  #000000;\n",
       "        }    #T_2f35cd26_6286_11ea_8429_98e7430917d3row2_col15 {\n",
       "            background-color:  #228d8d;\n",
       "            color:  #000000;\n",
       "        }    #T_2f35cd26_6286_11ea_8429_98e7430917d3row2_col16 {\n",
       "            background-color:  #2ab07f;\n",
       "            color:  #000000;\n",
       "        }    #T_2f35cd26_6286_11ea_8429_98e7430917d3row2_col17 {\n",
       "            background-color:  #29af7f;\n",
       "            color:  #000000;\n",
       "        }    #T_2f35cd26_6286_11ea_8429_98e7430917d3row2_col18 {\n",
       "            background-color:  #414487;\n",
       "            color:  #f1f1f1;\n",
       "        }    #T_2f35cd26_6286_11ea_8429_98e7430917d3row3_col0 {\n",
       "            background-color:  #2c718e;\n",
       "            color:  #f1f1f1;\n",
       "        }    #T_2f35cd26_6286_11ea_8429_98e7430917d3row3_col1 {\n",
       "            background-color:  #93d741;\n",
       "            color:  #000000;\n",
       "        }    #T_2f35cd26_6286_11ea_8429_98e7430917d3row3_col2 {\n",
       "            background-color:  #4ec36b;\n",
       "            color:  #000000;\n",
       "        }    #T_2f35cd26_6286_11ea_8429_98e7430917d3row3_col3 {\n",
       "            background-color:  #fde725;\n",
       "            color:  #000000;\n",
       "        }    #T_2f35cd26_6286_11ea_8429_98e7430917d3row3_col4 {\n",
       "            background-color:  #23898e;\n",
       "            color:  #000000;\n",
       "        }    #T_2f35cd26_6286_11ea_8429_98e7430917d3row3_col5 {\n",
       "            background-color:  #453781;\n",
       "            color:  #f1f1f1;\n",
       "        }    #T_2f35cd26_6286_11ea_8429_98e7430917d3row3_col6 {\n",
       "            background-color:  #433e85;\n",
       "            color:  #f1f1f1;\n",
       "        }    #T_2f35cd26_6286_11ea_8429_98e7430917d3row3_col7 {\n",
       "            background-color:  #365c8d;\n",
       "            color:  #f1f1f1;\n",
       "        }    #T_2f35cd26_6286_11ea_8429_98e7430917d3row3_col8 {\n",
       "            background-color:  #3e4c8a;\n",
       "            color:  #f1f1f1;\n",
       "        }    #T_2f35cd26_6286_11ea_8429_98e7430917d3row3_col9 {\n",
       "            background-color:  #35b779;\n",
       "            color:  #000000;\n",
       "        }    #T_2f35cd26_6286_11ea_8429_98e7430917d3row3_col10 {\n",
       "            background-color:  #9dd93b;\n",
       "            color:  #000000;\n",
       "        }    #T_2f35cd26_6286_11ea_8429_98e7430917d3row3_col11 {\n",
       "            background-color:  #25848e;\n",
       "            color:  #000000;\n",
       "        }    #T_2f35cd26_6286_11ea_8429_98e7430917d3row3_col12 {\n",
       "            background-color:  #25858e;\n",
       "            color:  #000000;\n",
       "        }    #T_2f35cd26_6286_11ea_8429_98e7430917d3row3_col13 {\n",
       "            background-color:  #238a8d;\n",
       "            color:  #000000;\n",
       "        }    #T_2f35cd26_6286_11ea_8429_98e7430917d3row3_col14 {\n",
       "            background-color:  #1fa188;\n",
       "            color:  #000000;\n",
       "        }    #T_2f35cd26_6286_11ea_8429_98e7430917d3row3_col15 {\n",
       "            background-color:  #3c508b;\n",
       "            color:  #f1f1f1;\n",
       "        }    #T_2f35cd26_6286_11ea_8429_98e7430917d3row3_col16 {\n",
       "            background-color:  #1e9d89;\n",
       "            color:  #000000;\n",
       "        }    #T_2f35cd26_6286_11ea_8429_98e7430917d3row3_col17 {\n",
       "            background-color:  #1e9c89;\n",
       "            color:  #000000;\n",
       "        }    #T_2f35cd26_6286_11ea_8429_98e7430917d3row3_col18 {\n",
       "            background-color:  #463480;\n",
       "            color:  #f1f1f1;\n",
       "        }    #T_2f35cd26_6286_11ea_8429_98e7430917d3row4_col0 {\n",
       "            background-color:  #d2e21b;\n",
       "            color:  #000000;\n",
       "        }    #T_2f35cd26_6286_11ea_8429_98e7430917d3row4_col1 {\n",
       "            background-color:  #482878;\n",
       "            color:  #f1f1f1;\n",
       "        }    #T_2f35cd26_6286_11ea_8429_98e7430917d3row4_col2 {\n",
       "            background-color:  #440154;\n",
       "            color:  #f1f1f1;\n",
       "        }    #T_2f35cd26_6286_11ea_8429_98e7430917d3row4_col3 {\n",
       "            background-color:  #375b8d;\n",
       "            color:  #f1f1f1;\n",
       "        }    #T_2f35cd26_6286_11ea_8429_98e7430917d3row4_col4 {\n",
       "            background-color:  #fde725;\n",
       "            color:  #000000;\n",
       "        }    #T_2f35cd26_6286_11ea_8429_98e7430917d3row4_col5 {\n",
       "            background-color:  #228b8d;\n",
       "            color:  #000000;\n",
       "        }    #T_2f35cd26_6286_11ea_8429_98e7430917d3row4_col6 {\n",
       "            background-color:  #20938c;\n",
       "            color:  #000000;\n",
       "        }    #T_2f35cd26_6286_11ea_8429_98e7430917d3row4_col7 {\n",
       "            background-color:  #70cf57;\n",
       "            color:  #000000;\n",
       "        }    #T_2f35cd26_6286_11ea_8429_98e7430917d3row4_col8 {\n",
       "            background-color:  #81d34d;\n",
       "            color:  #000000;\n",
       "        }    #T_2f35cd26_6286_11ea_8429_98e7430917d3row4_col9 {\n",
       "            background-color:  #481d6f;\n",
       "            color:  #f1f1f1;\n",
       "        }    #T_2f35cd26_6286_11ea_8429_98e7430917d3row4_col10 {\n",
       "            background-color:  #482071;\n",
       "            color:  #f1f1f1;\n",
       "        }    #T_2f35cd26_6286_11ea_8429_98e7430917d3row4_col11 {\n",
       "            background-color:  #440154;\n",
       "            color:  #f1f1f1;\n",
       "        }    #T_2f35cd26_6286_11ea_8429_98e7430917d3row4_col12 {\n",
       "            background-color:  #482576;\n",
       "            color:  #f1f1f1;\n",
       "        }    #T_2f35cd26_6286_11ea_8429_98e7430917d3row4_col13 {\n",
       "            background-color:  #3f4889;\n",
       "            color:  #f1f1f1;\n",
       "        }    #T_2f35cd26_6286_11ea_8429_98e7430917d3row4_col14 {\n",
       "            background-color:  #482475;\n",
       "            color:  #f1f1f1;\n",
       "        }    #T_2f35cd26_6286_11ea_8429_98e7430917d3row4_col15 {\n",
       "            background-color:  #440154;\n",
       "            color:  #f1f1f1;\n",
       "        }    #T_2f35cd26_6286_11ea_8429_98e7430917d3row4_col16 {\n",
       "            background-color:  #482374;\n",
       "            color:  #f1f1f1;\n",
       "        }    #T_2f35cd26_6286_11ea_8429_98e7430917d3row4_col17 {\n",
       "            background-color:  #482475;\n",
       "            color:  #f1f1f1;\n",
       "        }    #T_2f35cd26_6286_11ea_8429_98e7430917d3row4_col18 {\n",
       "            background-color:  #31678e;\n",
       "            color:  #f1f1f1;\n",
       "        }    #T_2f35cd26_6286_11ea_8429_98e7430917d3row5_col0 {\n",
       "            background-color:  #28ae80;\n",
       "            color:  #000000;\n",
       "        }    #T_2f35cd26_6286_11ea_8429_98e7430917d3row5_col1 {\n",
       "            background-color:  #3c508b;\n",
       "            color:  #f1f1f1;\n",
       "        }    #T_2f35cd26_6286_11ea_8429_98e7430917d3row5_col2 {\n",
       "            background-color:  #355e8d;\n",
       "            color:  #f1f1f1;\n",
       "        }    #T_2f35cd26_6286_11ea_8429_98e7430917d3row5_col3 {\n",
       "            background-color:  #472c7a;\n",
       "            color:  #f1f1f1;\n",
       "        }    #T_2f35cd26_6286_11ea_8429_98e7430917d3row5_col4 {\n",
       "            background-color:  #22a884;\n",
       "            color:  #000000;\n",
       "        }    #T_2f35cd26_6286_11ea_8429_98e7430917d3row5_col5 {\n",
       "            background-color:  #fde725;\n",
       "            color:  #000000;\n",
       "        }    #T_2f35cd26_6286_11ea_8429_98e7430917d3row5_col6 {\n",
       "            background-color:  #f4e61e;\n",
       "            color:  #000000;\n",
       "        }    #T_2f35cd26_6286_11ea_8429_98e7430917d3row5_col7 {\n",
       "            background-color:  #38598c;\n",
       "            color:  #f1f1f1;\n",
       "        }    #T_2f35cd26_6286_11ea_8429_98e7430917d3row5_col8 {\n",
       "            background-color:  #228c8d;\n",
       "            color:  #000000;\n",
       "        }    #T_2f35cd26_6286_11ea_8429_98e7430917d3row5_col9 {\n",
       "            background-color:  #481769;\n",
       "            color:  #f1f1f1;\n",
       "        }    #T_2f35cd26_6286_11ea_8429_98e7430917d3row5_col10 {\n",
       "            background-color:  #3a548c;\n",
       "            color:  #f1f1f1;\n",
       "        }    #T_2f35cd26_6286_11ea_8429_98e7430917d3row5_col11 {\n",
       "            background-color:  #3c4f8a;\n",
       "            color:  #f1f1f1;\n",
       "        }    #T_2f35cd26_6286_11ea_8429_98e7430917d3row5_col12 {\n",
       "            background-color:  #482677;\n",
       "            color:  #f1f1f1;\n",
       "        }    #T_2f35cd26_6286_11ea_8429_98e7430917d3row5_col13 {\n",
       "            background-color:  #404588;\n",
       "            color:  #f1f1f1;\n",
       "        }    #T_2f35cd26_6286_11ea_8429_98e7430917d3row5_col14 {\n",
       "            background-color:  #482475;\n",
       "            color:  #f1f1f1;\n",
       "        }    #T_2f35cd26_6286_11ea_8429_98e7430917d3row5_col15 {\n",
       "            background-color:  #3f4889;\n",
       "            color:  #f1f1f1;\n",
       "        }    #T_2f35cd26_6286_11ea_8429_98e7430917d3row5_col16 {\n",
       "            background-color:  #472a7a;\n",
       "            color:  #f1f1f1;\n",
       "        }    #T_2f35cd26_6286_11ea_8429_98e7430917d3row5_col17 {\n",
       "            background-color:  #482979;\n",
       "            color:  #f1f1f1;\n",
       "        }    #T_2f35cd26_6286_11ea_8429_98e7430917d3row5_col18 {\n",
       "            background-color:  #433e85;\n",
       "            color:  #f1f1f1;\n",
       "        }    #T_2f35cd26_6286_11ea_8429_98e7430917d3row6_col0 {\n",
       "            background-color:  #2eb37c;\n",
       "            color:  #000000;\n",
       "        }    #T_2f35cd26_6286_11ea_8429_98e7430917d3row6_col1 {\n",
       "            background-color:  #3b528b;\n",
       "            color:  #f1f1f1;\n",
       "        }    #T_2f35cd26_6286_11ea_8429_98e7430917d3row6_col2 {\n",
       "            background-color:  #375a8c;\n",
       "            color:  #f1f1f1;\n",
       "        }    #T_2f35cd26_6286_11ea_8429_98e7430917d3row6_col3 {\n",
       "            background-color:  #443983;\n",
       "            color:  #f1f1f1;\n",
       "        }    #T_2f35cd26_6286_11ea_8429_98e7430917d3row6_col4 {\n",
       "            background-color:  #2ab07f;\n",
       "            color:  #000000;\n",
       "        }    #T_2f35cd26_6286_11ea_8429_98e7430917d3row6_col5 {\n",
       "            background-color:  #f4e61e;\n",
       "            color:  #000000;\n",
       "        }    #T_2f35cd26_6286_11ea_8429_98e7430917d3row6_col6 {\n",
       "            background-color:  #fde725;\n",
       "            color:  #000000;\n",
       "        }    #T_2f35cd26_6286_11ea_8429_98e7430917d3row6_col7 {\n",
       "            background-color:  #33638d;\n",
       "            color:  #f1f1f1;\n",
       "        }    #T_2f35cd26_6286_11ea_8429_98e7430917d3row6_col8 {\n",
       "            background-color:  #21918c;\n",
       "            color:  #000000;\n",
       "        }    #T_2f35cd26_6286_11ea_8429_98e7430917d3row6_col9 {\n",
       "            background-color:  #481d6f;\n",
       "            color:  #f1f1f1;\n",
       "        }    #T_2f35cd26_6286_11ea_8429_98e7430917d3row6_col10 {\n",
       "            background-color:  #39558c;\n",
       "            color:  #f1f1f1;\n",
       "        }    #T_2f35cd26_6286_11ea_8429_98e7430917d3row6_col11 {\n",
       "            background-color:  #3e4989;\n",
       "            color:  #f1f1f1;\n",
       "        }    #T_2f35cd26_6286_11ea_8429_98e7430917d3row6_col12 {\n",
       "            background-color:  #482979;\n",
       "            color:  #f1f1f1;\n",
       "        }    #T_2f35cd26_6286_11ea_8429_98e7430917d3row6_col13 {\n",
       "            background-color:  #3d4d8a;\n",
       "            color:  #f1f1f1;\n",
       "        }    #T_2f35cd26_6286_11ea_8429_98e7430917d3row6_col14 {\n",
       "            background-color:  #472a7a;\n",
       "            color:  #f1f1f1;\n",
       "        }    #T_2f35cd26_6286_11ea_8429_98e7430917d3row6_col15 {\n",
       "            background-color:  #423f85;\n",
       "            color:  #f1f1f1;\n",
       "        }    #T_2f35cd26_6286_11ea_8429_98e7430917d3row6_col16 {\n",
       "            background-color:  #46307e;\n",
       "            color:  #f1f1f1;\n",
       "        }    #T_2f35cd26_6286_11ea_8429_98e7430917d3row6_col17 {\n",
       "            background-color:  #46307e;\n",
       "            color:  #f1f1f1;\n",
       "        }    #T_2f35cd26_6286_11ea_8429_98e7430917d3row6_col18 {\n",
       "            background-color:  #453781;\n",
       "            color:  #f1f1f1;\n",
       "        }    #T_2f35cd26_6286_11ea_8429_98e7430917d3row7_col0 {\n",
       "            background-color:  #98d83e;\n",
       "            color:  #000000;\n",
       "        }    #T_2f35cd26_6286_11ea_8429_98e7430917d3row7_col1 {\n",
       "            background-color:  #482374;\n",
       "            color:  #f1f1f1;\n",
       "        }    #T_2f35cd26_6286_11ea_8429_98e7430917d3row7_col2 {\n",
       "            background-color:  #472a7a;\n",
       "            color:  #f1f1f1;\n",
       "        }    #T_2f35cd26_6286_11ea_8429_98e7430917d3row7_col3 {\n",
       "            background-color:  #46337f;\n",
       "            color:  #f1f1f1;\n",
       "        }    #T_2f35cd26_6286_11ea_8429_98e7430917d3row7_col4 {\n",
       "            background-color:  #7fd34e;\n",
       "            color:  #000000;\n",
       "        }    #T_2f35cd26_6286_11ea_8429_98e7430917d3row7_col5 {\n",
       "            background-color:  #443983;\n",
       "            color:  #f1f1f1;\n",
       "        }    #T_2f35cd26_6286_11ea_8429_98e7430917d3row7_col6 {\n",
       "            background-color:  #414287;\n",
       "            color:  #f1f1f1;\n",
       "        }    #T_2f35cd26_6286_11ea_8429_98e7430917d3row7_col7 {\n",
       "            background-color:  #fde725;\n",
       "            color:  #000000;\n",
       "        }    #T_2f35cd26_6286_11ea_8429_98e7430917d3row7_col8 {\n",
       "            background-color:  #cde11d;\n",
       "            color:  #000000;\n",
       "        }    #T_2f35cd26_6286_11ea_8429_98e7430917d3row7_col9 {\n",
       "            background-color:  #472f7d;\n",
       "            color:  #f1f1f1;\n",
       "        }    #T_2f35cd26_6286_11ea_8429_98e7430917d3row7_col10 {\n",
       "            background-color:  #482576;\n",
       "            color:  #f1f1f1;\n",
       "        }    #T_2f35cd26_6286_11ea_8429_98e7430917d3row7_col11 {\n",
       "            background-color:  #450559;\n",
       "            color:  #f1f1f1;\n",
       "        }    #T_2f35cd26_6286_11ea_8429_98e7430917d3row7_col12 {\n",
       "            background-color:  #471063;\n",
       "            color:  #f1f1f1;\n",
       "        }    #T_2f35cd26_6286_11ea_8429_98e7430917d3row7_col13 {\n",
       "            background-color:  #433d84;\n",
       "            color:  #f1f1f1;\n",
       "        }    #T_2f35cd26_6286_11ea_8429_98e7430917d3row7_col14 {\n",
       "            background-color:  #472d7b;\n",
       "            color:  #f1f1f1;\n",
       "        }    #T_2f35cd26_6286_11ea_8429_98e7430917d3row7_col15 {\n",
       "            background-color:  #471164;\n",
       "            color:  #f1f1f1;\n",
       "        }    #T_2f35cd26_6286_11ea_8429_98e7430917d3row7_col16 {\n",
       "            background-color:  #482677;\n",
       "            color:  #f1f1f1;\n",
       "        }    #T_2f35cd26_6286_11ea_8429_98e7430917d3row7_col17 {\n",
       "            background-color:  #482677;\n",
       "            color:  #f1f1f1;\n",
       "        }    #T_2f35cd26_6286_11ea_8429_98e7430917d3row7_col18 {\n",
       "            background-color:  #26828e;\n",
       "            color:  #000000;\n",
       "        }    #T_2f35cd26_6286_11ea_8429_98e7430917d3row8_col0 {\n",
       "            background-color:  #c5e021;\n",
       "            color:  #000000;\n",
       "        }    #T_2f35cd26_6286_11ea_8429_98e7430917d3row8_col1 {\n",
       "            background-color:  #440154;\n",
       "            color:  #f1f1f1;\n",
       "        }    #T_2f35cd26_6286_11ea_8429_98e7430917d3row8_col2 {\n",
       "            background-color:  #481668;\n",
       "            color:  #f1f1f1;\n",
       "        }    #T_2f35cd26_6286_11ea_8429_98e7430917d3row8_col3 {\n",
       "            background-color:  #440154;\n",
       "            color:  #f1f1f1;\n",
       "        }    #T_2f35cd26_6286_11ea_8429_98e7430917d3row8_col4 {\n",
       "            background-color:  #89d548;\n",
       "            color:  #000000;\n",
       "        }    #T_2f35cd26_6286_11ea_8429_98e7430917d3row8_col5 {\n",
       "            background-color:  #2e6e8e;\n",
       "            color:  #f1f1f1;\n",
       "        }    #T_2f35cd26_6286_11ea_8429_98e7430917d3row8_col6 {\n",
       "            background-color:  #2d718e;\n",
       "            color:  #f1f1f1;\n",
       "        }    #T_2f35cd26_6286_11ea_8429_98e7430917d3row8_col7 {\n",
       "            background-color:  #cae11f;\n",
       "            color:  #000000;\n",
       "        }    #T_2f35cd26_6286_11ea_8429_98e7430917d3row8_col8 {\n",
       "            background-color:  #fde725;\n",
       "            color:  #000000;\n",
       "        }    #T_2f35cd26_6286_11ea_8429_98e7430917d3row8_col9 {\n",
       "            background-color:  #460b5e;\n",
       "            color:  #f1f1f1;\n",
       "        }    #T_2f35cd26_6286_11ea_8429_98e7430917d3row8_col10 {\n",
       "            background-color:  #440154;\n",
       "            color:  #f1f1f1;\n",
       "        }    #T_2f35cd26_6286_11ea_8429_98e7430917d3row8_col11 {\n",
       "            background-color:  #481b6d;\n",
       "            color:  #f1f1f1;\n",
       "        }    #T_2f35cd26_6286_11ea_8429_98e7430917d3row8_col12 {\n",
       "            background-color:  #440154;\n",
       "            color:  #f1f1f1;\n",
       "        }    #T_2f35cd26_6286_11ea_8429_98e7430917d3row8_col13 {\n",
       "            background-color:  #472d7b;\n",
       "            color:  #f1f1f1;\n",
       "        }    #T_2f35cd26_6286_11ea_8429_98e7430917d3row8_col14 {\n",
       "            background-color:  #470e61;\n",
       "            color:  #f1f1f1;\n",
       "        }    #T_2f35cd26_6286_11ea_8429_98e7430917d3row8_col15 {\n",
       "            background-color:  #471365;\n",
       "            color:  #f1f1f1;\n",
       "        }    #T_2f35cd26_6286_11ea_8429_98e7430917d3row8_col16 {\n",
       "            background-color:  #460b5e;\n",
       "            color:  #f1f1f1;\n",
       "        }    #T_2f35cd26_6286_11ea_8429_98e7430917d3row8_col17 {\n",
       "            background-color:  #460b5e;\n",
       "            color:  #f1f1f1;\n",
       "        }    #T_2f35cd26_6286_11ea_8429_98e7430917d3row8_col18 {\n",
       "            background-color:  #25838e;\n",
       "            color:  #000000;\n",
       "        }    #T_2f35cd26_6286_11ea_8429_98e7430917d3row9_col0 {\n",
       "            background-color:  #443b84;\n",
       "            color:  #f1f1f1;\n",
       "        }    #T_2f35cd26_6286_11ea_8429_98e7430917d3row9_col1 {\n",
       "            background-color:  #7fd34e;\n",
       "            color:  #000000;\n",
       "        }    #T_2f35cd26_6286_11ea_8429_98e7430917d3row9_col2 {\n",
       "            background-color:  #70cf57;\n",
       "            color:  #000000;\n",
       "        }    #T_2f35cd26_6286_11ea_8429_98e7430917d3row9_col3 {\n",
       "            background-color:  #28ae80;\n",
       "            color:  #000000;\n",
       "        }    #T_2f35cd26_6286_11ea_8429_98e7430917d3row9_col4 {\n",
       "            background-color:  #3b528b;\n",
       "            color:  #f1f1f1;\n",
       "        }    #T_2f35cd26_6286_11ea_8429_98e7430917d3row9_col5 {\n",
       "            background-color:  #440154;\n",
       "            color:  #f1f1f1;\n",
       "        }    #T_2f35cd26_6286_11ea_8429_98e7430917d3row9_col6 {\n",
       "            background-color:  #440154;\n",
       "            color:  #f1f1f1;\n",
       "        }    #T_2f35cd26_6286_11ea_8429_98e7430917d3row9_col7 {\n",
       "            background-color:  #414287;\n",
       "            color:  #f1f1f1;\n",
       "        }    #T_2f35cd26_6286_11ea_8429_98e7430917d3row9_col8 {\n",
       "            background-color:  #443983;\n",
       "            color:  #f1f1f1;\n",
       "        }    #T_2f35cd26_6286_11ea_8429_98e7430917d3row9_col9 {\n",
       "            background-color:  #fde725;\n",
       "            color:  #000000;\n",
       "        }    #T_2f35cd26_6286_11ea_8429_98e7430917d3row9_col10 {\n",
       "            background-color:  #8bd646;\n",
       "            color:  #000000;\n",
       "        }    #T_2f35cd26_6286_11ea_8429_98e7430917d3row9_col11 {\n",
       "            background-color:  #1f9f88;\n",
       "            color:  #000000;\n",
       "        }    #T_2f35cd26_6286_11ea_8429_98e7430917d3row9_col12 {\n",
       "            background-color:  #1e9c89;\n",
       "            color:  #000000;\n",
       "        }    #T_2f35cd26_6286_11ea_8429_98e7430917d3row9_col13 {\n",
       "            background-color:  #2a768e;\n",
       "            color:  #f1f1f1;\n",
       "        }    #T_2f35cd26_6286_11ea_8429_98e7430917d3row9_col14 {\n",
       "            background-color:  #32b67a;\n",
       "            color:  #000000;\n",
       "        }    #T_2f35cd26_6286_11ea_8429_98e7430917d3row9_col15 {\n",
       "            background-color:  #297a8e;\n",
       "            color:  #000000;\n",
       "        }    #T_2f35cd26_6286_11ea_8429_98e7430917d3row9_col16 {\n",
       "            background-color:  #2eb37c;\n",
       "            color:  #000000;\n",
       "        }    #T_2f35cd26_6286_11ea_8429_98e7430917d3row9_col17 {\n",
       "            background-color:  #2db27d;\n",
       "            color:  #000000;\n",
       "        }    #T_2f35cd26_6286_11ea_8429_98e7430917d3row9_col18 {\n",
       "            background-color:  #443b84;\n",
       "            color:  #f1f1f1;\n",
       "        }    #T_2f35cd26_6286_11ea_8429_98e7430917d3row10_col0 {\n",
       "            background-color:  #481668;\n",
       "            color:  #f1f1f1;\n",
       "        }    #T_2f35cd26_6286_11ea_8429_98e7430917d3row10_col1 {\n",
       "            background-color:  #e2e418;\n",
       "            color:  #000000;\n",
       "        }    #T_2f35cd26_6286_11ea_8429_98e7430917d3row10_col2 {\n",
       "            background-color:  #dfe318;\n",
       "            color:  #000000;\n",
       "        }    #T_2f35cd26_6286_11ea_8429_98e7430917d3row10_col3 {\n",
       "            background-color:  #81d34d;\n",
       "            color:  #000000;\n",
       "        }    #T_2f35cd26_6286_11ea_8429_98e7430917d3row10_col4 {\n",
       "            background-color:  #472e7c;\n",
       "            color:  #f1f1f1;\n",
       "        }    #T_2f35cd26_6286_11ea_8429_98e7430917d3row10_col5 {\n",
       "            background-color:  #481d6f;\n",
       "            color:  #f1f1f1;\n",
       "        }    #T_2f35cd26_6286_11ea_8429_98e7430917d3row10_col6 {\n",
       "            background-color:  #48186a;\n",
       "            color:  #f1f1f1;\n",
       "        }    #T_2f35cd26_6286_11ea_8429_98e7430917d3row10_col7 {\n",
       "            background-color:  #460b5e;\n",
       "            color:  #f1f1f1;\n",
       "        }    #T_2f35cd26_6286_11ea_8429_98e7430917d3row10_col8 {\n",
       "            background-color:  #440154;\n",
       "            color:  #f1f1f1;\n",
       "        }    #T_2f35cd26_6286_11ea_8429_98e7430917d3row10_col9 {\n",
       "            background-color:  #77d153;\n",
       "            color:  #000000;\n",
       "        }    #T_2f35cd26_6286_11ea_8429_98e7430917d3row10_col10 {\n",
       "            background-color:  #fde725;\n",
       "            color:  #000000;\n",
       "        }    #T_2f35cd26_6286_11ea_8429_98e7430917d3row10_col11 {\n",
       "            background-color:  #2fb47c;\n",
       "            color:  #000000;\n",
       "        }    #T_2f35cd26_6286_11ea_8429_98e7430917d3row10_col12 {\n",
       "            background-color:  #1e9c89;\n",
       "            color:  #000000;\n",
       "        }    #T_2f35cd26_6286_11ea_8429_98e7430917d3row10_col13 {\n",
       "            background-color:  #23888e;\n",
       "            color:  #000000;\n",
       "        }    #T_2f35cd26_6286_11ea_8429_98e7430917d3row10_col14 {\n",
       "            background-color:  #3fbc73;\n",
       "            color:  #000000;\n",
       "        }    #T_2f35cd26_6286_11ea_8429_98e7430917d3row10_col15 {\n",
       "            background-color:  #27808e;\n",
       "            color:  #000000;\n",
       "        }    #T_2f35cd26_6286_11ea_8429_98e7430917d3row10_col16 {\n",
       "            background-color:  #3aba76;\n",
       "            color:  #000000;\n",
       "        }    #T_2f35cd26_6286_11ea_8429_98e7430917d3row10_col17 {\n",
       "            background-color:  #37b878;\n",
       "            color:  #000000;\n",
       "        }    #T_2f35cd26_6286_11ea_8429_98e7430917d3row10_col18 {\n",
       "            background-color:  #463480;\n",
       "            color:  #f1f1f1;\n",
       "        }    #T_2f35cd26_6286_11ea_8429_98e7430917d3row11_col0 {\n",
       "            background-color:  #404588;\n",
       "            color:  #f1f1f1;\n",
       "        }    #T_2f35cd26_6286_11ea_8429_98e7430917d3row11_col1 {\n",
       "            background-color:  #2eb37c;\n",
       "            color:  #000000;\n",
       "        }    #T_2f35cd26_6286_11ea_8429_98e7430917d3row11_col2 {\n",
       "            background-color:  #60ca60;\n",
       "            color:  #000000;\n",
       "        }    #T_2f35cd26_6286_11ea_8429_98e7430917d3row11_col3 {\n",
       "            background-color:  #2b758e;\n",
       "            color:  #f1f1f1;\n",
       "        }    #T_2f35cd26_6286_11ea_8429_98e7430917d3row11_col4 {\n",
       "            background-color:  #433e85;\n",
       "            color:  #f1f1f1;\n",
       "        }    #T_2f35cd26_6286_11ea_8429_98e7430917d3row11_col5 {\n",
       "            background-color:  #423f85;\n",
       "            color:  #f1f1f1;\n",
       "        }    #T_2f35cd26_6286_11ea_8429_98e7430917d3row11_col6 {\n",
       "            background-color:  #463480;\n",
       "            color:  #f1f1f1;\n",
       "        }    #T_2f35cd26_6286_11ea_8429_98e7430917d3row11_col7 {\n",
       "            background-color:  #481d6f;\n",
       "            color:  #f1f1f1;\n",
       "        }    #T_2f35cd26_6286_11ea_8429_98e7430917d3row11_col8 {\n",
       "            background-color:  #404588;\n",
       "            color:  #f1f1f1;\n",
       "        }    #T_2f35cd26_6286_11ea_8429_98e7430917d3row11_col9 {\n",
       "            background-color:  #1f9e89;\n",
       "            color:  #000000;\n",
       "        }    #T_2f35cd26_6286_11ea_8429_98e7430917d3row11_col10 {\n",
       "            background-color:  #42be71;\n",
       "            color:  #000000;\n",
       "        }    #T_2f35cd26_6286_11ea_8429_98e7430917d3row11_col11 {\n",
       "            background-color:  #fde725;\n",
       "            color:  #000000;\n",
       "        }    #T_2f35cd26_6286_11ea_8429_98e7430917d3row11_col12 {\n",
       "            background-color:  #20938c;\n",
       "            color:  #000000;\n",
       "        }    #T_2f35cd26_6286_11ea_8429_98e7430917d3row11_col13 {\n",
       "            background-color:  #218f8d;\n",
       "            color:  #000000;\n",
       "        }    #T_2f35cd26_6286_11ea_8429_98e7430917d3row11_col14 {\n",
       "            background-color:  #20928c;\n",
       "            color:  #000000;\n",
       "        }    #T_2f35cd26_6286_11ea_8429_98e7430917d3row11_col15 {\n",
       "            background-color:  #2b748e;\n",
       "            color:  #f1f1f1;\n",
       "        }    #T_2f35cd26_6286_11ea_8429_98e7430917d3row11_col16 {\n",
       "            background-color:  #20938c;\n",
       "            color:  #000000;\n",
       "        }    #T_2f35cd26_6286_11ea_8429_98e7430917d3row11_col17 {\n",
       "            background-color:  #20928c;\n",
       "            color:  #000000;\n",
       "        }    #T_2f35cd26_6286_11ea_8429_98e7430917d3row11_col18 {\n",
       "            background-color:  #39558c;\n",
       "            color:  #f1f1f1;\n",
       "        }    #T_2f35cd26_6286_11ea_8429_98e7430917d3row12_col0 {\n",
       "            background-color:  #38588c;\n",
       "            color:  #f1f1f1;\n",
       "        }    #T_2f35cd26_6286_11ea_8429_98e7430917d3row12_col1 {\n",
       "            background-color:  #22a884;\n",
       "            color:  #000000;\n",
       "        }    #T_2f35cd26_6286_11ea_8429_98e7430917d3row12_col2 {\n",
       "            background-color:  #2cb17e;\n",
       "            color:  #000000;\n",
       "        }    #T_2f35cd26_6286_11ea_8429_98e7430917d3row12_col3 {\n",
       "            background-color:  #24878e;\n",
       "            color:  #000000;\n",
       "        }    #T_2f35cd26_6286_11ea_8429_98e7430917d3row12_col4 {\n",
       "            background-color:  #2f6b8e;\n",
       "            color:  #f1f1f1;\n",
       "        }    #T_2f35cd26_6286_11ea_8429_98e7430917d3row12_col5 {\n",
       "            background-color:  #463480;\n",
       "            color:  #f1f1f1;\n",
       "        }    #T_2f35cd26_6286_11ea_8429_98e7430917d3row12_col6 {\n",
       "            background-color:  #46337f;\n",
       "            color:  #f1f1f1;\n",
       "        }    #T_2f35cd26_6286_11ea_8429_98e7430917d3row12_col7 {\n",
       "            background-color:  #404688;\n",
       "            color:  #f1f1f1;\n",
       "        }    #T_2f35cd26_6286_11ea_8429_98e7430917d3row12_col8 {\n",
       "            background-color:  #3d4e8a;\n",
       "            color:  #f1f1f1;\n",
       "        }    #T_2f35cd26_6286_11ea_8429_98e7430917d3row12_col9 {\n",
       "            background-color:  #22a884;\n",
       "            color:  #000000;\n",
       "        }    #T_2f35cd26_6286_11ea_8429_98e7430917d3row12_col10 {\n",
       "            background-color:  #31b57b;\n",
       "            color:  #000000;\n",
       "        }    #T_2f35cd26_6286_11ea_8429_98e7430917d3row12_col11 {\n",
       "            background-color:  #1fa188;\n",
       "            color:  #000000;\n",
       "        }    #T_2f35cd26_6286_11ea_8429_98e7430917d3row12_col12 {\n",
       "            background-color:  #fde725;\n",
       "            color:  #000000;\n",
       "        }    #T_2f35cd26_6286_11ea_8429_98e7430917d3row12_col13 {\n",
       "            background-color:  #277e8e;\n",
       "            color:  #000000;\n",
       "        }    #T_2f35cd26_6286_11ea_8429_98e7430917d3row12_col14 {\n",
       "            background-color:  #20a386;\n",
       "            color:  #000000;\n",
       "        }    #T_2f35cd26_6286_11ea_8429_98e7430917d3row12_col15 {\n",
       "            background-color:  #32658e;\n",
       "            color:  #f1f1f1;\n",
       "        }    #T_2f35cd26_6286_11ea_8429_98e7430917d3row12_col16 {\n",
       "            background-color:  #1f9a8a;\n",
       "            color:  #000000;\n",
       "        }    #T_2f35cd26_6286_11ea_8429_98e7430917d3row12_col17 {\n",
       "            background-color:  #1f998a;\n",
       "            color:  #000000;\n",
       "        }    #T_2f35cd26_6286_11ea_8429_98e7430917d3row12_col18 {\n",
       "            background-color:  #34608d;\n",
       "            color:  #f1f1f1;\n",
       "        }    #T_2f35cd26_6286_11ea_8429_98e7430917d3row13_col0 {\n",
       "            background-color:  #2b758e;\n",
       "            color:  #f1f1f1;\n",
       "        }    #T_2f35cd26_6286_11ea_8429_98e7430917d3row13_col1 {\n",
       "            background-color:  #1e9c89;\n",
       "            color:  #000000;\n",
       "        }    #T_2f35cd26_6286_11ea_8429_98e7430917d3row13_col2 {\n",
       "            background-color:  #1fa187;\n",
       "            color:  #000000;\n",
       "        }    #T_2f35cd26_6286_11ea_8429_98e7430917d3row13_col3 {\n",
       "            background-color:  #228c8d;\n",
       "            color:  #000000;\n",
       "        }    #T_2f35cd26_6286_11ea_8429_98e7430917d3row13_col4 {\n",
       "            background-color:  #277f8e;\n",
       "            color:  #000000;\n",
       "        }    #T_2f35cd26_6286_11ea_8429_98e7430917d3row13_col5 {\n",
       "            background-color:  #3b518b;\n",
       "            color:  #f1f1f1;\n",
       "        }    #T_2f35cd26_6286_11ea_8429_98e7430917d3row13_col6 {\n",
       "            background-color:  #3a538b;\n",
       "            color:  #f1f1f1;\n",
       "        }    #T_2f35cd26_6286_11ea_8429_98e7430917d3row13_col7 {\n",
       "            background-color:  #32648e;\n",
       "            color:  #f1f1f1;\n",
       "        }    #T_2f35cd26_6286_11ea_8429_98e7430917d3row13_col8 {\n",
       "            background-color:  #31678e;\n",
       "            color:  #f1f1f1;\n",
       "        }    #T_2f35cd26_6286_11ea_8429_98e7430917d3row13_col9 {\n",
       "            background-color:  #24868e;\n",
       "            color:  #000000;\n",
       "        }    #T_2f35cd26_6286_11ea_8429_98e7430917d3row13_col10 {\n",
       "            background-color:  #21a685;\n",
       "            color:  #000000;\n",
       "        }    #T_2f35cd26_6286_11ea_8429_98e7430917d3row13_col11 {\n",
       "            background-color:  #1e9d89;\n",
       "            color:  #000000;\n",
       "        }    #T_2f35cd26_6286_11ea_8429_98e7430917d3row13_col12 {\n",
       "            background-color:  #277e8e;\n",
       "            color:  #000000;\n",
       "        }    #T_2f35cd26_6286_11ea_8429_98e7430917d3row13_col13 {\n",
       "            background-color:  #fde725;\n",
       "            color:  #000000;\n",
       "        }    #T_2f35cd26_6286_11ea_8429_98e7430917d3row13_col14 {\n",
       "            background-color:  #1e9d89;\n",
       "            color:  #000000;\n",
       "        }    #T_2f35cd26_6286_11ea_8429_98e7430917d3row13_col15 {\n",
       "            background-color:  #481f70;\n",
       "            color:  #f1f1f1;\n",
       "        }    #T_2f35cd26_6286_11ea_8429_98e7430917d3row13_col16 {\n",
       "            background-color:  #1fa088;\n",
       "            color:  #000000;\n",
       "        }    #T_2f35cd26_6286_11ea_8429_98e7430917d3row13_col17 {\n",
       "            background-color:  #1fa088;\n",
       "            color:  #000000;\n",
       "        }    #T_2f35cd26_6286_11ea_8429_98e7430917d3row13_col18 {\n",
       "            background-color:  #471164;\n",
       "            color:  #f1f1f1;\n",
       "        }    #T_2f35cd26_6286_11ea_8429_98e7430917d3row14_col0 {\n",
       "            background-color:  #414287;\n",
       "            color:  #f1f1f1;\n",
       "        }    #T_2f35cd26_6286_11ea_8429_98e7430917d3row14_col1 {\n",
       "            background-color:  #38b977;\n",
       "            color:  #000000;\n",
       "        }    #T_2f35cd26_6286_11ea_8429_98e7430917d3row14_col2 {\n",
       "            background-color:  #4cc26c;\n",
       "            color:  #000000;\n",
       "        }    #T_2f35cd26_6286_11ea_8429_98e7430917d3row14_col3 {\n",
       "            background-color:  #1f988b;\n",
       "            color:  #000000;\n",
       "        }    #T_2f35cd26_6286_11ea_8429_98e7430917d3row14_col4 {\n",
       "            background-color:  #365c8d;\n",
       "            color:  #f1f1f1;\n",
       "        }    #T_2f35cd26_6286_11ea_8429_98e7430917d3row14_col5 {\n",
       "            background-color:  #481a6c;\n",
       "            color:  #f1f1f1;\n",
       "        }    #T_2f35cd26_6286_11ea_8429_98e7430917d3row14_col6 {\n",
       "            background-color:  #481b6d;\n",
       "            color:  #f1f1f1;\n",
       "        }    #T_2f35cd26_6286_11ea_8429_98e7430917d3row14_col7 {\n",
       "            background-color:  #3f4889;\n",
       "            color:  #f1f1f1;\n",
       "        }    #T_2f35cd26_6286_11ea_8429_98e7430917d3row14_col8 {\n",
       "            background-color:  #414487;\n",
       "            color:  #f1f1f1;\n",
       "        }    #T_2f35cd26_6286_11ea_8429_98e7430917d3row14_col9 {\n",
       "            background-color:  #35b779;\n",
       "            color:  #000000;\n",
       "        }    #T_2f35cd26_6286_11ea_8429_98e7430917d3row14_col10 {\n",
       "            background-color:  #58c765;\n",
       "            color:  #000000;\n",
       "        }    #T_2f35cd26_6286_11ea_8429_98e7430917d3row14_col11 {\n",
       "            background-color:  #1f968b;\n",
       "            color:  #000000;\n",
       "        }    #T_2f35cd26_6286_11ea_8429_98e7430917d3row14_col12 {\n",
       "            background-color:  #1f9a8a;\n",
       "            color:  #000000;\n",
       "        }    #T_2f35cd26_6286_11ea_8429_98e7430917d3row14_col13 {\n",
       "            background-color:  #20938c;\n",
       "            color:  #000000;\n",
       "        }    #T_2f35cd26_6286_11ea_8429_98e7430917d3row14_col14 {\n",
       "            background-color:  #fde725;\n",
       "            color:  #000000;\n",
       "        }    #T_2f35cd26_6286_11ea_8429_98e7430917d3row14_col15 {\n",
       "            background-color:  #30698e;\n",
       "            color:  #f1f1f1;\n",
       "        }    #T_2f35cd26_6286_11ea_8429_98e7430917d3row14_col16 {\n",
       "            background-color:  #aadc32;\n",
       "            color:  #000000;\n",
       "        }    #T_2f35cd26_6286_11ea_8429_98e7430917d3row14_col17 {\n",
       "            background-color:  #aadc32;\n",
       "            color:  #000000;\n",
       "        }    #T_2f35cd26_6286_11ea_8429_98e7430917d3row14_col18 {\n",
       "            background-color:  #443b84;\n",
       "            color:  #f1f1f1;\n",
       "        }    #T_2f35cd26_6286_11ea_8429_98e7430917d3row15_col0 {\n",
       "            background-color:  #39558c;\n",
       "            color:  #f1f1f1;\n",
       "        }    #T_2f35cd26_6286_11ea_8429_98e7430917d3row15_col1 {\n",
       "            background-color:  #20938c;\n",
       "            color:  #000000;\n",
       "        }    #T_2f35cd26_6286_11ea_8429_98e7430917d3row15_col2 {\n",
       "            background-color:  #28ae80;\n",
       "            color:  #000000;\n",
       "        }    #T_2f35cd26_6286_11ea_8429_98e7430917d3row15_col3 {\n",
       "            background-color:  #3a538b;\n",
       "            color:  #f1f1f1;\n",
       "        }    #T_2f35cd26_6286_11ea_8429_98e7430917d3row15_col4 {\n",
       "            background-color:  #38598c;\n",
       "            color:  #f1f1f1;\n",
       "        }    #T_2f35cd26_6286_11ea_8429_98e7430917d3row15_col5 {\n",
       "            background-color:  #3a548c;\n",
       "            color:  #f1f1f1;\n",
       "        }    #T_2f35cd26_6286_11ea_8429_98e7430917d3row15_col6 {\n",
       "            background-color:  #3f4889;\n",
       "            color:  #f1f1f1;\n",
       "        }    #T_2f35cd26_6286_11ea_8429_98e7430917d3row15_col7 {\n",
       "            background-color:  #3f4788;\n",
       "            color:  #f1f1f1;\n",
       "        }    #T_2f35cd26_6286_11ea_8429_98e7430917d3row15_col8 {\n",
       "            background-color:  #38598c;\n",
       "            color:  #f1f1f1;\n",
       "        }    #T_2f35cd26_6286_11ea_8429_98e7430917d3row15_col9 {\n",
       "            background-color:  #238a8d;\n",
       "            color:  #000000;\n",
       "        }    #T_2f35cd26_6286_11ea_8429_98e7430917d3row15_col10 {\n",
       "            background-color:  #1fa188;\n",
       "            color:  #000000;\n",
       "        }    #T_2f35cd26_6286_11ea_8429_98e7430917d3row15_col11 {\n",
       "            background-color:  #25858e;\n",
       "            color:  #000000;\n",
       "        }    #T_2f35cd26_6286_11ea_8429_98e7430917d3row15_col12 {\n",
       "            background-color:  #31668e;\n",
       "            color:  #f1f1f1;\n",
       "        }    #T_2f35cd26_6286_11ea_8429_98e7430917d3row15_col13 {\n",
       "            background-color:  #482071;\n",
       "            color:  #f1f1f1;\n",
       "        }    #T_2f35cd26_6286_11ea_8429_98e7430917d3row15_col14 {\n",
       "            background-color:  #2a768e;\n",
       "            color:  #f1f1f1;\n",
       "        }    #T_2f35cd26_6286_11ea_8429_98e7430917d3row15_col15 {\n",
       "            background-color:  #fde725;\n",
       "            color:  #000000;\n",
       "        }    #T_2f35cd26_6286_11ea_8429_98e7430917d3row15_col16 {\n",
       "            background-color:  #306a8e;\n",
       "            color:  #f1f1f1;\n",
       "        }    #T_2f35cd26_6286_11ea_8429_98e7430917d3row15_col17 {\n",
       "            background-color:  #31678e;\n",
       "            color:  #f1f1f1;\n",
       "        }    #T_2f35cd26_6286_11ea_8429_98e7430917d3row15_col18 {\n",
       "            background-color:  #26828e;\n",
       "            color:  #000000;\n",
       "        }    #T_2f35cd26_6286_11ea_8429_98e7430917d3row16_col0 {\n",
       "            background-color:  #414287;\n",
       "            color:  #f1f1f1;\n",
       "        }    #T_2f35cd26_6286_11ea_8429_98e7430917d3row16_col1 {\n",
       "            background-color:  #34b679;\n",
       "            color:  #000000;\n",
       "        }    #T_2f35cd26_6286_11ea_8429_98e7430917d3row16_col2 {\n",
       "            background-color:  #4ac16d;\n",
       "            color:  #000000;\n",
       "        }    #T_2f35cd26_6286_11ea_8429_98e7430917d3row16_col3 {\n",
       "            background-color:  #1f948c;\n",
       "            color:  #000000;\n",
       "        }    #T_2f35cd26_6286_11ea_8429_98e7430917d3row16_col4 {\n",
       "            background-color:  #365c8d;\n",
       "            color:  #f1f1f1;\n",
       "        }    #T_2f35cd26_6286_11ea_8429_98e7430917d3row16_col5 {\n",
       "            background-color:  #482173;\n",
       "            color:  #f1f1f1;\n",
       "        }    #T_2f35cd26_6286_11ea_8429_98e7430917d3row16_col6 {\n",
       "            background-color:  #482374;\n",
       "            color:  #f1f1f1;\n",
       "        }    #T_2f35cd26_6286_11ea_8429_98e7430917d3row16_col7 {\n",
       "            background-color:  #414287;\n",
       "            color:  #f1f1f1;\n",
       "        }    #T_2f35cd26_6286_11ea_8429_98e7430917d3row16_col8 {\n",
       "            background-color:  #424186;\n",
       "            color:  #f1f1f1;\n",
       "        }    #T_2f35cd26_6286_11ea_8429_98e7430917d3row16_col9 {\n",
       "            background-color:  #32b67a;\n",
       "            color:  #000000;\n",
       "        }    #T_2f35cd26_6286_11ea_8429_98e7430917d3row16_col10 {\n",
       "            background-color:  #54c568;\n",
       "            color:  #000000;\n",
       "        }    #T_2f35cd26_6286_11ea_8429_98e7430917d3row16_col11 {\n",
       "            background-color:  #1f978b;\n",
       "            color:  #000000;\n",
       "        }    #T_2f35cd26_6286_11ea_8429_98e7430917d3row16_col12 {\n",
       "            background-color:  #21908d;\n",
       "            color:  #000000;\n",
       "        }    #T_2f35cd26_6286_11ea_8429_98e7430917d3row16_col13 {\n",
       "            background-color:  #1f968b;\n",
       "            color:  #000000;\n",
       "        }    #T_2f35cd26_6286_11ea_8429_98e7430917d3row16_col14 {\n",
       "            background-color:  #aadc32;\n",
       "            color:  #000000;\n",
       "        }    #T_2f35cd26_6286_11ea_8429_98e7430917d3row16_col15 {\n",
       "            background-color:  #375b8d;\n",
       "            color:  #f1f1f1;\n",
       "        }    #T_2f35cd26_6286_11ea_8429_98e7430917d3row16_col16 {\n",
       "            background-color:  #fde725;\n",
       "            color:  #000000;\n",
       "        }    #T_2f35cd26_6286_11ea_8429_98e7430917d3row16_col17 {\n",
       "            background-color:  #fde725;\n",
       "            color:  #000000;\n",
       "        }    #T_2f35cd26_6286_11ea_8429_98e7430917d3row16_col18 {\n",
       "            background-color:  #440154;\n",
       "            color:  #f1f1f1;\n",
       "        }    #T_2f35cd26_6286_11ea_8429_98e7430917d3row17_col0 {\n",
       "            background-color:  #414487;\n",
       "            color:  #f1f1f1;\n",
       "        }    #T_2f35cd26_6286_11ea_8429_98e7430917d3row17_col1 {\n",
       "            background-color:  #34b679;\n",
       "            color:  #000000;\n",
       "        }    #T_2f35cd26_6286_11ea_8429_98e7430917d3row17_col2 {\n",
       "            background-color:  #48c16e;\n",
       "            color:  #000000;\n",
       "        }    #T_2f35cd26_6286_11ea_8429_98e7430917d3row17_col3 {\n",
       "            background-color:  #1f948c;\n",
       "            color:  #000000;\n",
       "        }    #T_2f35cd26_6286_11ea_8429_98e7430917d3row17_col4 {\n",
       "            background-color:  #365d8d;\n",
       "            color:  #f1f1f1;\n",
       "        }    #T_2f35cd26_6286_11ea_8429_98e7430917d3row17_col5 {\n",
       "            background-color:  #482173;\n",
       "            color:  #f1f1f1;\n",
       "        }    #T_2f35cd26_6286_11ea_8429_98e7430917d3row17_col6 {\n",
       "            background-color:  #482374;\n",
       "            color:  #f1f1f1;\n",
       "        }    #T_2f35cd26_6286_11ea_8429_98e7430917d3row17_col7 {\n",
       "            background-color:  #414487;\n",
       "            color:  #f1f1f1;\n",
       "        }    #T_2f35cd26_6286_11ea_8429_98e7430917d3row17_col8 {\n",
       "            background-color:  #414287;\n",
       "            color:  #f1f1f1;\n",
       "        }    #T_2f35cd26_6286_11ea_8429_98e7430917d3row17_col9 {\n",
       "            background-color:  #31b57b;\n",
       "            color:  #000000;\n",
       "        }    #T_2f35cd26_6286_11ea_8429_98e7430917d3row17_col10 {\n",
       "            background-color:  #52c569;\n",
       "            color:  #000000;\n",
       "        }    #T_2f35cd26_6286_11ea_8429_98e7430917d3row17_col11 {\n",
       "            background-color:  #1f978b;\n",
       "            color:  #000000;\n",
       "        }    #T_2f35cd26_6286_11ea_8429_98e7430917d3row17_col12 {\n",
       "            background-color:  #21908d;\n",
       "            color:  #000000;\n",
       "        }    #T_2f35cd26_6286_11ea_8429_98e7430917d3row17_col13 {\n",
       "            background-color:  #1f978b;\n",
       "            color:  #000000;\n",
       "        }    #T_2f35cd26_6286_11ea_8429_98e7430917d3row17_col14 {\n",
       "            background-color:  #aadc32;\n",
       "            color:  #000000;\n",
       "        }    #T_2f35cd26_6286_11ea_8429_98e7430917d3row17_col15 {\n",
       "            background-color:  #38588c;\n",
       "            color:  #f1f1f1;\n",
       "        }    #T_2f35cd26_6286_11ea_8429_98e7430917d3row17_col16 {\n",
       "            background-color:  #fde725;\n",
       "            color:  #000000;\n",
       "        }    #T_2f35cd26_6286_11ea_8429_98e7430917d3row17_col17 {\n",
       "            background-color:  #fde725;\n",
       "            color:  #000000;\n",
       "        }    #T_2f35cd26_6286_11ea_8429_98e7430917d3row17_col18 {\n",
       "            background-color:  #440154;\n",
       "            color:  #f1f1f1;\n",
       "        }    #T_2f35cd26_6286_11ea_8429_98e7430917d3row18_col0 {\n",
       "            background-color:  #1f968b;\n",
       "            color:  #000000;\n",
       "        }    #T_2f35cd26_6286_11ea_8429_98e7430917d3row18_col1 {\n",
       "            background-color:  #38588c;\n",
       "            color:  #f1f1f1;\n",
       "        }    #T_2f35cd26_6286_11ea_8429_98e7430917d3row18_col2 {\n",
       "            background-color:  #2a768e;\n",
       "            color:  #f1f1f1;\n",
       "        }    #T_2f35cd26_6286_11ea_8429_98e7430917d3row18_col3 {\n",
       "            background-color:  #472a7a;\n",
       "            color:  #f1f1f1;\n",
       "        }    #T_2f35cd26_6286_11ea_8429_98e7430917d3row18_col4 {\n",
       "            background-color:  #218e8d;\n",
       "            color:  #000000;\n",
       "        }    #T_2f35cd26_6286_11ea_8429_98e7430917d3row18_col5 {\n",
       "            background-color:  #423f85;\n",
       "            color:  #f1f1f1;\n",
       "        }    #T_2f35cd26_6286_11ea_8429_98e7430917d3row18_col6 {\n",
       "            background-color:  #46327e;\n",
       "            color:  #f1f1f1;\n",
       "        }    #T_2f35cd26_6286_11ea_8429_98e7430917d3row18_col7 {\n",
       "            background-color:  #20938c;\n",
       "            color:  #000000;\n",
       "        }    #T_2f35cd26_6286_11ea_8429_98e7430917d3row18_col8 {\n",
       "            background-color:  #1f9e89;\n",
       "            color:  #000000;\n",
       "        }    #T_2f35cd26_6286_11ea_8429_98e7430917d3row18_col9 {\n",
       "            background-color:  #3e4c8a;\n",
       "            color:  #f1f1f1;\n",
       "        }    #T_2f35cd26_6286_11ea_8429_98e7430917d3row18_col10 {\n",
       "            background-color:  #32648e;\n",
       "            color:  #f1f1f1;\n",
       "        }    #T_2f35cd26_6286_11ea_8429_98e7430917d3row18_col11 {\n",
       "            background-color:  #33638d;\n",
       "            color:  #f1f1f1;\n",
       "        }    #T_2f35cd26_6286_11ea_8429_98e7430917d3row18_col12 {\n",
       "            background-color:  #39568c;\n",
       "            color:  #f1f1f1;\n",
       "        }    #T_2f35cd26_6286_11ea_8429_98e7430917d3row18_col13 {\n",
       "            background-color:  #440154;\n",
       "            color:  #f1f1f1;\n",
       "        }    #T_2f35cd26_6286_11ea_8429_98e7430917d3row18_col14 {\n",
       "            background-color:  #404588;\n",
       "            color:  #f1f1f1;\n",
       "        }    #T_2f35cd26_6286_11ea_8429_98e7430917d3row18_col15 {\n",
       "            background-color:  #297b8e;\n",
       "            color:  #000000;\n",
       "        }    #T_2f35cd26_6286_11ea_8429_98e7430917d3row18_col16 {\n",
       "            background-color:  #470e61;\n",
       "            color:  #f1f1f1;\n",
       "        }    #T_2f35cd26_6286_11ea_8429_98e7430917d3row18_col17 {\n",
       "            background-color:  #470d60;\n",
       "            color:  #f1f1f1;\n",
       "        }    #T_2f35cd26_6286_11ea_8429_98e7430917d3row18_col18 {\n",
       "            background-color:  #fde725;\n",
       "            color:  #000000;\n",
       "        }</style><table id=\"T_2f35cd26_6286_11ea_8429_98e7430917d3\" ><thead>    <tr>        <th class=\"blank level0\" ></th>        <th class=\"col_heading level0 col0\" >sd</th>        <th class=\"col_heading level0 col1\" >median</th>        <th class=\"col_heading level0 col2\" >Q25</th>        <th class=\"col_heading level0 col3\" >Q75</th>        <th class=\"col_heading level0 col4\" >IQR</th>        <th class=\"col_heading level0 col5\" >skew</th>        <th class=\"col_heading level0 col6\" >kurt</th>        <th class=\"col_heading level0 col7\" >sp.ent</th>        <th class=\"col_heading level0 col8\" >sfm</th>        <th class=\"col_heading level0 col9\" >mode</th>        <th class=\"col_heading level0 col10\" >centroid</th>        <th class=\"col_heading level0 col11\" >meanfun</th>        <th class=\"col_heading level0 col12\" >minfun</th>        <th class=\"col_heading level0 col13\" >maxfun</th>        <th class=\"col_heading level0 col14\" >meandom</th>        <th class=\"col_heading level0 col15\" >mindom</th>        <th class=\"col_heading level0 col16\" >maxdom</th>        <th class=\"col_heading level0 col17\" >dfrange</th>        <th class=\"col_heading level0 col18\" >modindx</th>    </tr></thead><tbody>\n",
       "                <tr>\n",
       "                        <th id=\"T_2f35cd26_6286_11ea_8429_98e7430917d3level0_row0\" class=\"row_heading level0 row0\" >sd</th>\n",
       "                        <td id=\"T_2f35cd26_6286_11ea_8429_98e7430917d3row0_col0\" class=\"data row0 col0\" >1</td>\n",
       "                        <td id=\"T_2f35cd26_6286_11ea_8429_98e7430917d3row0_col1\" class=\"data row0 col1\" >-0.56</td>\n",
       "                        <td id=\"T_2f35cd26_6286_11ea_8429_98e7430917d3row0_col2\" class=\"data row0 col2\" >-0.85</td>\n",
       "                        <td id=\"T_2f35cd26_6286_11ea_8429_98e7430917d3row0_col3\" class=\"data row0 col3\" >-0.16</td>\n",
       "                        <td id=\"T_2f35cd26_6286_11ea_8429_98e7430917d3row0_col4\" class=\"data row0 col4\" >0.87</td>\n",
       "                        <td id=\"T_2f35cd26_6286_11ea_8429_98e7430917d3row0_col5\" class=\"data row0 col5\" >0.31</td>\n",
       "                        <td id=\"T_2f35cd26_6286_11ea_8429_98e7430917d3row0_col6\" class=\"data row0 col6\" >0.35</td>\n",
       "                        <td id=\"T_2f35cd26_6286_11ea_8429_98e7430917d3row0_col7\" class=\"data row0 col7\" >0.72</td>\n",
       "                        <td id=\"T_2f35cd26_6286_11ea_8429_98e7430917d3row0_col8\" class=\"data row0 col8\" >0.84</td>\n",
       "                        <td id=\"T_2f35cd26_6286_11ea_8429_98e7430917d3row0_col9\" class=\"data row0 col9\" >-0.53</td>\n",
       "                        <td id=\"T_2f35cd26_6286_11ea_8429_98e7430917d3row0_col10\" class=\"data row0 col10\" >-0.74</td>\n",
       "                        <td id=\"T_2f35cd26_6286_11ea_8429_98e7430917d3row0_col11\" class=\"data row0 col11\" >-0.47</td>\n",
       "                        <td id=\"T_2f35cd26_6286_11ea_8429_98e7430917d3row0_col12\" class=\"data row0 col12\" >-0.35</td>\n",
       "                        <td id=\"T_2f35cd26_6286_11ea_8429_98e7430917d3row0_col13\" class=\"data row0 col13\" >-0.13</td>\n",
       "                        <td id=\"T_2f35cd26_6286_11ea_8429_98e7430917d3row0_col14\" class=\"data row0 col14\" >-0.48</td>\n",
       "                        <td id=\"T_2f35cd26_6286_11ea_8429_98e7430917d3row0_col15\" class=\"data row0 col15\" >-0.36</td>\n",
       "                        <td id=\"T_2f35cd26_6286_11ea_8429_98e7430917d3row0_col16\" class=\"data row0 col16\" >-0.48</td>\n",
       "                        <td id=\"T_2f35cd26_6286_11ea_8429_98e7430917d3row0_col17\" class=\"data row0 col17\" >-0.48</td>\n",
       "                        <td id=\"T_2f35cd26_6286_11ea_8429_98e7430917d3row0_col18\" class=\"data row0 col18\" >0.12</td>\n",
       "            </tr>\n",
       "            <tr>\n",
       "                        <th id=\"T_2f35cd26_6286_11ea_8429_98e7430917d3level0_row1\" class=\"row_heading level0 row1\" >median</th>\n",
       "                        <td id=\"T_2f35cd26_6286_11ea_8429_98e7430917d3row1_col0\" class=\"data row1 col0\" >-0.56</td>\n",
       "                        <td id=\"T_2f35cd26_6286_11ea_8429_98e7430917d3row1_col1\" class=\"data row1 col1\" >1</td>\n",
       "                        <td id=\"T_2f35cd26_6286_11ea_8429_98e7430917d3row1_col2\" class=\"data row1 col2\" >0.77</td>\n",
       "                        <td id=\"T_2f35cd26_6286_11ea_8429_98e7430917d3row1_col3\" class=\"data row1 col3\" >0.73</td>\n",
       "                        <td id=\"T_2f35cd26_6286_11ea_8429_98e7430917d3row1_col4\" class=\"data row1 col4\" >-0.48</td>\n",
       "                        <td id=\"T_2f35cd26_6286_11ea_8429_98e7430917d3row1_col5\" class=\"data row1 col5\" >-0.26</td>\n",
       "                        <td id=\"T_2f35cd26_6286_11ea_8429_98e7430917d3row1_col6\" class=\"data row1 col6\" >-0.24</td>\n",
       "                        <td id=\"T_2f35cd26_6286_11ea_8429_98e7430917d3row1_col7\" class=\"data row1 col7\" >-0.5</td>\n",
       "                        <td id=\"T_2f35cd26_6286_11ea_8429_98e7430917d3row1_col8\" class=\"data row1 col8\" >-0.66</td>\n",
       "                        <td id=\"T_2f35cd26_6286_11ea_8429_98e7430917d3row1_col9\" class=\"data row1 col9\" >0.68</td>\n",
       "                        <td id=\"T_2f35cd26_6286_11ea_8429_98e7430917d3row1_col10\" class=\"data row1 col10\" >0.93</td>\n",
       "                        <td id=\"T_2f35cd26_6286_11ea_8429_98e7430917d3row1_col11\" class=\"data row1 col11\" >0.41</td>\n",
       "                        <td id=\"T_2f35cd26_6286_11ea_8429_98e7430917d3row1_col12\" class=\"data row1 col12\" >0.34</td>\n",
       "                        <td id=\"T_2f35cd26_6286_11ea_8429_98e7430917d3row1_col13\" class=\"data row1 col13\" >0.25</td>\n",
       "                        <td id=\"T_2f35cd26_6286_11ea_8429_98e7430917d3row1_col14\" class=\"data row1 col14\" >0.46</td>\n",
       "                        <td id=\"T_2f35cd26_6286_11ea_8429_98e7430917d3row1_col15\" class=\"data row1 col15\" >0.19</td>\n",
       "                        <td id=\"T_2f35cd26_6286_11ea_8429_98e7430917d3row1_col16\" class=\"data row1 col16\" >0.44</td>\n",
       "                        <td id=\"T_2f35cd26_6286_11ea_8429_98e7430917d3row1_col17\" class=\"data row1 col17\" >0.44</td>\n",
       "                        <td id=\"T_2f35cd26_6286_11ea_8429_98e7430917d3row1_col18\" class=\"data row1 col18\" >-0.21</td>\n",
       "            </tr>\n",
       "            <tr>\n",
       "                        <th id=\"T_2f35cd26_6286_11ea_8429_98e7430917d3level0_row2\" class=\"row_heading level0 row2\" >Q25</th>\n",
       "                        <td id=\"T_2f35cd26_6286_11ea_8429_98e7430917d3row2_col0\" class=\"data row2 col0\" >-0.85</td>\n",
       "                        <td id=\"T_2f35cd26_6286_11ea_8429_98e7430917d3row2_col1\" class=\"data row2 col1\" >0.77</td>\n",
       "                        <td id=\"T_2f35cd26_6286_11ea_8429_98e7430917d3row2_col2\" class=\"data row2 col2\" >1</td>\n",
       "                        <td id=\"T_2f35cd26_6286_11ea_8429_98e7430917d3row2_col3\" class=\"data row2 col3\" >0.48</td>\n",
       "                        <td id=\"T_2f35cd26_6286_11ea_8429_98e7430917d3row2_col4\" class=\"data row2 col4\" >-0.87</td>\n",
       "                        <td id=\"T_2f35cd26_6286_11ea_8429_98e7430917d3row2_col5\" class=\"data row2 col5\" >-0.32</td>\n",
       "                        <td id=\"T_2f35cd26_6286_11ea_8429_98e7430917d3row2_col6\" class=\"data row2 col6\" >-0.35</td>\n",
       "                        <td id=\"T_2f35cd26_6286_11ea_8429_98e7430917d3row2_col7\" class=\"data row2 col7\" >-0.65</td>\n",
       "                        <td id=\"T_2f35cd26_6286_11ea_8429_98e7430917d3row2_col8\" class=\"data row2 col8\" >-0.77</td>\n",
       "                        <td id=\"T_2f35cd26_6286_11ea_8429_98e7430917d3row2_col9\" class=\"data row2 col9\" >0.59</td>\n",
       "                        <td id=\"T_2f35cd26_6286_11ea_8429_98e7430917d3row2_col10\" class=\"data row2 col10\" >0.91</td>\n",
       "                        <td id=\"T_2f35cd26_6286_11ea_8429_98e7430917d3row2_col11\" class=\"data row2 col11\" >0.55</td>\n",
       "                        <td id=\"T_2f35cd26_6286_11ea_8429_98e7430917d3row2_col12\" class=\"data row2 col12\" >0.32</td>\n",
       "                        <td id=\"T_2f35cd26_6286_11ea_8429_98e7430917d3row2_col13\" class=\"data row2 col13\" >0.2</td>\n",
       "                        <td id=\"T_2f35cd26_6286_11ea_8429_98e7430917d3row2_col14\" class=\"data row2 col14\" >0.47</td>\n",
       "                        <td id=\"T_2f35cd26_6286_11ea_8429_98e7430917d3row2_col15\" class=\"data row2 col15\" >0.3</td>\n",
       "                        <td id=\"T_2f35cd26_6286_11ea_8429_98e7430917d3row2_col16\" class=\"data row2 col16\" >0.46</td>\n",
       "                        <td id=\"T_2f35cd26_6286_11ea_8429_98e7430917d3row2_col17\" class=\"data row2 col17\" >0.45</td>\n",
       "                        <td id=\"T_2f35cd26_6286_11ea_8429_98e7430917d3row2_col18\" class=\"data row2 col18\" >-0.14</td>\n",
       "            </tr>\n",
       "            <tr>\n",
       "                        <th id=\"T_2f35cd26_6286_11ea_8429_98e7430917d3level0_row3\" class=\"row_heading level0 row3\" >Q75</th>\n",
       "                        <td id=\"T_2f35cd26_6286_11ea_8429_98e7430917d3row3_col0\" class=\"data row3 col0\" >-0.16</td>\n",
       "                        <td id=\"T_2f35cd26_6286_11ea_8429_98e7430917d3row3_col1\" class=\"data row3 col1\" >0.73</td>\n",
       "                        <td id=\"T_2f35cd26_6286_11ea_8429_98e7430917d3row3_col2\" class=\"data row3 col2\" >0.48</td>\n",
       "                        <td id=\"T_2f35cd26_6286_11ea_8429_98e7430917d3row3_col3\" class=\"data row3 col3\" >1</td>\n",
       "                        <td id=\"T_2f35cd26_6286_11ea_8429_98e7430917d3row3_col4\" class=\"data row3 col4\" >0.0096</td>\n",
       "                        <td id=\"T_2f35cd26_6286_11ea_8429_98e7430917d3row3_col5\" class=\"data row3 col5\" >-0.21</td>\n",
       "                        <td id=\"T_2f35cd26_6286_11ea_8429_98e7430917d3row3_col6\" class=\"data row3 col6\" >-0.15</td>\n",
       "                        <td id=\"T_2f35cd26_6286_11ea_8429_98e7430917d3row3_col7\" class=\"data row3 col7\" >-0.17</td>\n",
       "                        <td id=\"T_2f35cd26_6286_11ea_8429_98e7430917d3row3_col8\" class=\"data row3 col8\" >-0.38</td>\n",
       "                        <td id=\"T_2f35cd26_6286_11ea_8429_98e7430917d3row3_col9\" class=\"data row3 col9\" >0.49</td>\n",
       "                        <td id=\"T_2f35cd26_6286_11ea_8429_98e7430917d3row3_col10\" class=\"data row3 col10\" >0.74</td>\n",
       "                        <td id=\"T_2f35cd26_6286_11ea_8429_98e7430917d3row3_col11\" class=\"data row3 col11\" >0.16</td>\n",
       "                        <td id=\"T_2f35cd26_6286_11ea_8429_98e7430917d3row3_col12\" class=\"data row3 col12\" >0.26</td>\n",
       "                        <td id=\"T_2f35cd26_6286_11ea_8429_98e7430917d3row3_col13\" class=\"data row3 col13\" >0.29</td>\n",
       "                        <td id=\"T_2f35cd26_6286_11ea_8429_98e7430917d3row3_col14\" class=\"data row3 col14\" >0.36</td>\n",
       "                        <td id=\"T_2f35cd26_6286_11ea_8429_98e7430917d3row3_col15\" class=\"data row3 col15\" >-0.024</td>\n",
       "                        <td id=\"T_2f35cd26_6286_11ea_8429_98e7430917d3row3_col16\" class=\"data row3 col16\" >0.34</td>\n",
       "                        <td id=\"T_2f35cd26_6286_11ea_8429_98e7430917d3row3_col17\" class=\"data row3 col17\" >0.34</td>\n",
       "                        <td id=\"T_2f35cd26_6286_11ea_8429_98e7430917d3row3_col18\" class=\"data row3 col18\" >-0.22</td>\n",
       "            </tr>\n",
       "            <tr>\n",
       "                        <th id=\"T_2f35cd26_6286_11ea_8429_98e7430917d3level0_row4\" class=\"row_heading level0 row4\" >IQR</th>\n",
       "                        <td id=\"T_2f35cd26_6286_11ea_8429_98e7430917d3row4_col0\" class=\"data row4 col0\" >0.87</td>\n",
       "                        <td id=\"T_2f35cd26_6286_11ea_8429_98e7430917d3row4_col1\" class=\"data row4 col1\" >-0.48</td>\n",
       "                        <td id=\"T_2f35cd26_6286_11ea_8429_98e7430917d3row4_col2\" class=\"data row4 col2\" >-0.87</td>\n",
       "                        <td id=\"T_2f35cd26_6286_11ea_8429_98e7430917d3row4_col3\" class=\"data row4 col3\" >0.0096</td>\n",
       "                        <td id=\"T_2f35cd26_6286_11ea_8429_98e7430917d3row4_col4\" class=\"data row4 col4\" >1</td>\n",
       "                        <td id=\"T_2f35cd26_6286_11ea_8429_98e7430917d3row4_col5\" class=\"data row4 col5\" >0.25</td>\n",
       "                        <td id=\"T_2f35cd26_6286_11ea_8429_98e7430917d3row4_col6\" class=\"data row4 col6\" >0.32</td>\n",
       "                        <td id=\"T_2f35cd26_6286_11ea_8429_98e7430917d3row4_col7\" class=\"data row4 col7\" >0.64</td>\n",
       "                        <td id=\"T_2f35cd26_6286_11ea_8429_98e7430917d3row4_col8\" class=\"data row4 col8\" >0.66</td>\n",
       "                        <td id=\"T_2f35cd26_6286_11ea_8429_98e7430917d3row4_col9\" class=\"data row4 col9\" >-0.4</td>\n",
       "                        <td id=\"T_2f35cd26_6286_11ea_8429_98e7430917d3row4_col10\" class=\"data row4 col10\" >-0.63</td>\n",
       "                        <td id=\"T_2f35cd26_6286_11ea_8429_98e7430917d3row4_col11\" class=\"data row4 col11\" >-0.53</td>\n",
       "                        <td id=\"T_2f35cd26_6286_11ea_8429_98e7430917d3row4_col12\" class=\"data row4 col12\" >-0.22</td>\n",
       "                        <td id=\"T_2f35cd26_6286_11ea_8429_98e7430917d3row4_col13\" class=\"data row4 col13\" >-0.07</td>\n",
       "                        <td id=\"T_2f35cd26_6286_11ea_8429_98e7430917d3row4_col14\" class=\"data row4 col14\" >-0.33</td>\n",
       "                        <td id=\"T_2f35cd26_6286_11ea_8429_98e7430917d3row4_col15\" class=\"data row4 col15\" >-0.36</td>\n",
       "                        <td id=\"T_2f35cd26_6286_11ea_8429_98e7430917d3row4_col16\" class=\"data row4 col16\" >-0.34</td>\n",
       "                        <td id=\"T_2f35cd26_6286_11ea_8429_98e7430917d3row4_col17\" class=\"data row4 col17\" >-0.33</td>\n",
       "                        <td id=\"T_2f35cd26_6286_11ea_8429_98e7430917d3row4_col18\" class=\"data row4 col18\" >0.041</td>\n",
       "            </tr>\n",
       "            <tr>\n",
       "                        <th id=\"T_2f35cd26_6286_11ea_8429_98e7430917d3level0_row5\" class=\"row_heading level0 row5\" >skew</th>\n",
       "                        <td id=\"T_2f35cd26_6286_11ea_8429_98e7430917d3row5_col0\" class=\"data row5 col0\" >0.31</td>\n",
       "                        <td id=\"T_2f35cd26_6286_11ea_8429_98e7430917d3row5_col1\" class=\"data row5 col1\" >-0.26</td>\n",
       "                        <td id=\"T_2f35cd26_6286_11ea_8429_98e7430917d3row5_col2\" class=\"data row5 col2\" >-0.32</td>\n",
       "                        <td id=\"T_2f35cd26_6286_11ea_8429_98e7430917d3row5_col3\" class=\"data row5 col3\" >-0.21</td>\n",
       "                        <td id=\"T_2f35cd26_6286_11ea_8429_98e7430917d3row5_col4\" class=\"data row5 col4\" >0.25</td>\n",
       "                        <td id=\"T_2f35cd26_6286_11ea_8429_98e7430917d3row5_col5\" class=\"data row5 col5\" >1</td>\n",
       "                        <td id=\"T_2f35cd26_6286_11ea_8429_98e7430917d3row5_col6\" class=\"data row5 col6\" >0.98</td>\n",
       "                        <td id=\"T_2f35cd26_6286_11ea_8429_98e7430917d3row5_col7\" class=\"data row5 col7\" >-0.2</td>\n",
       "                        <td id=\"T_2f35cd26_6286_11ea_8429_98e7430917d3row5_col8\" class=\"data row5 col8\" >0.08</td>\n",
       "                        <td id=\"T_2f35cd26_6286_11ea_8429_98e7430917d3row5_col9\" class=\"data row5 col9\" >-0.43</td>\n",
       "                        <td id=\"T_2f35cd26_6286_11ea_8429_98e7430917d3row5_col10\" class=\"data row5 col10\" >-0.32</td>\n",
       "                        <td id=\"T_2f35cd26_6286_11ea_8429_98e7430917d3row5_col11\" class=\"data row5 col11\" >-0.17</td>\n",
       "                        <td id=\"T_2f35cd26_6286_11ea_8429_98e7430917d3row5_col12\" class=\"data row5 col12\" >-0.22</td>\n",
       "                        <td id=\"T_2f35cd26_6286_11ea_8429_98e7430917d3row5_col13\" class=\"data row5 col13\" >-0.081</td>\n",
       "                        <td id=\"T_2f35cd26_6286_11ea_8429_98e7430917d3row5_col14\" class=\"data row5 col14\" >-0.34</td>\n",
       "                        <td id=\"T_2f35cd26_6286_11ea_8429_98e7430917d3row5_col15\" class=\"data row5 col15\" >-0.062</td>\n",
       "                        <td id=\"T_2f35cd26_6286_11ea_8429_98e7430917d3row5_col16\" class=\"data row5 col16\" >-0.31</td>\n",
       "                        <td id=\"T_2f35cd26_6286_11ea_8429_98e7430917d3row5_col17\" class=\"data row5 col17\" >-0.3</td>\n",
       "                        <td id=\"T_2f35cd26_6286_11ea_8429_98e7430917d3row5_col18\" class=\"data row5 col18\" >-0.17</td>\n",
       "            </tr>\n",
       "            <tr>\n",
       "                        <th id=\"T_2f35cd26_6286_11ea_8429_98e7430917d3level0_row6\" class=\"row_heading level0 row6\" >kurt</th>\n",
       "                        <td id=\"T_2f35cd26_6286_11ea_8429_98e7430917d3row6_col0\" class=\"data row6 col0\" >0.35</td>\n",
       "                        <td id=\"T_2f35cd26_6286_11ea_8429_98e7430917d3row6_col1\" class=\"data row6 col1\" >-0.24</td>\n",
       "                        <td id=\"T_2f35cd26_6286_11ea_8429_98e7430917d3row6_col2\" class=\"data row6 col2\" >-0.35</td>\n",
       "                        <td id=\"T_2f35cd26_6286_11ea_8429_98e7430917d3row6_col3\" class=\"data row6 col3\" >-0.15</td>\n",
       "                        <td id=\"T_2f35cd26_6286_11ea_8429_98e7430917d3row6_col4\" class=\"data row6 col4\" >0.32</td>\n",
       "                        <td id=\"T_2f35cd26_6286_11ea_8429_98e7430917d3row6_col5\" class=\"data row6 col5\" >0.98</td>\n",
       "                        <td id=\"T_2f35cd26_6286_11ea_8429_98e7430917d3row6_col6\" class=\"data row6 col6\" >1</td>\n",
       "                        <td id=\"T_2f35cd26_6286_11ea_8429_98e7430917d3row6_col7\" class=\"data row6 col7\" >-0.13</td>\n",
       "                        <td id=\"T_2f35cd26_6286_11ea_8429_98e7430917d3row6_col8\" class=\"data row6 col8\" >0.11</td>\n",
       "                        <td id=\"T_2f35cd26_6286_11ea_8429_98e7430917d3row6_col9\" class=\"data row6 col9\" >-0.41</td>\n",
       "                        <td id=\"T_2f35cd26_6286_11ea_8429_98e7430917d3row6_col10\" class=\"data row6 col10\" >-0.32</td>\n",
       "                        <td id=\"T_2f35cd26_6286_11ea_8429_98e7430917d3row6_col11\" class=\"data row6 col11\" >-0.19</td>\n",
       "                        <td id=\"T_2f35cd26_6286_11ea_8429_98e7430917d3row6_col12\" class=\"data row6 col12\" >-0.2</td>\n",
       "                        <td id=\"T_2f35cd26_6286_11ea_8429_98e7430917d3row6_col13\" class=\"data row6 col13\" >-0.046</td>\n",
       "                        <td id=\"T_2f35cd26_6286_11ea_8429_98e7430917d3row6_col14\" class=\"data row6 col14\" >-0.3</td>\n",
       "                        <td id=\"T_2f35cd26_6286_11ea_8429_98e7430917d3row6_col15\" class=\"data row6 col15\" >-0.1</td>\n",
       "                        <td id=\"T_2f35cd26_6286_11ea_8429_98e7430917d3row6_col16\" class=\"data row6 col16\" >-0.27</td>\n",
       "                        <td id=\"T_2f35cd26_6286_11ea_8429_98e7430917d3row6_col17\" class=\"data row6 col17\" >-0.27</td>\n",
       "                        <td id=\"T_2f35cd26_6286_11ea_8429_98e7430917d3row6_col18\" class=\"data row6 col18\" >-0.21</td>\n",
       "            </tr>\n",
       "            <tr>\n",
       "                        <th id=\"T_2f35cd26_6286_11ea_8429_98e7430917d3level0_row7\" class=\"row_heading level0 row7\" >sp.ent</th>\n",
       "                        <td id=\"T_2f35cd26_6286_11ea_8429_98e7430917d3row7_col0\" class=\"data row7 col0\" >0.72</td>\n",
       "                        <td id=\"T_2f35cd26_6286_11ea_8429_98e7430917d3row7_col1\" class=\"data row7 col1\" >-0.5</td>\n",
       "                        <td id=\"T_2f35cd26_6286_11ea_8429_98e7430917d3row7_col2\" class=\"data row7 col2\" >-0.65</td>\n",
       "                        <td id=\"T_2f35cd26_6286_11ea_8429_98e7430917d3row7_col3\" class=\"data row7 col3\" >-0.17</td>\n",
       "                        <td id=\"T_2f35cd26_6286_11ea_8429_98e7430917d3row7_col4\" class=\"data row7 col4\" >0.64</td>\n",
       "                        <td id=\"T_2f35cd26_6286_11ea_8429_98e7430917d3row7_col5\" class=\"data row7 col5\" >-0.2</td>\n",
       "                        <td id=\"T_2f35cd26_6286_11ea_8429_98e7430917d3row7_col6\" class=\"data row7 col6\" >-0.13</td>\n",
       "                        <td id=\"T_2f35cd26_6286_11ea_8429_98e7430917d3row7_col7\" class=\"data row7 col7\" >1</td>\n",
       "                        <td id=\"T_2f35cd26_6286_11ea_8429_98e7430917d3row7_col8\" class=\"data row7 col8\" >0.87</td>\n",
       "                        <td id=\"T_2f35cd26_6286_11ea_8429_98e7430917d3row7_col9\" class=\"data row7 col9\" >-0.33</td>\n",
       "                        <td id=\"T_2f35cd26_6286_11ea_8429_98e7430917d3row7_col10\" class=\"data row7 col10\" >-0.6</td>\n",
       "                        <td id=\"T_2f35cd26_6286_11ea_8429_98e7430917d3row7_col11\" class=\"data row7 col11\" >-0.51</td>\n",
       "                        <td id=\"T_2f35cd26_6286_11ea_8429_98e7430917d3row7_col12\" class=\"data row7 col12\" >-0.31</td>\n",
       "                        <td id=\"T_2f35cd26_6286_11ea_8429_98e7430917d3row7_col13\" class=\"data row7 col13\" >-0.12</td>\n",
       "                        <td id=\"T_2f35cd26_6286_11ea_8429_98e7430917d3row7_col14\" class=\"data row7 col14\" >-0.29</td>\n",
       "                        <td id=\"T_2f35cd26_6286_11ea_8429_98e7430917d3row7_col15\" class=\"data row7 col15\" >-0.29</td>\n",
       "                        <td id=\"T_2f35cd26_6286_11ea_8429_98e7430917d3row7_col16\" class=\"data row7 col16\" >-0.32</td>\n",
       "                        <td id=\"T_2f35cd26_6286_11ea_8429_98e7430917d3row7_col17\" class=\"data row7 col17\" >-0.32</td>\n",
       "                        <td id=\"T_2f35cd26_6286_11ea_8429_98e7430917d3row7_col18\" class=\"data row7 col18\" >0.2</td>\n",
       "            </tr>\n",
       "            <tr>\n",
       "                        <th id=\"T_2f35cd26_6286_11ea_8429_98e7430917d3level0_row8\" class=\"row_heading level0 row8\" >sfm</th>\n",
       "                        <td id=\"T_2f35cd26_6286_11ea_8429_98e7430917d3row8_col0\" class=\"data row8 col0\" >0.84</td>\n",
       "                        <td id=\"T_2f35cd26_6286_11ea_8429_98e7430917d3row8_col1\" class=\"data row8 col1\" >-0.66</td>\n",
       "                        <td id=\"T_2f35cd26_6286_11ea_8429_98e7430917d3row8_col2\" class=\"data row8 col2\" >-0.77</td>\n",
       "                        <td id=\"T_2f35cd26_6286_11ea_8429_98e7430917d3row8_col3\" class=\"data row8 col3\" >-0.38</td>\n",
       "                        <td id=\"T_2f35cd26_6286_11ea_8429_98e7430917d3row8_col4\" class=\"data row8 col4\" >0.66</td>\n",
       "                        <td id=\"T_2f35cd26_6286_11ea_8429_98e7430917d3row8_col5\" class=\"data row8 col5\" >0.08</td>\n",
       "                        <td id=\"T_2f35cd26_6286_11ea_8429_98e7430917d3row8_col6\" class=\"data row8 col6\" >0.11</td>\n",
       "                        <td id=\"T_2f35cd26_6286_11ea_8429_98e7430917d3row8_col7\" class=\"data row8 col7\" >0.87</td>\n",
       "                        <td id=\"T_2f35cd26_6286_11ea_8429_98e7430917d3row8_col8\" class=\"data row8 col8\" >1</td>\n",
       "                        <td id=\"T_2f35cd26_6286_11ea_8429_98e7430917d3row8_col9\" class=\"data row8 col9\" >-0.49</td>\n",
       "                        <td id=\"T_2f35cd26_6286_11ea_8429_98e7430917d3row8_col10\" class=\"data row8 col10\" >-0.78</td>\n",
       "                        <td id=\"T_2f35cd26_6286_11ea_8429_98e7430917d3row8_col11\" class=\"data row8 col11\" >-0.42</td>\n",
       "                        <td id=\"T_2f35cd26_6286_11ea_8429_98e7430917d3row8_col12\" class=\"data row8 col12\" >-0.36</td>\n",
       "                        <td id=\"T_2f35cd26_6286_11ea_8429_98e7430917d3row8_col13\" class=\"data row8 col13\" >-0.19</td>\n",
       "                        <td id=\"T_2f35cd26_6286_11ea_8429_98e7430917d3row8_col14\" class=\"data row8 col14\" >-0.43</td>\n",
       "                        <td id=\"T_2f35cd26_6286_11ea_8429_98e7430917d3row8_col15\" class=\"data row8 col15\" >-0.29</td>\n",
       "                        <td id=\"T_2f35cd26_6286_11ea_8429_98e7430917d3row8_col16\" class=\"data row8 col16\" >-0.44</td>\n",
       "                        <td id=\"T_2f35cd26_6286_11ea_8429_98e7430917d3row8_col17\" class=\"data row8 col17\" >-0.43</td>\n",
       "                        <td id=\"T_2f35cd26_6286_11ea_8429_98e7430917d3row8_col18\" class=\"data row8 col18\" >0.21</td>\n",
       "            </tr>\n",
       "            <tr>\n",
       "                        <th id=\"T_2f35cd26_6286_11ea_8429_98e7430917d3level0_row9\" class=\"row_heading level0 row9\" >mode</th>\n",
       "                        <td id=\"T_2f35cd26_6286_11ea_8429_98e7430917d3row9_col0\" class=\"data row9 col0\" >-0.53</td>\n",
       "                        <td id=\"T_2f35cd26_6286_11ea_8429_98e7430917d3row9_col1\" class=\"data row9 col1\" >0.68</td>\n",
       "                        <td id=\"T_2f35cd26_6286_11ea_8429_98e7430917d3row9_col2\" class=\"data row9 col2\" >0.59</td>\n",
       "                        <td id=\"T_2f35cd26_6286_11ea_8429_98e7430917d3row9_col3\" class=\"data row9 col3\" >0.49</td>\n",
       "                        <td id=\"T_2f35cd26_6286_11ea_8429_98e7430917d3row9_col4\" class=\"data row9 col4\" >-0.4</td>\n",
       "                        <td id=\"T_2f35cd26_6286_11ea_8429_98e7430917d3row9_col5\" class=\"data row9 col5\" >-0.43</td>\n",
       "                        <td id=\"T_2f35cd26_6286_11ea_8429_98e7430917d3row9_col6\" class=\"data row9 col6\" >-0.41</td>\n",
       "                        <td id=\"T_2f35cd26_6286_11ea_8429_98e7430917d3row9_col7\" class=\"data row9 col7\" >-0.33</td>\n",
       "                        <td id=\"T_2f35cd26_6286_11ea_8429_98e7430917d3row9_col8\" class=\"data row9 col8\" >-0.49</td>\n",
       "                        <td id=\"T_2f35cd26_6286_11ea_8429_98e7430917d3row9_col9\" class=\"data row9 col9\" >1</td>\n",
       "                        <td id=\"T_2f35cd26_6286_11ea_8429_98e7430917d3row9_col10\" class=\"data row9 col10\" >0.69</td>\n",
       "                        <td id=\"T_2f35cd26_6286_11ea_8429_98e7430917d3row9_col11\" class=\"data row9 col11\" >0.32</td>\n",
       "                        <td id=\"T_2f35cd26_6286_11ea_8429_98e7430917d3row9_col12\" class=\"data row9 col12\" >0.39</td>\n",
       "                        <td id=\"T_2f35cd26_6286_11ea_8429_98e7430917d3row9_col13\" class=\"data row9 col13\" >0.17</td>\n",
       "                        <td id=\"T_2f35cd26_6286_11ea_8429_98e7430917d3row9_col14\" class=\"data row9 col14\" >0.49</td>\n",
       "                        <td id=\"T_2f35cd26_6286_11ea_8429_98e7430917d3row9_col15\" class=\"data row9 col15\" >0.2</td>\n",
       "                        <td id=\"T_2f35cd26_6286_11ea_8429_98e7430917d3row9_col16\" class=\"data row9 col16\" >0.48</td>\n",
       "                        <td id=\"T_2f35cd26_6286_11ea_8429_98e7430917d3row9_col17\" class=\"data row9 col17\" >0.47</td>\n",
       "                        <td id=\"T_2f35cd26_6286_11ea_8429_98e7430917d3row9_col18\" class=\"data row9 col18\" >-0.18</td>\n",
       "            </tr>\n",
       "            <tr>\n",
       "                        <th id=\"T_2f35cd26_6286_11ea_8429_98e7430917d3level0_row10\" class=\"row_heading level0 row10\" >centroid</th>\n",
       "                        <td id=\"T_2f35cd26_6286_11ea_8429_98e7430917d3row10_col0\" class=\"data row10 col0\" >-0.74</td>\n",
       "                        <td id=\"T_2f35cd26_6286_11ea_8429_98e7430917d3row10_col1\" class=\"data row10 col1\" >0.93</td>\n",
       "                        <td id=\"T_2f35cd26_6286_11ea_8429_98e7430917d3row10_col2\" class=\"data row10 col2\" >0.91</td>\n",
       "                        <td id=\"T_2f35cd26_6286_11ea_8429_98e7430917d3row10_col3\" class=\"data row10 col3\" >0.74</td>\n",
       "                        <td id=\"T_2f35cd26_6286_11ea_8429_98e7430917d3row10_col4\" class=\"data row10 col4\" >-0.63</td>\n",
       "                        <td id=\"T_2f35cd26_6286_11ea_8429_98e7430917d3row10_col5\" class=\"data row10 col5\" >-0.32</td>\n",
       "                        <td id=\"T_2f35cd26_6286_11ea_8429_98e7430917d3row10_col6\" class=\"data row10 col6\" >-0.32</td>\n",
       "                        <td id=\"T_2f35cd26_6286_11ea_8429_98e7430917d3row10_col7\" class=\"data row10 col7\" >-0.6</td>\n",
       "                        <td id=\"T_2f35cd26_6286_11ea_8429_98e7430917d3row10_col8\" class=\"data row10 col8\" >-0.78</td>\n",
       "                        <td id=\"T_2f35cd26_6286_11ea_8429_98e7430917d3row10_col9\" class=\"data row10 col9\" >0.69</td>\n",
       "                        <td id=\"T_2f35cd26_6286_11ea_8429_98e7430917d3row10_col10\" class=\"data row10 col10\" >1</td>\n",
       "                        <td id=\"T_2f35cd26_6286_11ea_8429_98e7430917d3row10_col11\" class=\"data row10 col11\" >0.46</td>\n",
       "                        <td id=\"T_2f35cd26_6286_11ea_8429_98e7430917d3row10_col12\" class=\"data row10 col12\" >0.38</td>\n",
       "                        <td id=\"T_2f35cd26_6286_11ea_8429_98e7430917d3row10_col13\" class=\"data row10 col13\" >0.27</td>\n",
       "                        <td id=\"T_2f35cd26_6286_11ea_8429_98e7430917d3row10_col14\" class=\"data row10 col14\" >0.54</td>\n",
       "                        <td id=\"T_2f35cd26_6286_11ea_8429_98e7430917d3row10_col15\" class=\"data row10 col15\" >0.23</td>\n",
       "                        <td id=\"T_2f35cd26_6286_11ea_8429_98e7430917d3row10_col16\" class=\"data row10 col16\" >0.52</td>\n",
       "                        <td id=\"T_2f35cd26_6286_11ea_8429_98e7430917d3row10_col17\" class=\"data row10 col17\" >0.52</td>\n",
       "                        <td id=\"T_2f35cd26_6286_11ea_8429_98e7430917d3row10_col18\" class=\"data row10 col18\" >-0.22</td>\n",
       "            </tr>\n",
       "            <tr>\n",
       "                        <th id=\"T_2f35cd26_6286_11ea_8429_98e7430917d3level0_row11\" class=\"row_heading level0 row11\" >meanfun</th>\n",
       "                        <td id=\"T_2f35cd26_6286_11ea_8429_98e7430917d3row11_col0\" class=\"data row11 col0\" >-0.47</td>\n",
       "                        <td id=\"T_2f35cd26_6286_11ea_8429_98e7430917d3row11_col1\" class=\"data row11 col1\" >0.41</td>\n",
       "                        <td id=\"T_2f35cd26_6286_11ea_8429_98e7430917d3row11_col2\" class=\"data row11 col2\" >0.55</td>\n",
       "                        <td id=\"T_2f35cd26_6286_11ea_8429_98e7430917d3row11_col3\" class=\"data row11 col3\" >0.16</td>\n",
       "                        <td id=\"T_2f35cd26_6286_11ea_8429_98e7430917d3row11_col4\" class=\"data row11 col4\" >-0.53</td>\n",
       "                        <td id=\"T_2f35cd26_6286_11ea_8429_98e7430917d3row11_col5\" class=\"data row11 col5\" >-0.17</td>\n",
       "                        <td id=\"T_2f35cd26_6286_11ea_8429_98e7430917d3row11_col6\" class=\"data row11 col6\" >-0.19</td>\n",
       "                        <td id=\"T_2f35cd26_6286_11ea_8429_98e7430917d3row11_col7\" class=\"data row11 col7\" >-0.51</td>\n",
       "                        <td id=\"T_2f35cd26_6286_11ea_8429_98e7430917d3row11_col8\" class=\"data row11 col8\" >-0.42</td>\n",
       "                        <td id=\"T_2f35cd26_6286_11ea_8429_98e7430917d3row11_col9\" class=\"data row11 col9\" >0.32</td>\n",
       "                        <td id=\"T_2f35cd26_6286_11ea_8429_98e7430917d3row11_col10\" class=\"data row11 col10\" >0.46</td>\n",
       "                        <td id=\"T_2f35cd26_6286_11ea_8429_98e7430917d3row11_col11\" class=\"data row11 col11\" >1</td>\n",
       "                        <td id=\"T_2f35cd26_6286_11ea_8429_98e7430917d3row11_col12\" class=\"data row11 col12\" >0.34</td>\n",
       "                        <td id=\"T_2f35cd26_6286_11ea_8429_98e7430917d3row11_col13\" class=\"data row11 col13\" >0.31</td>\n",
       "                        <td id=\"T_2f35cd26_6286_11ea_8429_98e7430917d3row11_col14\" class=\"data row11 col14\" >0.27</td>\n",
       "                        <td id=\"T_2f35cd26_6286_11ea_8429_98e7430917d3row11_col15\" class=\"data row11 col15\" >0.16</td>\n",
       "                        <td id=\"T_2f35cd26_6286_11ea_8429_98e7430917d3row11_col16\" class=\"data row11 col16\" >0.28</td>\n",
       "                        <td id=\"T_2f35cd26_6286_11ea_8429_98e7430917d3row11_col17\" class=\"data row11 col17\" >0.28</td>\n",
       "                        <td id=\"T_2f35cd26_6286_11ea_8429_98e7430917d3row11_col18\" class=\"data row11 col18\" >-0.055</td>\n",
       "            </tr>\n",
       "            <tr>\n",
       "                        <th id=\"T_2f35cd26_6286_11ea_8429_98e7430917d3level0_row12\" class=\"row_heading level0 row12\" >minfun</th>\n",
       "                        <td id=\"T_2f35cd26_6286_11ea_8429_98e7430917d3row12_col0\" class=\"data row12 col0\" >-0.35</td>\n",
       "                        <td id=\"T_2f35cd26_6286_11ea_8429_98e7430917d3row12_col1\" class=\"data row12 col1\" >0.34</td>\n",
       "                        <td id=\"T_2f35cd26_6286_11ea_8429_98e7430917d3row12_col2\" class=\"data row12 col2\" >0.32</td>\n",
       "                        <td id=\"T_2f35cd26_6286_11ea_8429_98e7430917d3row12_col3\" class=\"data row12 col3\" >0.26</td>\n",
       "                        <td id=\"T_2f35cd26_6286_11ea_8429_98e7430917d3row12_col4\" class=\"data row12 col4\" >-0.22</td>\n",
       "                        <td id=\"T_2f35cd26_6286_11ea_8429_98e7430917d3row12_col5\" class=\"data row12 col5\" >-0.22</td>\n",
       "                        <td id=\"T_2f35cd26_6286_11ea_8429_98e7430917d3row12_col6\" class=\"data row12 col6\" >-0.2</td>\n",
       "                        <td id=\"T_2f35cd26_6286_11ea_8429_98e7430917d3row12_col7\" class=\"data row12 col7\" >-0.31</td>\n",
       "                        <td id=\"T_2f35cd26_6286_11ea_8429_98e7430917d3row12_col8\" class=\"data row12 col8\" >-0.36</td>\n",
       "                        <td id=\"T_2f35cd26_6286_11ea_8429_98e7430917d3row12_col9\" class=\"data row12 col9\" >0.39</td>\n",
       "                        <td id=\"T_2f35cd26_6286_11ea_8429_98e7430917d3row12_col10\" class=\"data row12 col10\" >0.38</td>\n",
       "                        <td id=\"T_2f35cd26_6286_11ea_8429_98e7430917d3row12_col11\" class=\"data row12 col11\" >0.34</td>\n",
       "                        <td id=\"T_2f35cd26_6286_11ea_8429_98e7430917d3row12_col12\" class=\"data row12 col12\" >1</td>\n",
       "                        <td id=\"T_2f35cd26_6286_11ea_8429_98e7430917d3row12_col13\" class=\"data row12 col13\" >0.21</td>\n",
       "                        <td id=\"T_2f35cd26_6286_11ea_8429_98e7430917d3row12_col14\" class=\"data row12 col14\" >0.38</td>\n",
       "                        <td id=\"T_2f35cd26_6286_11ea_8429_98e7430917d3row12_col15\" class=\"data row12 col15\" >0.082</td>\n",
       "                        <td id=\"T_2f35cd26_6286_11ea_8429_98e7430917d3row12_col16\" class=\"data row12 col16\" >0.32</td>\n",
       "                        <td id=\"T_2f35cd26_6286_11ea_8429_98e7430917d3row12_col17\" class=\"data row12 col17\" >0.32</td>\n",
       "                        <td id=\"T_2f35cd26_6286_11ea_8429_98e7430917d3row12_col18\" class=\"data row12 col18\" >0.002</td>\n",
       "            </tr>\n",
       "            <tr>\n",
       "                        <th id=\"T_2f35cd26_6286_11ea_8429_98e7430917d3level0_row13\" class=\"row_heading level0 row13\" >maxfun</th>\n",
       "                        <td id=\"T_2f35cd26_6286_11ea_8429_98e7430917d3row13_col0\" class=\"data row13 col0\" >-0.13</td>\n",
       "                        <td id=\"T_2f35cd26_6286_11ea_8429_98e7430917d3row13_col1\" class=\"data row13 col1\" >0.25</td>\n",
       "                        <td id=\"T_2f35cd26_6286_11ea_8429_98e7430917d3row13_col2\" class=\"data row13 col2\" >0.2</td>\n",
       "                        <td id=\"T_2f35cd26_6286_11ea_8429_98e7430917d3row13_col3\" class=\"data row13 col3\" >0.29</td>\n",
       "                        <td id=\"T_2f35cd26_6286_11ea_8429_98e7430917d3row13_col4\" class=\"data row13 col4\" >-0.07</td>\n",
       "                        <td id=\"T_2f35cd26_6286_11ea_8429_98e7430917d3row13_col5\" class=\"data row13 col5\" >-0.081</td>\n",
       "                        <td id=\"T_2f35cd26_6286_11ea_8429_98e7430917d3row13_col6\" class=\"data row13 col6\" >-0.046</td>\n",
       "                        <td id=\"T_2f35cd26_6286_11ea_8429_98e7430917d3row13_col7\" class=\"data row13 col7\" >-0.12</td>\n",
       "                        <td id=\"T_2f35cd26_6286_11ea_8429_98e7430917d3row13_col8\" class=\"data row13 col8\" >-0.19</td>\n",
       "                        <td id=\"T_2f35cd26_6286_11ea_8429_98e7430917d3row13_col9\" class=\"data row13 col9\" >0.17</td>\n",
       "                        <td id=\"T_2f35cd26_6286_11ea_8429_98e7430917d3row13_col10\" class=\"data row13 col10\" >0.27</td>\n",
       "                        <td id=\"T_2f35cd26_6286_11ea_8429_98e7430917d3row13_col11\" class=\"data row13 col11\" >0.31</td>\n",
       "                        <td id=\"T_2f35cd26_6286_11ea_8429_98e7430917d3row13_col12\" class=\"data row13 col12\" >0.21</td>\n",
       "                        <td id=\"T_2f35cd26_6286_11ea_8429_98e7430917d3row13_col13\" class=\"data row13 col13\" >1</td>\n",
       "                        <td id=\"T_2f35cd26_6286_11ea_8429_98e7430917d3row13_col14\" class=\"data row13 col14\" >0.34</td>\n",
       "                        <td id=\"T_2f35cd26_6286_11ea_8429_98e7430917d3row13_col15\" class=\"data row13 col15\" >-0.24</td>\n",
       "                        <td id=\"T_2f35cd26_6286_11ea_8429_98e7430917d3row13_col16\" class=\"data row13 col16\" >0.36</td>\n",
       "                        <td id=\"T_2f35cd26_6286_11ea_8429_98e7430917d3row13_col17\" class=\"data row13 col17\" >0.36</td>\n",
       "                        <td id=\"T_2f35cd26_6286_11ea_8429_98e7430917d3row13_col18\" class=\"data row13 col18\" >-0.36</td>\n",
       "            </tr>\n",
       "            <tr>\n",
       "                        <th id=\"T_2f35cd26_6286_11ea_8429_98e7430917d3level0_row14\" class=\"row_heading level0 row14\" >meandom</th>\n",
       "                        <td id=\"T_2f35cd26_6286_11ea_8429_98e7430917d3row14_col0\" class=\"data row14 col0\" >-0.48</td>\n",
       "                        <td id=\"T_2f35cd26_6286_11ea_8429_98e7430917d3row14_col1\" class=\"data row14 col1\" >0.46</td>\n",
       "                        <td id=\"T_2f35cd26_6286_11ea_8429_98e7430917d3row14_col2\" class=\"data row14 col2\" >0.47</td>\n",
       "                        <td id=\"T_2f35cd26_6286_11ea_8429_98e7430917d3row14_col3\" class=\"data row14 col3\" >0.36</td>\n",
       "                        <td id=\"T_2f35cd26_6286_11ea_8429_98e7430917d3row14_col4\" class=\"data row14 col4\" >-0.33</td>\n",
       "                        <td id=\"T_2f35cd26_6286_11ea_8429_98e7430917d3row14_col5\" class=\"data row14 col5\" >-0.34</td>\n",
       "                        <td id=\"T_2f35cd26_6286_11ea_8429_98e7430917d3row14_col6\" class=\"data row14 col6\" >-0.3</td>\n",
       "                        <td id=\"T_2f35cd26_6286_11ea_8429_98e7430917d3row14_col7\" class=\"data row14 col7\" >-0.29</td>\n",
       "                        <td id=\"T_2f35cd26_6286_11ea_8429_98e7430917d3row14_col8\" class=\"data row14 col8\" >-0.43</td>\n",
       "                        <td id=\"T_2f35cd26_6286_11ea_8429_98e7430917d3row14_col9\" class=\"data row14 col9\" >0.49</td>\n",
       "                        <td id=\"T_2f35cd26_6286_11ea_8429_98e7430917d3row14_col10\" class=\"data row14 col10\" >0.54</td>\n",
       "                        <td id=\"T_2f35cd26_6286_11ea_8429_98e7430917d3row14_col11\" class=\"data row14 col11\" >0.27</td>\n",
       "                        <td id=\"T_2f35cd26_6286_11ea_8429_98e7430917d3row14_col12\" class=\"data row14 col12\" >0.38</td>\n",
       "                        <td id=\"T_2f35cd26_6286_11ea_8429_98e7430917d3row14_col13\" class=\"data row14 col13\" >0.34</td>\n",
       "                        <td id=\"T_2f35cd26_6286_11ea_8429_98e7430917d3row14_col14\" class=\"data row14 col14\" >1</td>\n",
       "                        <td id=\"T_2f35cd26_6286_11ea_8429_98e7430917d3row14_col15\" class=\"data row14 col15\" >0.1</td>\n",
       "                        <td id=\"T_2f35cd26_6286_11ea_8429_98e7430917d3row14_col16\" class=\"data row14 col16\" >0.81</td>\n",
       "                        <td id=\"T_2f35cd26_6286_11ea_8429_98e7430917d3row14_col17\" class=\"data row14 col17\" >0.81</td>\n",
       "                        <td id=\"T_2f35cd26_6286_11ea_8429_98e7430917d3row14_col18\" class=\"data row14 col18\" >-0.18</td>\n",
       "            </tr>\n",
       "            <tr>\n",
       "                        <th id=\"T_2f35cd26_6286_11ea_8429_98e7430917d3level0_row15\" class=\"row_heading level0 row15\" >mindom</th>\n",
       "                        <td id=\"T_2f35cd26_6286_11ea_8429_98e7430917d3row15_col0\" class=\"data row15 col0\" >-0.36</td>\n",
       "                        <td id=\"T_2f35cd26_6286_11ea_8429_98e7430917d3row15_col1\" class=\"data row15 col1\" >0.19</td>\n",
       "                        <td id=\"T_2f35cd26_6286_11ea_8429_98e7430917d3row15_col2\" class=\"data row15 col2\" >0.3</td>\n",
       "                        <td id=\"T_2f35cd26_6286_11ea_8429_98e7430917d3row15_col3\" class=\"data row15 col3\" >-0.024</td>\n",
       "                        <td id=\"T_2f35cd26_6286_11ea_8429_98e7430917d3row15_col4\" class=\"data row15 col4\" >-0.36</td>\n",
       "                        <td id=\"T_2f35cd26_6286_11ea_8429_98e7430917d3row15_col5\" class=\"data row15 col5\" >-0.062</td>\n",
       "                        <td id=\"T_2f35cd26_6286_11ea_8429_98e7430917d3row15_col6\" class=\"data row15 col6\" >-0.1</td>\n",
       "                        <td id=\"T_2f35cd26_6286_11ea_8429_98e7430917d3row15_col7\" class=\"data row15 col7\" >-0.29</td>\n",
       "                        <td id=\"T_2f35cd26_6286_11ea_8429_98e7430917d3row15_col8\" class=\"data row15 col8\" >-0.29</td>\n",
       "                        <td id=\"T_2f35cd26_6286_11ea_8429_98e7430917d3row15_col9\" class=\"data row15 col9\" >0.2</td>\n",
       "                        <td id=\"T_2f35cd26_6286_11ea_8429_98e7430917d3row15_col10\" class=\"data row15 col10\" >0.23</td>\n",
       "                        <td id=\"T_2f35cd26_6286_11ea_8429_98e7430917d3row15_col11\" class=\"data row15 col11\" >0.16</td>\n",
       "                        <td id=\"T_2f35cd26_6286_11ea_8429_98e7430917d3row15_col12\" class=\"data row15 col12\" >0.082</td>\n",
       "                        <td id=\"T_2f35cd26_6286_11ea_8429_98e7430917d3row15_col13\" class=\"data row15 col13\" >-0.24</td>\n",
       "                        <td id=\"T_2f35cd26_6286_11ea_8429_98e7430917d3row15_col14\" class=\"data row15 col14\" >0.1</td>\n",
       "                        <td id=\"T_2f35cd26_6286_11ea_8429_98e7430917d3row15_col15\" class=\"data row15 col15\" >1</td>\n",
       "                        <td id=\"T_2f35cd26_6286_11ea_8429_98e7430917d3row15_col16\" class=\"data row15 col16\" >0.027</td>\n",
       "                        <td id=\"T_2f35cd26_6286_11ea_8429_98e7430917d3row15_col17\" class=\"data row15 col17\" >0.0087</td>\n",
       "                        <td id=\"T_2f35cd26_6286_11ea_8429_98e7430917d3row15_col18\" class=\"data row15 col18\" >0.2</td>\n",
       "            </tr>\n",
       "            <tr>\n",
       "                        <th id=\"T_2f35cd26_6286_11ea_8429_98e7430917d3level0_row16\" class=\"row_heading level0 row16\" >maxdom</th>\n",
       "                        <td id=\"T_2f35cd26_6286_11ea_8429_98e7430917d3row16_col0\" class=\"data row16 col0\" >-0.48</td>\n",
       "                        <td id=\"T_2f35cd26_6286_11ea_8429_98e7430917d3row16_col1\" class=\"data row16 col1\" >0.44</td>\n",
       "                        <td id=\"T_2f35cd26_6286_11ea_8429_98e7430917d3row16_col2\" class=\"data row16 col2\" >0.46</td>\n",
       "                        <td id=\"T_2f35cd26_6286_11ea_8429_98e7430917d3row16_col3\" class=\"data row16 col3\" >0.34</td>\n",
       "                        <td id=\"T_2f35cd26_6286_11ea_8429_98e7430917d3row16_col4\" class=\"data row16 col4\" >-0.34</td>\n",
       "                        <td id=\"T_2f35cd26_6286_11ea_8429_98e7430917d3row16_col5\" class=\"data row16 col5\" >-0.31</td>\n",
       "                        <td id=\"T_2f35cd26_6286_11ea_8429_98e7430917d3row16_col6\" class=\"data row16 col6\" >-0.27</td>\n",
       "                        <td id=\"T_2f35cd26_6286_11ea_8429_98e7430917d3row16_col7\" class=\"data row16 col7\" >-0.32</td>\n",
       "                        <td id=\"T_2f35cd26_6286_11ea_8429_98e7430917d3row16_col8\" class=\"data row16 col8\" >-0.44</td>\n",
       "                        <td id=\"T_2f35cd26_6286_11ea_8429_98e7430917d3row16_col9\" class=\"data row16 col9\" >0.48</td>\n",
       "                        <td id=\"T_2f35cd26_6286_11ea_8429_98e7430917d3row16_col10\" class=\"data row16 col10\" >0.52</td>\n",
       "                        <td id=\"T_2f35cd26_6286_11ea_8429_98e7430917d3row16_col11\" class=\"data row16 col11\" >0.28</td>\n",
       "                        <td id=\"T_2f35cd26_6286_11ea_8429_98e7430917d3row16_col12\" class=\"data row16 col12\" >0.32</td>\n",
       "                        <td id=\"T_2f35cd26_6286_11ea_8429_98e7430917d3row16_col13\" class=\"data row16 col13\" >0.36</td>\n",
       "                        <td id=\"T_2f35cd26_6286_11ea_8429_98e7430917d3row16_col14\" class=\"data row16 col14\" >0.81</td>\n",
       "                        <td id=\"T_2f35cd26_6286_11ea_8429_98e7430917d3row16_col15\" class=\"data row16 col15\" >0.027</td>\n",
       "                        <td id=\"T_2f35cd26_6286_11ea_8429_98e7430917d3row16_col16\" class=\"data row16 col16\" >1</td>\n",
       "                        <td id=\"T_2f35cd26_6286_11ea_8429_98e7430917d3row16_col17\" class=\"data row16 col17\" >1</td>\n",
       "                        <td id=\"T_2f35cd26_6286_11ea_8429_98e7430917d3row16_col18\" class=\"data row16 col18\" >-0.43</td>\n",
       "            </tr>\n",
       "            <tr>\n",
       "                        <th id=\"T_2f35cd26_6286_11ea_8429_98e7430917d3level0_row17\" class=\"row_heading level0 row17\" >dfrange</th>\n",
       "                        <td id=\"T_2f35cd26_6286_11ea_8429_98e7430917d3row17_col0\" class=\"data row17 col0\" >-0.48</td>\n",
       "                        <td id=\"T_2f35cd26_6286_11ea_8429_98e7430917d3row17_col1\" class=\"data row17 col1\" >0.44</td>\n",
       "                        <td id=\"T_2f35cd26_6286_11ea_8429_98e7430917d3row17_col2\" class=\"data row17 col2\" >0.45</td>\n",
       "                        <td id=\"T_2f35cd26_6286_11ea_8429_98e7430917d3row17_col3\" class=\"data row17 col3\" >0.34</td>\n",
       "                        <td id=\"T_2f35cd26_6286_11ea_8429_98e7430917d3row17_col4\" class=\"data row17 col4\" >-0.33</td>\n",
       "                        <td id=\"T_2f35cd26_6286_11ea_8429_98e7430917d3row17_col5\" class=\"data row17 col5\" >-0.3</td>\n",
       "                        <td id=\"T_2f35cd26_6286_11ea_8429_98e7430917d3row17_col6\" class=\"data row17 col6\" >-0.27</td>\n",
       "                        <td id=\"T_2f35cd26_6286_11ea_8429_98e7430917d3row17_col7\" class=\"data row17 col7\" >-0.32</td>\n",
       "                        <td id=\"T_2f35cd26_6286_11ea_8429_98e7430917d3row17_col8\" class=\"data row17 col8\" >-0.43</td>\n",
       "                        <td id=\"T_2f35cd26_6286_11ea_8429_98e7430917d3row17_col9\" class=\"data row17 col9\" >0.47</td>\n",
       "                        <td id=\"T_2f35cd26_6286_11ea_8429_98e7430917d3row17_col10\" class=\"data row17 col10\" >0.52</td>\n",
       "                        <td id=\"T_2f35cd26_6286_11ea_8429_98e7430917d3row17_col11\" class=\"data row17 col11\" >0.28</td>\n",
       "                        <td id=\"T_2f35cd26_6286_11ea_8429_98e7430917d3row17_col12\" class=\"data row17 col12\" >0.32</td>\n",
       "                        <td id=\"T_2f35cd26_6286_11ea_8429_98e7430917d3row17_col13\" class=\"data row17 col13\" >0.36</td>\n",
       "                        <td id=\"T_2f35cd26_6286_11ea_8429_98e7430917d3row17_col14\" class=\"data row17 col14\" >0.81</td>\n",
       "                        <td id=\"T_2f35cd26_6286_11ea_8429_98e7430917d3row17_col15\" class=\"data row17 col15\" >0.0087</td>\n",
       "                        <td id=\"T_2f35cd26_6286_11ea_8429_98e7430917d3row17_col16\" class=\"data row17 col16\" >1</td>\n",
       "                        <td id=\"T_2f35cd26_6286_11ea_8429_98e7430917d3row17_col17\" class=\"data row17 col17\" >1</td>\n",
       "                        <td id=\"T_2f35cd26_6286_11ea_8429_98e7430917d3row17_col18\" class=\"data row17 col18\" >-0.43</td>\n",
       "            </tr>\n",
       "            <tr>\n",
       "                        <th id=\"T_2f35cd26_6286_11ea_8429_98e7430917d3level0_row18\" class=\"row_heading level0 row18\" >modindx</th>\n",
       "                        <td id=\"T_2f35cd26_6286_11ea_8429_98e7430917d3row18_col0\" class=\"data row18 col0\" >0.12</td>\n",
       "                        <td id=\"T_2f35cd26_6286_11ea_8429_98e7430917d3row18_col1\" class=\"data row18 col1\" >-0.21</td>\n",
       "                        <td id=\"T_2f35cd26_6286_11ea_8429_98e7430917d3row18_col2\" class=\"data row18 col2\" >-0.14</td>\n",
       "                        <td id=\"T_2f35cd26_6286_11ea_8429_98e7430917d3row18_col3\" class=\"data row18 col3\" >-0.22</td>\n",
       "                        <td id=\"T_2f35cd26_6286_11ea_8429_98e7430917d3row18_col4\" class=\"data row18 col4\" >0.041</td>\n",
       "                        <td id=\"T_2f35cd26_6286_11ea_8429_98e7430917d3row18_col5\" class=\"data row18 col5\" >-0.17</td>\n",
       "                        <td id=\"T_2f35cd26_6286_11ea_8429_98e7430917d3row18_col6\" class=\"data row18 col6\" >-0.21</td>\n",
       "                        <td id=\"T_2f35cd26_6286_11ea_8429_98e7430917d3row18_col7\" class=\"data row18 col7\" >0.2</td>\n",
       "                        <td id=\"T_2f35cd26_6286_11ea_8429_98e7430917d3row18_col8\" class=\"data row18 col8\" >0.21</td>\n",
       "                        <td id=\"T_2f35cd26_6286_11ea_8429_98e7430917d3row18_col9\" class=\"data row18 col9\" >-0.18</td>\n",
       "                        <td id=\"T_2f35cd26_6286_11ea_8429_98e7430917d3row18_col10\" class=\"data row18 col10\" >-0.22</td>\n",
       "                        <td id=\"T_2f35cd26_6286_11ea_8429_98e7430917d3row18_col11\" class=\"data row18 col11\" >-0.055</td>\n",
       "                        <td id=\"T_2f35cd26_6286_11ea_8429_98e7430917d3row18_col12\" class=\"data row18 col12\" >0.002</td>\n",
       "                        <td id=\"T_2f35cd26_6286_11ea_8429_98e7430917d3row18_col13\" class=\"data row18 col13\" >-0.36</td>\n",
       "                        <td id=\"T_2f35cd26_6286_11ea_8429_98e7430917d3row18_col14\" class=\"data row18 col14\" >-0.18</td>\n",
       "                        <td id=\"T_2f35cd26_6286_11ea_8429_98e7430917d3row18_col15\" class=\"data row18 col15\" >0.2</td>\n",
       "                        <td id=\"T_2f35cd26_6286_11ea_8429_98e7430917d3row18_col16\" class=\"data row18 col16\" >-0.43</td>\n",
       "                        <td id=\"T_2f35cd26_6286_11ea_8429_98e7430917d3row18_col17\" class=\"data row18 col17\" >-0.43</td>\n",
       "                        <td id=\"T_2f35cd26_6286_11ea_8429_98e7430917d3row18_col18\" class=\"data row18 col18\" >1</td>\n",
       "            </tr>\n",
       "    </tbody></table>"
      ],
      "text/plain": [
       "<pandas.io.formats.style.Styler at 0x29c7c4271c8>"
      ]
     },
     "execution_count": 8,
     "metadata": {},
     "output_type": "execute_result"
    }
   ],
   "source": [
    "mal =mal_fem1.iloc[:,1:20]\n",
    "corr = mal.corr()\n",
    "corr.style.background_gradient(cmap='viridis').set_precision(2)"
   ]
  },
  {
   "cell_type": "markdown",
   "metadata": {},
   "source": [
    "#### Observation: We can see that most of the variable are correlated with each other"
   ]
  },
  {
   "cell_type": "code",
   "execution_count": 9,
   "metadata": {
    "scrolled": true
   },
   "outputs": [
    {
     "data": {
      "text/plain": [
       "<matplotlib.axes._subplots.AxesSubplot at 0x29c7c5b1108>"
      ]
     },
     "execution_count": 9,
     "metadata": {},
     "output_type": "execute_result"
    },
    {
     "data": {
      "image/png": "[encoded data removed]",
      "text/plain": [
       "<Figure size 432x288 with 1 Axes>"
      ]
     },
     "metadata": {
      "needs_background": "light"
     },
     "output_type": "display_data"
    }
   ],
   "source": [
    "#Boxplot showing the range of variables\n",
    "m = mal_fem1.iloc[:,0:6]\n",
    "m.plot.box(grid='True')"
   ]
  },
  {
   "cell_type": "code",
   "execution_count": 10,
   "metadata": {
    "scrolled": true
   },
   "outputs": [
    {
     "data": {
      "text/plain": [
       "<matplotlib.axes._subplots.AxesSubplot at 0x29c7c6296c8>"
      ]
     },
     "execution_count": 10,
     "metadata": {},
     "output_type": "execute_result"
    },
    {
     "data": {
      "image/png": "[encoded data removed]",
      "text/plain": [
       "<Figure size 432x288 with 1 Axes>"
      ]
     },
     "metadata": {
      "needs_background": "light"
     },
     "output_type": "display_data"
    }
   ],
   "source": [
    "m = mal_fem1.iloc[:,6]\n",
    "m.plot.box(grid='True')"
   ]
  },
  {
   "cell_type": "code",
   "execution_count": 11,
   "metadata": {
    "scrolled": true
   },
   "outputs": [
    {
     "data": {
      "text/plain": [
       "<matplotlib.axes._subplots.AxesSubplot at 0x29c7c72f2c8>"
      ]
     },
     "execution_count": 11,
     "metadata": {},
     "output_type": "execute_result"
    },
    {
     "data": {
      "image/png": "[encoded data removed]",
      "text/plain": [
       "<Figure size 432x288 with 1 Axes>"
      ]
     },
     "metadata": {
      "needs_background": "light"
     },
     "output_type": "display_data"
    }
   ],
   "source": [
    "m = mal_fem1.iloc[:,7]\n",
    "m.plot.box(grid='True')"
   ]
  },
  {
   "cell_type": "code",
   "execution_count": 12,
   "metadata": {
    "scrolled": true
   },
   "outputs": [
    {
     "data": {
      "text/plain": [
       "<matplotlib.axes._subplots.AxesSubplot at 0x29c7c786cc8>"
      ]
     },
     "execution_count": 12,
     "metadata": {},
     "output_type": "execute_result"
    },
    {
     "data": {
      "image/png": "[encoded data removed]",
      "text/plain": [
       "<Figure size 432x288 with 1 Axes>"
      ]
     },
     "metadata": {
      "needs_background": "light"
     },
     "output_type": "display_data"
    }
   ],
   "source": [
    "m = mal_fem1.iloc[:,8:15]\n",
    "m.plot.box(grid='True')"
   ]
  },
  {
   "cell_type": "code",
   "execution_count": 13,
   "metadata": {},
   "outputs": [
    {
     "data": {
      "text/plain": [
       "<matplotlib.axes._subplots.AxesSubplot at 0x29c7c88a788>"
      ]
     },
     "execution_count": 13,
     "metadata": {},
     "output_type": "execute_result"
    },
    {
     "data": {
      "image/png": "[encoded data removed]",
      "text/plain": [
       "<Figure size 432x288 with 1 Axes>"
      ]
     },
     "metadata": {
      "needs_background": "light"
     },
     "output_type": "display_data"
    }
   ],
   "source": [
    "m = mal_fem1.iloc[:,15:20]\n",
    "m.plot.box(grid='True')"
   ]
  },
  {
   "cell_type": "code",
   "execution_count": 14,
   "metadata": {},
   "outputs": [
    {
     "data": {
      "image/png": "[encoded data removed]",
      "text/plain": [
       "<Figure size 1440x1800 with 21 Axes>"
      ]
     },
     "metadata": {
      "needs_background": "light"
     },
     "output_type": "display_data"
    }
   ],
   "source": [
    "mal_fem1['-'] = ''\n",
    "\n",
    "plt.figure(figsize=(20, 25))\n",
    "for i , col in enumerate(list(mal_fem1.select_dtypes(include =np.number).columns)):\n",
    "    ax = plt.subplot(12,2,i+1)\n",
    "    sns.boxplot(x= mal_fem1[\"-\"], y= mal_fem1[col])\n",
    "\n",
    "mal_fem1.drop(columns = ['-'], inplace = True)"
   ]
  },
  {
   "cell_type": "markdown",
   "metadata": {},
   "source": [
    "#### We can observe a lot of outliers, therefore we now do an outlier treatment"
   ]
  },
  {
   "cell_type": "markdown",
   "metadata": {},
   "source": [
    "### Outlier Treatment"
   ]
  },
  {
   "cell_type": "code",
   "execution_count": 15,
   "metadata": {},
   "outputs": [
    {
     "name": "stdout",
     "output_type": "stream",
     "text": [
      "meanfreq    0.035484\n",
      "sd          0.025067\n",
      "median      0.041026\n",
      "Q25         0.064852\n",
      "Q75         0.034914\n",
      "IQR         0.071615\n",
      "skew        1.282125\n",
      "kurt        7.979358\n",
      "sp.ent      0.066902\n",
      "sfm         0.275636\n",
      "mode        0.103088\n",
      "centroid    0.035484\n",
      "meanfun     0.052582\n",
      "minfun      0.029681\n",
      "maxfun      0.023488\n",
      "meandom     0.757338\n",
      "mindom      0.062500\n",
      "maxdom      4.937500\n",
      "dfrange     4.947266\n",
      "modindx     0.109417\n",
      "class       1.000000\n",
      "dtype: float64\n"
     ]
    }
   ],
   "source": [
    "Q1 = mal_fem1.quantile(0.25)\n",
    "Q3 = mal_fem1.quantile(0.75)\n",
    "IQR = Q3 - Q1\n",
    "print(IQR)"
   ]
  },
  {
   "cell_type": "code",
   "execution_count": 16,
   "metadata": {},
   "outputs": [
    {
     "data": {
      "text/plain": [
       "(2147, 21)"
      ]
     },
     "execution_count": 16,
     "metadata": {},
     "output_type": "execute_result"
    }
   ],
   "source": [
    "mal_fem1_o = mal_fem1[~((mal_fem1 < (Q1 - 1.5 * IQR)) |(mal_fem1 > (Q3 + 1.5 * IQR))).any(axis=1)]\n",
    "mal_fem1_o.shape"
   ]
  },
  {
   "cell_type": "code",
   "execution_count": 17,
   "metadata": {},
   "outputs": [
    {
     "data": {
      "text/plain": [
       "meanfreq    0\n",
       "sd          0\n",
       "median      0\n",
       "Q25         0\n",
       "Q75         0\n",
       "IQR         0\n",
       "skew        0\n",
       "kurt        0\n",
       "sp.ent      0\n",
       "sfm         0\n",
       "mode        0\n",
       "centroid    0\n",
       "meanfun     0\n",
       "minfun      0\n",
       "maxfun      0\n",
       "meandom     0\n",
       "mindom      0\n",
       "maxdom      0\n",
       "dfrange     0\n",
       "modindx     0\n",
       "class       0\n",
       "dtype: int64"
      ]
     },
     "execution_count": 17,
     "metadata": {},
     "output_type": "execute_result"
    }
   ],
   "source": [
    "#Check null values :\n",
    "mal_fem1.isnull().sum()\n",
    "#There are no null values"
   ]
  },
  {
   "cell_type": "code",
   "execution_count": 18,
   "metadata": {
    "scrolled": false
   },
   "outputs": [
    {
     "name": "stdout",
     "output_type": "stream",
     "text": [
      "0    1081\n",
      "1    1066\n",
      "Name: class, dtype: int64\n"
     ]
    }
   ],
   "source": [
    "print(mal_fem1_o['class'].value_counts())"
   ]
  },
  {
   "cell_type": "markdown",
   "metadata": {},
   "source": [
    "### Since the dataset is very small, maybe its not capturing all the values therefore we can't say for sure if these are outliers.(link-doc)"
   ]
  },
  {
   "cell_type": "markdown",
   "metadata": {},
   "source": [
    "### Train and test split"
   ]
  },
  {
   "cell_type": "code",
   "execution_count": 19,
   "metadata": {},
   "outputs": [],
   "source": [
    "x= mal_fem1.iloc[:,:20]\n",
    "y=mal_fem1.iloc[:,-1]\n",
    "x[\"intercept\"] = 1"
   ]
  },
  {
   "cell_type": "code",
   "execution_count": 20,
   "metadata": {},
   "outputs": [],
   "source": [
    "X_train, X_test, y_train, y_test = train_test_split(x, y, test_size=0.3, random_state=1)"
   ]
  },
  {
   "cell_type": "markdown",
   "metadata": {},
   "source": [
    "### Normalizing the data"
   ]
  },
  {
   "cell_type": "code",
   "execution_count": 21,
   "metadata": {},
   "outputs": [],
   "source": [
    "#Normalizing the data\n",
    "def norm(dataset):\n",
    "    scaler = StandardScaler()\n",
    "    newd =scaler.fit_transform(dataset)\n",
    "    return newd"
   ]
  },
  {
   "cell_type": "code",
   "execution_count": 22,
   "metadata": {},
   "outputs": [],
   "source": [
    "X_train=norm(X_train)\n",
    "X_test=norm(X_test)"
   ]
  },
  {
   "cell_type": "markdown",
   "metadata": {},
   "source": [
    "## Support Vector machine"
   ]
  },
  {
   "cell_type": "markdown",
   "metadata": {},
   "source": [
    "### Running default SVM"
   ]
  },
  {
   "cell_type": "code",
   "execution_count": 218,
   "metadata": {},
   "outputs": [
    {
     "name": "stdout",
     "output_type": "stream",
     "text": [
      "Accuracy Score: 0.9810725552050473\n"
     ]
    },
    {
     "name": "stderr",
     "output_type": "stream",
     "text": [
      "C:\\Users\\ikapo\\Anaconda3\\lib\\site-packages\\sklearn\\svm\\base.py:193: FutureWarning: The default value of gamma will change from 'auto' to 'scale' in version 0.22 to account better for unscaled features. Set gamma explicitly to 'auto' or 'scale' to avoid this warning.\n",
      "  \"avoid this warning.\", FutureWarning)\n"
     ]
    }
   ],
   "source": [
    "svc=SVC()\n",
    "svc.fit(X_train,y_train)\n",
    "y_pred=svc.predict(X_test)\n",
    "print('Accuracy Score:',metrics.accuracy_score(y_test,y_pred))"
   ]
  },
  {
   "cell_type": "code",
   "execution_count": 219,
   "metadata": {},
   "outputs": [
    {
     "name": "stdout",
     "output_type": "stream",
     "text": [
      "Accuracy Score: 0.9869192602616148\n"
     ]
    }
   ],
   "source": [
    "y_pred=svc.predict(X_train)\n",
    "print('Accuracy Score:',metrics.accuracy_score(y_train,y_pred))"
   ]
  },
  {
   "cell_type": "markdown",
   "metadata": {},
   "source": [
    "## Creating a function for svm"
   ]
  },
  {
   "cell_type": "code",
   "execution_count": 220,
   "metadata": {},
   "outputs": [
    {
     "name": "stdout",
     "output_type": "stream",
     "text": [
      "Accuracy Score: 0.9768664563617245\n"
     ]
    }
   ],
   "source": [
    "svc=SVC(kernel = 'linear')\n",
    "svc.fit(X_train,y_train)\n",
    "y_pred=svc.predict(X_test)\n",
    "print('Accuracy Score:', metrics.accuracy_score(y_test,y_pred))"
   ]
  },
  {
   "cell_type": "markdown",
   "metadata": {},
   "source": [
    "### Kernel=Linear"
   ]
  },
  {
   "cell_type": "code",
   "execution_count": 221,
   "metadata": {
    "scrolled": true
   },
   "outputs": [
    {
     "name": "stdout",
     "output_type": "stream",
     "text": [
      "Accuracy Score: 0.9765448804691024\n"
     ]
    }
   ],
   "source": [
    "y_pred=svc.predict(X_train)\n",
    "print('Accuracy Score:',metrics.accuracy_score(y_train,y_pred))"
   ]
  },
  {
   "cell_type": "markdown",
   "metadata": {},
   "source": [
    "### Kernel=Gaussian/rbf"
   ]
  },
  {
   "cell_type": "code",
   "execution_count": 222,
   "metadata": {
    "scrolled": true
   },
   "outputs": [
    {
     "name": "stdout",
     "output_type": "stream",
     "text": [
      "Accuracy Score: 0.9810725552050473\n"
     ]
    },
    {
     "name": "stderr",
     "output_type": "stream",
     "text": [
      "C:\\Users\\ikapo\\Anaconda3\\lib\\site-packages\\sklearn\\svm\\base.py:193: FutureWarning: The default value of gamma will change from 'auto' to 'scale' in version 0.22 to account better for unscaled features. Set gamma explicitly to 'auto' or 'scale' to avoid this warning.\n",
      "  \"avoid this warning.\", FutureWarning)\n"
     ]
    }
   ],
   "source": [
    "svc=SVC(kernel = 'rbf')\n",
    "svc.fit(X_train,y_train)\n",
    "y_pred=svc.predict(X_test)\n",
    "print('Accuracy Score:', metrics.accuracy_score(y_test,y_pred))"
   ]
  },
  {
   "cell_type": "code",
   "execution_count": 223,
   "metadata": {},
   "outputs": [
    {
     "name": "stdout",
     "output_type": "stream",
     "text": [
      "Accuracy Score: 0.9869192602616148\n"
     ]
    }
   ],
   "source": [
    "y_pred=svc.predict(X_train)\n",
    "print('Accuracy Score:',metrics.accuracy_score(y_train,y_pred))"
   ]
  },
  {
   "cell_type": "markdown",
   "metadata": {},
   "source": [
    "### Kernel=Polynomial"
   ]
  },
  {
   "cell_type": "code",
   "execution_count": 224,
   "metadata": {},
   "outputs": [
    {
     "name": "stdout",
     "output_type": "stream",
     "text": [
      "Accuracy Score: 0.9600420609884333\n"
     ]
    },
    {
     "name": "stderr",
     "output_type": "stream",
     "text": [
      "C:\\Users\\ikapo\\Anaconda3\\lib\\site-packages\\sklearn\\svm\\base.py:193: FutureWarning: The default value of gamma will change from 'auto' to 'scale' in version 0.22 to account better for unscaled features. Set gamma explicitly to 'auto' or 'scale' to avoid this warning.\n",
      "  \"avoid this warning.\", FutureWarning)\n"
     ]
    }
   ],
   "source": [
    "svc=SVC(kernel = 'poly')\n",
    "svc.fit(X_train,y_train)\n",
    "y_pred=svc.predict(X_test)\n",
    "print('Accuracy Score:', metrics.accuracy_score(y_test,y_pred))"
   ]
  },
  {
   "cell_type": "code",
   "execution_count": 225,
   "metadata": {},
   "outputs": [
    {
     "name": "stdout",
     "output_type": "stream",
     "text": [
      "Accuracy Score: 0.9643662607126748\n"
     ]
    }
   ],
   "source": [
    "y_pred=svc.predict(X_train)\n",
    "print('Accuracy Score:',metrics.accuracy_score(y_train,y_pred))"
   ]
  },
  {
   "cell_type": "markdown",
   "metadata": {},
   "source": [
    "### Repeating the same exercise for the runtime dataset used in project 1"
   ]
  },
  {
   "cell_type": "code",
   "execution_count": 23,
   "metadata": {},
   "outputs": [
    {
     "data": {
      "text/html": [
       "<div>\n",
       "<style scoped>\n",
       "    .dataframe tbody tr th:only-of-type {\n",
       "        vertical-align: middle;\n",
       "    }\n",
       "\n",
       "    .dataframe tbody tr th {\n",
       "        vertical-align: top;\n",
       "    }\n",
       "\n",
       "    .dataframe thead th {\n",
       "        text-align: right;\n",
       "    }\n",
       "</style>\n",
       "<table border=\"1\" class=\"dataframe\">\n",
       "  <thead>\n",
       "    <tr style=\"text-align: right;\">\n",
       "      <th></th>\n",
       "      <th>MWG</th>\n",
       "      <th>NWG</th>\n",
       "      <th>KWG</th>\n",
       "      <th>MDIMC</th>\n",
       "      <th>NDIMC</th>\n",
       "      <th>MDIMA</th>\n",
       "      <th>NDIMB</th>\n",
       "      <th>KWI</th>\n",
       "      <th>VWM</th>\n",
       "      <th>VWN</th>\n",
       "      <th>STRM</th>\n",
       "      <th>STRN</th>\n",
       "      <th>SA</th>\n",
       "      <th>SB</th>\n",
       "      <th>log_run</th>\n",
       "    </tr>\n",
       "  </thead>\n",
       "  <tbody>\n",
       "    <tr>\n",
       "      <td>0</td>\n",
       "      <td>16</td>\n",
       "      <td>16</td>\n",
       "      <td>16</td>\n",
       "      <td>8</td>\n",
       "      <td>8</td>\n",
       "      <td>8</td>\n",
       "      <td>8</td>\n",
       "      <td>2</td>\n",
       "      <td>1</td>\n",
       "      <td>1</td>\n",
       "      <td>0</td>\n",
       "      <td>0</td>\n",
       "      <td>0</td>\n",
       "      <td>0</td>\n",
       "      <td>1.0</td>\n",
       "    </tr>\n",
       "    <tr>\n",
       "      <td>1</td>\n",
       "      <td>16</td>\n",
       "      <td>16</td>\n",
       "      <td>16</td>\n",
       "      <td>8</td>\n",
       "      <td>8</td>\n",
       "      <td>8</td>\n",
       "      <td>8</td>\n",
       "      <td>2</td>\n",
       "      <td>1</td>\n",
       "      <td>1</td>\n",
       "      <td>0</td>\n",
       "      <td>0</td>\n",
       "      <td>0</td>\n",
       "      <td>1</td>\n",
       "      <td>1.0</td>\n",
       "    </tr>\n",
       "    <tr>\n",
       "      <td>2</td>\n",
       "      <td>16</td>\n",
       "      <td>16</td>\n",
       "      <td>16</td>\n",
       "      <td>8</td>\n",
       "      <td>8</td>\n",
       "      <td>8</td>\n",
       "      <td>8</td>\n",
       "      <td>2</td>\n",
       "      <td>1</td>\n",
       "      <td>1</td>\n",
       "      <td>0</td>\n",
       "      <td>0</td>\n",
       "      <td>1</td>\n",
       "      <td>0</td>\n",
       "      <td>1.0</td>\n",
       "    </tr>\n",
       "    <tr>\n",
       "      <td>3</td>\n",
       "      <td>16</td>\n",
       "      <td>16</td>\n",
       "      <td>16</td>\n",
       "      <td>8</td>\n",
       "      <td>8</td>\n",
       "      <td>8</td>\n",
       "      <td>8</td>\n",
       "      <td>2</td>\n",
       "      <td>1</td>\n",
       "      <td>1</td>\n",
       "      <td>0</td>\n",
       "      <td>0</td>\n",
       "      <td>1</td>\n",
       "      <td>1</td>\n",
       "      <td>1.0</td>\n",
       "    </tr>\n",
       "    <tr>\n",
       "      <td>4</td>\n",
       "      <td>16</td>\n",
       "      <td>16</td>\n",
       "      <td>16</td>\n",
       "      <td>8</td>\n",
       "      <td>8</td>\n",
       "      <td>8</td>\n",
       "      <td>8</td>\n",
       "      <td>2</td>\n",
       "      <td>1</td>\n",
       "      <td>1</td>\n",
       "      <td>0</td>\n",
       "      <td>1</td>\n",
       "      <td>0</td>\n",
       "      <td>0</td>\n",
       "      <td>1.0</td>\n",
       "    </tr>\n",
       "    <tr>\n",
       "      <td>...</td>\n",
       "      <td>...</td>\n",
       "      <td>...</td>\n",
       "      <td>...</td>\n",
       "      <td>...</td>\n",
       "      <td>...</td>\n",
       "      <td>...</td>\n",
       "      <td>...</td>\n",
       "      <td>...</td>\n",
       "      <td>...</td>\n",
       "      <td>...</td>\n",
       "      <td>...</td>\n",
       "      <td>...</td>\n",
       "      <td>...</td>\n",
       "      <td>...</td>\n",
       "      <td>...</td>\n",
       "    </tr>\n",
       "    <tr>\n",
       "      <td>241595</td>\n",
       "      <td>128</td>\n",
       "      <td>128</td>\n",
       "      <td>32</td>\n",
       "      <td>32</td>\n",
       "      <td>32</td>\n",
       "      <td>32</td>\n",
       "      <td>32</td>\n",
       "      <td>8</td>\n",
       "      <td>4</td>\n",
       "      <td>4</td>\n",
       "      <td>1</td>\n",
       "      <td>0</td>\n",
       "      <td>1</td>\n",
       "      <td>1</td>\n",
       "      <td>0.0</td>\n",
       "    </tr>\n",
       "    <tr>\n",
       "      <td>241596</td>\n",
       "      <td>128</td>\n",
       "      <td>128</td>\n",
       "      <td>32</td>\n",
       "      <td>32</td>\n",
       "      <td>32</td>\n",
       "      <td>32</td>\n",
       "      <td>32</td>\n",
       "      <td>8</td>\n",
       "      <td>4</td>\n",
       "      <td>4</td>\n",
       "      <td>1</td>\n",
       "      <td>1</td>\n",
       "      <td>0</td>\n",
       "      <td>0</td>\n",
       "      <td>0.0</td>\n",
       "    </tr>\n",
       "    <tr>\n",
       "      <td>241597</td>\n",
       "      <td>128</td>\n",
       "      <td>128</td>\n",
       "      <td>32</td>\n",
       "      <td>32</td>\n",
       "      <td>32</td>\n",
       "      <td>32</td>\n",
       "      <td>32</td>\n",
       "      <td>8</td>\n",
       "      <td>4</td>\n",
       "      <td>4</td>\n",
       "      <td>1</td>\n",
       "      <td>1</td>\n",
       "      <td>0</td>\n",
       "      <td>1</td>\n",
       "      <td>0.0</td>\n",
       "    </tr>\n",
       "    <tr>\n",
       "      <td>241598</td>\n",
       "      <td>128</td>\n",
       "      <td>128</td>\n",
       "      <td>32</td>\n",
       "      <td>32</td>\n",
       "      <td>32</td>\n",
       "      <td>32</td>\n",
       "      <td>32</td>\n",
       "      <td>8</td>\n",
       "      <td>4</td>\n",
       "      <td>4</td>\n",
       "      <td>1</td>\n",
       "      <td>1</td>\n",
       "      <td>1</td>\n",
       "      <td>0</td>\n",
       "      <td>0.0</td>\n",
       "    </tr>\n",
       "    <tr>\n",
       "      <td>241599</td>\n",
       "      <td>128</td>\n",
       "      <td>128</td>\n",
       "      <td>32</td>\n",
       "      <td>32</td>\n",
       "      <td>32</td>\n",
       "      <td>32</td>\n",
       "      <td>32</td>\n",
       "      <td>8</td>\n",
       "      <td>4</td>\n",
       "      <td>4</td>\n",
       "      <td>1</td>\n",
       "      <td>1</td>\n",
       "      <td>1</td>\n",
       "      <td>1</td>\n",
       "      <td>0.0</td>\n",
       "    </tr>\n",
       "  </tbody>\n",
       "</table>\n",
       "<p>241600 rows × 15 columns</p>\n",
       "</div>"
      ],
      "text/plain": [
       "        MWG  NWG  KWG  MDIMC  NDIMC  MDIMA  NDIMB  KWI  VWM  VWN  STRM  STRN  \\\n",
       "0        16   16   16      8      8      8      8    2    1    1     0     0   \n",
       "1        16   16   16      8      8      8      8    2    1    1     0     0   \n",
       "2        16   16   16      8      8      8      8    2    1    1     0     0   \n",
       "3        16   16   16      8      8      8      8    2    1    1     0     0   \n",
       "4        16   16   16      8      8      8      8    2    1    1     0     1   \n",
       "...     ...  ...  ...    ...    ...    ...    ...  ...  ...  ...   ...   ...   \n",
       "241595  128  128   32     32     32     32     32    8    4    4     1     0   \n",
       "241596  128  128   32     32     32     32     32    8    4    4     1     1   \n",
       "241597  128  128   32     32     32     32     32    8    4    4     1     1   \n",
       "241598  128  128   32     32     32     32     32    8    4    4     1     1   \n",
       "241599  128  128   32     32     32     32     32    8    4    4     1     1   \n",
       "\n",
       "        SA  SB  log_run  \n",
       "0        0   0      1.0  \n",
       "1        0   1      1.0  \n",
       "2        1   0      1.0  \n",
       "3        1   1      1.0  \n",
       "4        0   0      1.0  \n",
       "...     ..  ..      ...  \n",
       "241595   1   1      0.0  \n",
       "241596   0   0      0.0  \n",
       "241597   0   1      0.0  \n",
       "241598   1   0      0.0  \n",
       "241599   1   1      0.0  \n",
       "\n",
       "[241600 rows x 15 columns]"
      ]
     },
     "execution_count": 23,
     "metadata": {},
     "output_type": "execute_result"
    }
   ],
   "source": [
    "run = pd.read_csv(\"sgemm_product.csv\",index_col=False)\n",
    "run[\"runavg (ms)\"] = (run[\"Run1 (ms)\"]+run[\"Run2 (ms)\"]+run[\"Run3 (ms)\"]+run[\"Run4 (ms)\"])/4\n",
    "run[\"log_run\"] = np.where(run['runavg (ms)']>statistics.median(run[\"runavg (ms)\"]), 1.0, 0.0)\n",
    "run=run.drop([\"runavg (ms)\", \"Run1 (ms)\",\"Run2 (ms)\",\"Run3 (ms)\",\"Run4 (ms)\"],axis=1)\n",
    "run"
   ]
  },
  {
   "cell_type": "code",
   "execution_count": 24,
   "metadata": {},
   "outputs": [],
   "source": [
    "x_1= run.iloc[:,:14]\n",
    "y_1=run.iloc[:,-1]\n",
    "x_1[\"intercept\"]=1\n",
    "X_train, X_test, y_train, y_test = train_test_split(x_1, y_1, test_size=0.3, random_state=1)\n",
    "X_train=norm(X_train)\n",
    "X_test=norm(X_test)"
   ]
  },
  {
   "cell_type": "code",
   "execution_count": null,
   "metadata": {},
   "outputs": [],
   "source": [
    "svc=SVC()\n",
    "svc.fit(X_train,y_train)\n",
    "y_pred=svc.predict(X_test)\n",
    "print('Accuracy Score:',metrics.accuracy_score(y_test,y_pred))"
   ]
  },
  {
   "cell_type": "code",
   "execution_count": 34,
   "metadata": {},
   "outputs": [
    {
     "name": "stdout",
     "output_type": "stream",
     "text": [
      "Accuracy Score: 0.9614888836329234\n"
     ]
    }
   ],
   "source": [
    "y_pred=svc.predict(X_train)\n",
    "print('Accuracy Score:',metrics.accuracy_score(y_train,y_pred))"
   ]
  },
  {
   "cell_type": "markdown",
   "metadata": {},
   "source": [
    "### Linear"
   ]
  },
  {
   "cell_type": "code",
   "execution_count": 35,
   "metadata": {
    "scrolled": true
   },
   "outputs": [
    {
     "name": "stdout",
     "output_type": "stream",
     "text": [
      "Accuracy Score: 0.8304635761589404\n"
     ]
    }
   ],
   "source": [
    "svc=SVC(kernel = 'linear')\n",
    "svc.fit(X_train,y_train)\n",
    "y_pred=svc.predict(X_test)\n",
    "print('Accuracy Score:', metrics.accuracy_score(y_test,y_pred))"
   ]
  },
  {
   "cell_type": "code",
   "execution_count": 36,
   "metadata": {},
   "outputs": [
    {
     "name": "stdout",
     "output_type": "stream",
     "text": [
      "Accuracy Score: 0.8325035477767266\n"
     ]
    }
   ],
   "source": [
    "y_pred=svc.predict(X_train)\n",
    "print('Accuracy Score:',metrics.accuracy_score(y_train,y_pred))"
   ]
  },
  {
   "cell_type": "markdown",
   "metadata": {},
   "source": [
    "### RBF"
   ]
  },
  {
   "cell_type": "code",
   "execution_count": 37,
   "metadata": {},
   "outputs": [
    {
     "name": "stdout",
     "output_type": "stream",
     "text": [
      "Accuracy Score: 0.9591197571743929\n"
     ]
    }
   ],
   "source": [
    "svc=SVC(kernel = 'rbf')\n",
    "svc.fit(X_train,y_train)\n",
    "y_pred=svc.predict(X_test)\n",
    "print('Accuracy Score:', metrics.accuracy_score(y_test,y_pred))"
   ]
  },
  {
   "cell_type": "code",
   "execution_count": 38,
   "metadata": {},
   "outputs": [
    {
     "name": "stdout",
     "output_type": "stream",
     "text": [
      "Accuracy Score: 0.9614888836329234\n"
     ]
    }
   ],
   "source": [
    "y_pred=svc.predict(X_train)\n",
    "print('Accuracy Score:',metrics.accuracy_score(y_train,y_pred))"
   ]
  },
  {
   "cell_type": "markdown",
   "metadata": {},
   "source": [
    "### Polynomial"
   ]
  },
  {
   "cell_type": "code",
   "execution_count": 39,
   "metadata": {},
   "outputs": [
    {
     "name": "stdout",
     "output_type": "stream",
     "text": [
      "Accuracy Score: 0.9073537527593819\n"
     ]
    }
   ],
   "source": [
    "svc=SVC(kernel = 'poly')\n",
    "svc.fit(X_train,y_train)\n",
    "y_pred=svc.predict(X_test)\n",
    "print('Accuracy Score:', metrics.accuracy_score(y_test,y_pred))"
   ]
  },
  {
   "cell_type": "code",
   "execution_count": 42,
   "metadata": {},
   "outputs": [
    {
     "name": "stdout",
     "output_type": "stream",
     "text": [
      "Accuracy Score: 0.9105901135288552\n"
     ]
    }
   ],
   "source": [
    "y_pred=svc.predict(X_train)\n",
    "print('Accuracy Score:',metrics.accuracy_score(y_train,y_pred))"
   ]
  },
  {
   "cell_type": "markdown",
   "metadata": {},
   "source": [
    "## DECISION TREES"
   ]
  },
  {
   "cell_type": "markdown",
   "metadata": {},
   "source": [
    "### DECISION TREE CLASSIFIER FOR VOICE DETECTION DATA"
   ]
  },
  {
   "cell_type": "code",
   "execution_count": 239,
   "metadata": {},
   "outputs": [],
   "source": [
    "X_train, X_test, y_train, y_test = train_test_split(x, y, test_size=0.2, random_state=1)\n",
    "X_train=norm(X_train)\n",
    "X_test=norm(X_test)"
   ]
  },
  {
   "cell_type": "code",
   "execution_count": 240,
   "metadata": {},
   "outputs": [
    {
     "name": "stdout",
     "output_type": "stream",
     "text": [
      "Accuracy Score: 0.9589905362776026\n"
     ]
    }
   ],
   "source": [
    "model = DecisionTreeClassifier()\n",
    "model.fit(X_train, y_train)\n",
    "pred = model.predict(X_test) \n",
    "acc = metrics.accuracy_score(y_test, pred)\n",
    "print('Accuracy Score:',acc)"
   ]
  },
  {
   "cell_type": "code",
   "execution_count": 241,
   "metadata": {},
   "outputs": [
    {
     "name": "stdout",
     "output_type": "stream",
     "text": [
      "Accuracy Score: 1.0\n"
     ]
    }
   ],
   "source": [
    "y_pred= model.predict(X_train)\n",
    "print('Accuracy Score:',metrics.accuracy_score(y_train,y_pred))"
   ]
  },
  {
   "cell_type": "markdown",
   "metadata": {},
   "source": [
    "### DECISION TREE CLASSIFIER FOR RUN DATA"
   ]
  },
  {
   "cell_type": "code",
   "execution_count": 242,
   "metadata": {},
   "outputs": [],
   "source": [
    "X_train, X_test, y_train, y_test = train_test_split(x_1, y_1, test_size=0.3, random_state=3)\n",
    "X_train=norm(X_train)\n",
    "X_test=norm(X_test)"
   ]
  },
  {
   "cell_type": "code",
   "execution_count": 243,
   "metadata": {},
   "outputs": [
    {
     "name": "stdout",
     "output_type": "stream",
     "text": [
      "Accuracy Score: 0.9906318984547461\n"
     ]
    }
   ],
   "source": [
    "model = DecisionTreeClassifier()\n",
    "model.fit(X_train, y_train)\n",
    "pred = model.predict(X_test) \n",
    "acc = metrics.accuracy_score(y_test, pred)\n",
    "print('Accuracy Score:',acc)"
   ]
  },
  {
   "cell_type": "code",
   "execution_count": 244,
   "metadata": {},
   "outputs": [
    {
     "name": "stdout",
     "output_type": "stream",
     "text": [
      "Accuracy Score: 1.0\n"
     ]
    }
   ],
   "source": [
    "y_pred= model.predict(X_train)\n",
    "print('Accuracy Score:',metrics.accuracy_score(y_train,y_pred))"
   ]
  },
  {
   "cell_type": "markdown",
   "metadata": {},
   "source": [
    "## DECISION TREES WITH PRUNING"
   ]
  },
  {
   "cell_type": "markdown",
   "metadata": {},
   "source": [
    "### Voice Detection"
   ]
  },
  {
   "cell_type": "code",
   "execution_count": 25,
   "metadata": {},
   "outputs": [],
   "source": [
    "X_train, X_test, y_train, y_test = train_test_split(x, y, test_size=0.2, random_state=1)\n",
    "X_train=norm(X_train)\n",
    "X_test=norm(X_test)"
   ]
  },
  {
   "cell_type": "code",
   "execution_count": 26,
   "metadata": {},
   "outputs": [],
   "source": [
    "accuracy_out=[]\n",
    "accuracy_in=[]\n",
    "for i in range(1,20):\n",
    "    model = DecisionTreeClassifier(max_depth=i,criterion='entropy')\n",
    "    model.fit(X_train, y_train)\n",
    "    pred_out = model.predict(X_test) \n",
    "    acc_out = metrics.accuracy_score(y_test, pred_out)\n",
    "    pred_in = model.predict(X_train)\n",
    "    acc_in = metrics.accuracy_score(y_train, pred_in)\n",
    "    accuracy_in.append(acc_in)\n",
    "    accuracy_out.append(acc_out)"
   ]
  },
  {
   "cell_type": "code",
   "execution_count": 27,
   "metadata": {},
   "outputs": [
    {
     "data": {
      "text/plain": [
       "(19,\n",
       " [0.9542586750788643,\n",
       "  0.9542586750788643,\n",
       "  0.9574132492113565,\n",
       "  0.9605678233438486,\n",
       "  0.9716088328075709,\n",
       "  0.9574132492113565,\n",
       "  0.9574132492113565,\n",
       "  0.9621451104100947,\n",
       "  0.9558359621451105,\n",
       "  0.9605678233438486,\n",
       "  0.9605678233438486,\n",
       "  0.9605678233438486,\n",
       "  0.9574132492113565,\n",
       "  0.9621451104100947,\n",
       "  0.9558359621451105,\n",
       "  0.9605678233438486,\n",
       "  0.9574132492113565,\n",
       "  0.9558359621451105,\n",
       "  0.9621451104100947])"
      ]
     },
     "execution_count": 27,
     "metadata": {},
     "output_type": "execute_result"
    },
    {
     "data": {
      "image/png": "[encoded data removed]",
      "text/plain": [
       "<Figure size 432x288 with 1 Axes>"
      ]
     },
     "metadata": {
      "needs_background": "light"
     },
     "output_type": "display_data"
    }
   ],
   "source": [
    "plt.plot(accuracy_out)\n",
    "i,accuracy_out"
   ]
  },
  {
   "cell_type": "code",
   "execution_count": 355,
   "metadata": {},
   "outputs": [
    {
     "data": {
      "text/plain": [
       "(19,\n",
       " [0.9546172059984215,\n",
       "  0.9546172059984215,\n",
       "  0.9700078926598263,\n",
       "  0.9771112865035517,\n",
       "  0.9865824782951855,\n",
       "  0.9932912391475928,\n",
       "  0.9968429360694554,\n",
       "  0.9992107340173638,\n",
       "  1.0,\n",
       "  1.0,\n",
       "  1.0,\n",
       "  1.0,\n",
       "  1.0,\n",
       "  1.0,\n",
       "  1.0,\n",
       "  1.0,\n",
       "  1.0,\n",
       "  1.0,\n",
       "  1.0])"
      ]
     },
     "execution_count": 355,
     "metadata": {},
     "output_type": "execute_result"
    },
    {
     "data": {
      "image/png": "[encoded data removed]",
      "text/plain": [
       "<Figure size 432x288 with 1 Axes>"
      ]
     },
     "metadata": {},
     "output_type": "display_data"
    }
   ],
   "source": [
    "plt.plot(accuracy_in)\n",
    "i,accuracy_in"
   ]
  },
  {
   "cell_type": "markdown",
   "metadata": {},
   "source": [
    "### Run data"
   ]
  },
  {
   "cell_type": "code",
   "execution_count": 321,
   "metadata": {},
   "outputs": [],
   "source": [
    "X_train, X_test, y_train, y_test = train_test_split(x_1, y_1, test_size=0.3, random_state=3)\n",
    "X_train=norm(X_train)\n",
    "X_test=norm(X_test)"
   ]
  },
  {
   "cell_type": "code",
   "execution_count": 313,
   "metadata": {},
   "outputs": [],
   "source": [
    "accuracy_out=[]\n",
    "accuracy_in=[]\n",
    "for i in range(1,26):\n",
    "    model = DecisionTreeClassifier(max_depth=i,criterion='gini')\n",
    "    model.fit(X_train, y_train)\n",
    "    pred_out = model.predict(X_test) \n",
    "    acc_out = metrics.accuracy_score(y_test, pred_out)\n",
    "    pred_in = model.predict(X_train)\n",
    "    acc_in = metrics.accuracy_score(y_train, pred_in)\n",
    "    accuracy_in.append(acc_in)\n",
    "    accuracy_out.append(acc_out)"
   ]
  },
  {
   "cell_type": "code",
   "execution_count": 317,
   "metadata": {
    "scrolled": true
   },
   "outputs": [
    {
     "data": {
      "text/plain": [
       "(25,\n",
       " [0.6987168874172185,\n",
       "  0.6987168874172185,\n",
       "  0.7560154525386313,\n",
       "  0.7882864238410596,\n",
       "  0.81996412803532,\n",
       "  0.8626379690949227,\n",
       "  0.8934740618101545,\n",
       "  0.9253311258278145,\n",
       "  0.9390728476821192,\n",
       "  0.9563741721854304,\n",
       "  0.9668184326710817,\n",
       "  0.9719784768211921,\n",
       "  0.9789459161147903,\n",
       "  0.9836920529801324,\n",
       "  0.986189293598234,\n",
       "  0.9883830022075055,\n",
       "  0.9896109271523179,\n",
       "  0.9901628035320088,\n",
       "  0.9906594922737307,\n",
       "  0.9907836644591611,\n",
       "  0.9903973509933774,\n",
       "  0.9904801324503312,\n",
       "  0.9905215231788079,\n",
       "  0.9905077262693157,\n",
       "  0.9906594922737307])"
      ]
     },
     "execution_count": 317,
     "metadata": {},
     "output_type": "execute_result"
    },
    {
     "data": {
      "image/png": "[encoded data removed]",
      "text/plain": [
       "<Figure size 432x288 with 1 Axes>"
      ]
     },
     "metadata": {},
     "output_type": "display_data"
    }
   ],
   "source": [
    "plt.plot(accuracy_out)\n",
    "i,accuracy_out"
   ]
  },
  {
   "cell_type": "code",
   "execution_count": 319,
   "metadata": {},
   "outputs": [
    {
     "data": {
      "text/plain": [
       "[0.6983088930936613,\n",
       " 0.6983088930936613,\n",
       " 0.7554103595080416,\n",
       " 0.7868377483443708,\n",
       " 0.8192407757805109,\n",
       " 0.863203642384106,\n",
       " 0.8946546830652791,\n",
       " 0.925715468306528,\n",
       " 0.939811967833491,\n",
       " 0.9579056291390728,\n",
       " 0.9683538315988647,\n",
       " 0.9743140964995269,\n",
       " 0.98264545884579,\n",
       " 0.9881681646168401,\n",
       " 0.9922185430463576,\n",
       " 0.9951277199621571,\n",
       " 0.9974396877956481,\n",
       " 0.9988765373699149,\n",
       " 0.9996333964049195,\n",
       " 0.9998403500473036,\n",
       " 0.9999467833491013,\n",
       " 1.0,\n",
       " 1.0,\n",
       " 1.0,\n",
       " 1.0]"
      ]
     },
     "execution_count": 319,
     "metadata": {},
     "output_type": "execute_result"
    },
    {
     "data": {
      "image/png": "[encoded data removed]",
      "text/plain": [
       "<Figure size 432x288 with 1 Axes>"
      ]
     },
     "metadata": {},
     "output_type": "display_data"
    }
   ],
   "source": [
    "plt.plot(accuracy_in)\n",
    "accuracy_in"
   ]
  },
  {
   "cell_type": "code",
   "execution_count": 318,
   "metadata": {},
   "outputs": [
    {
     "name": "stdout",
     "output_type": "stream",
     "text": [
      "Accuracy Score: 1.0\n"
     ]
    }
   ],
   "source": [
    "y_pred= model.predict(X_train)\n",
    "print('Accuracy Score:',metrics.accuracy_score(y_train,y_pred))"
   ]
  },
  {
   "cell_type": "markdown",
   "metadata": {},
   "source": [
    "## Boosting"
   ]
  },
  {
   "cell_type": "markdown",
   "metadata": {},
   "source": [
    "### Voice Detection"
   ]
  },
  {
   "cell_type": "code",
   "execution_count": 27,
   "metadata": {},
   "outputs": [],
   "source": [
    "X_train, X_test, y_train, y_test = train_test_split(x, y, test_size=0.2, random_state=1)\n",
    "X_train=norm(X_train)\n",
    "X_test=norm(X_test)"
   ]
  },
  {
   "cell_type": "code",
   "execution_count": 28,
   "metadata": {},
   "outputs": [
    {
     "name": "stdout",
     "output_type": "stream",
     "text": [
      "The accuracy score is: 0.9700315457413249\n"
     ]
    }
   ],
   "source": [
    "#Test accuracy score\n",
    "model = AdaBoostClassifier(DecisionTreeClassifier())\n",
    "model.fit(X_train,y_train)\n",
    "pred = model.predict(X_test) \n",
    "acc = metrics.accuracy_score(y_test, pred)\n",
    "print(\"The accuracy score is:\" , acc)"
   ]
  },
  {
   "cell_type": "code",
   "execution_count": 29,
   "metadata": {},
   "outputs": [
    {
     "name": "stdout",
     "output_type": "stream",
     "text": [
      "The accuracy score is: 1.0\n"
     ]
    }
   ],
   "source": [
    "#Train accuracy score\n",
    "pred = model.predict(X_train) \n",
    "acc = metrics.accuracy_score(y_train, pred)\n",
    "print(\"The accuracy score is:\" , acc)"
   ]
  },
  {
   "cell_type": "markdown",
   "metadata": {},
   "source": [
    "### Pruning"
   ]
  },
  {
   "cell_type": "code",
   "execution_count": 28,
   "metadata": {
    "scrolled": true
   },
   "outputs": [
    {
     "data": {
      "text/plain": [
       "[0.9763406940063092,\n",
       " 0.9668769716088328,\n",
       " 0.973186119873817,\n",
       " 0.9794952681388013,\n",
       " 0.9794952681388013,\n",
       " 0.9747634069400631,\n",
       " 0.9763406940063092,\n",
       " 0.9779179810725552,\n",
       " 0.9605678233438486,\n",
       " 0.9605678233438486,\n",
       " 0.9605678233438486,\n",
       " 0.9574132492113565,\n",
       " 0.9574132492113565,\n",
       " 0.9621451104100947,\n",
       " 0.9589905362776026,\n",
       " 0.9589905362776026,\n",
       " 0.9558359621451105,\n",
       " 0.9621451104100947,\n",
       " 0.9605678233438486,\n",
       " 0.9589905362776026,\n",
       " 0.9589905362776026,\n",
       " 0.9574132492113565,\n",
       " 0.9605678233438486,\n",
       " 0.9605678233438486,\n",
       " 0.9605678233438486]"
      ]
     },
     "execution_count": 28,
     "metadata": {},
     "output_type": "execute_result"
    },
    {
     "data": {
      "image/png": "[encoded data removed]",
      "text/plain": [
       "<Figure size 432x288 with 1 Axes>"
      ]
     },
     "metadata": {
      "needs_background": "light"
     },
     "output_type": "display_data"
    }
   ],
   "source": [
    "accuracy_out=[]\n",
    "accuracy_in=[]\n",
    "for i in range(1,26):\n",
    "    model = AdaBoostClassifier(DecisionTreeClassifier(max_depth=i,criterion='entropy'))\n",
    "    model.fit(X_train, y_train)\n",
    "    pred_out = model.predict(X_test) \n",
    "    acc_out = metrics.accuracy_score(y_test, pred_out)\n",
    "    pred_in = model.predict(X_train)\n",
    "    acc_in = metrics.accuracy_score(y_train, pred_in)\n",
    "    accuracy_in.append(acc_in)\n",
    "    accuracy_out.append(acc_out)\n",
    "plt.plot(accuracy_out)\n",
    "accuracy_out"
   ]
  },
  {
   "cell_type": "code",
   "execution_count": 29,
   "metadata": {},
   "outputs": [
    {
     "data": {
      "text/plain": [
       "[0.9885556432517758,\n",
       " 1.0,\n",
       " 1.0,\n",
       " 1.0,\n",
       " 1.0,\n",
       " 1.0,\n",
       " 1.0,\n",
       " 1.0,\n",
       " 1.0,\n",
       " 1.0,\n",
       " 1.0,\n",
       " 1.0,\n",
       " 1.0,\n",
       " 1.0,\n",
       " 1.0,\n",
       " 1.0,\n",
       " 1.0,\n",
       " 1.0,\n",
       " 1.0,\n",
       " 1.0,\n",
       " 1.0,\n",
       " 1.0,\n",
       " 1.0,\n",
       " 1.0,\n",
       " 1.0]"
      ]
     },
     "execution_count": 29,
     "metadata": {},
     "output_type": "execute_result"
    },
    {
     "data": {
      "image/png": "[encoded data removed]",
      "text/plain": [
       "<Figure size 432x288 with 1 Axes>"
      ]
     },
     "metadata": {
      "needs_background": "light"
     },
     "output_type": "display_data"
    }
   ],
   "source": [
    "plt.plot(accuracy_in)\n",
    "accuracy_in"
   ]
  },
  {
   "cell_type": "markdown",
   "metadata": {},
   "source": [
    "## Run Data"
   ]
  },
  {
   "cell_type": "code",
   "execution_count": 33,
   "metadata": {},
   "outputs": [],
   "source": [
    "X_train, X_test, y_train, y_test = train_test_split(x_1, y_1, test_size=0.3, random_state=3)\n",
    "X_train=norm(X_train)\n",
    "X_test=norm(X_test)"
   ]
  },
  {
   "cell_type": "code",
   "execution_count": 34,
   "metadata": {},
   "outputs": [
    {
     "name": "stdout",
     "output_type": "stream",
     "text": [
      "The accuracy score is: 0.9903283664459162\n"
     ]
    }
   ],
   "source": [
    "#Test accuracy score\n",
    "model = AdaBoostClassifier(DecisionTreeClassifier())\n",
    "model.fit(X_train,y_train)\n",
    "pred = model.predict(X_test) \n",
    "acc = metrics.accuracy_score(y_test, pred)\n",
    "print(\"The accuracy score is:\", acc)"
   ]
  },
  {
   "cell_type": "code",
   "execution_count": 35,
   "metadata": {},
   "outputs": [
    {
     "name": "stdout",
     "output_type": "stream",
     "text": [
      "The accuracy score is: 1.0\n"
     ]
    }
   ],
   "source": [
    "#Train accuracy score\n",
    "pred = model.predict(X_train) \n",
    "acc = metrics.accuracy_score(y_train, pred)\n",
    "print(\"The accuracy score is:\", acc)"
   ]
  },
  {
   "cell_type": "markdown",
   "metadata": {},
   "source": [
    "## Pruning"
   ]
  },
  {
   "cell_type": "code",
   "execution_count": 39,
   "metadata": {},
   "outputs": [
    {
     "data": {
      "text/plain": [
       "[0.8003587196467992,\n",
       " 0.9165149006622516,\n",
       " 0.9541114790286975,\n",
       " 0.9737996688741721,\n",
       " 0.9823399558498896,\n",
       " 0.9876517660044151,\n",
       " 0.9899558498896247,\n",
       " 0.9912113686534216,\n",
       " 0.9903007726269316,\n",
       " 0.9897488962472406,\n",
       " 0.989362582781457,\n",
       " 0.9906870860927153,\n",
       " 0.9907008830022075,\n",
       " 0.9906181015452539,\n",
       " 0.990728476821192,\n",
       " 0.9913493377483443,\n",
       " 0.9915424944812362,\n",
       " 0.9916666666666667,\n",
       " 0.9915700883002208,\n",
       " 0.9913769315673289,\n",
       " 0.9920115894039735,\n",
       " 0.9905491169977925,\n",
       " 0.9903697571743929,\n",
       " 0.9905629139072848,\n",
       " 0.9904801324503312]"
      ]
     },
     "execution_count": 39,
     "metadata": {},
     "output_type": "execute_result"
    },
    {
     "data": {
      "image/png": "[encoded data removed]",
      "text/plain": [
       "<Figure size 432x288 with 1 Axes>"
      ]
     },
     "metadata": {
      "needs_background": "light"
     },
     "output_type": "display_data"
    }
   ],
   "source": [
    "accuracy_out=[]\n",
    "accuracy_in=[]\n",
    "for i in range(1,26):\n",
    "    model = AdaBoostClassifier(DecisionTreeClassifier(max_depth=i,criterion='gini'))\n",
    "    model.fit(X_train, y_train)\n",
    "    pred_out = model.predict(X_test) \n",
    "    acc_out = metrics.accuracy_score(y_test, pred_out)\n",
    "    pred_in = model.predict(X_train)\n",
    "    acc_in = metrics.accuracy_score(y_train, pred_in)\n",
    "    accuracy_in.append(acc_in)\n",
    "    accuracy_out.append(acc_out)\n",
    "plt.plot(accuracy_out) #Test plot\n",
    "accuracy_out"
   ]
  },
  {
   "cell_type": "code",
   "execution_count": 40,
   "metadata": {},
   "outputs": [
    {
     "data": {
      "text/plain": [
       "[0.8005026017029329,\n",
       " 0.918968779564806,\n",
       " 0.954629848628193,\n",
       " 0.974526963103122,\n",
       " 0.9850520340586566,\n",
       " 0.9922835856196783,\n",
       " 0.997918637653737,\n",
       " 0.999988174077578,\n",
       " 1.0,\n",
       " 1.0,\n",
       " 1.0,\n",
       " 1.0,\n",
       " 1.0,\n",
       " 1.0,\n",
       " 1.0,\n",
       " 1.0,\n",
       " 1.0,\n",
       " 1.0,\n",
       " 1.0,\n",
       " 1.0,\n",
       " 1.0,\n",
       " 1.0,\n",
       " 1.0,\n",
       " 1.0,\n",
       " 1.0]"
      ]
     },
     "execution_count": 40,
     "metadata": {},
     "output_type": "execute_result"
    },
    {
     "data": {
      "image/png": "[encoded data removed]",
      "text/plain": [
       "<Figure size 432x288 with 1 Axes>"
      ]
     },
     "metadata": {
      "needs_background": "light"
     },
     "output_type": "display_data"
    }
   ],
   "source": [
    "#Train plot\n",
    "plt.plot(accuracy_in)\n",
    "accuracy_in"
   ]
  },
  {
   "cell_type": "markdown",
   "metadata": {},
   "source": [
    "## Cross Validation"
   ]
  },
  {
   "cell_type": "markdown",
   "metadata": {},
   "source": [
    "## Kernel = RBF"
   ]
  },
  {
   "cell_type": "markdown",
   "metadata": {},
   "source": [
    "### VOICE"
   ]
  },
  {
   "cell_type": "code",
   "execution_count": 25,
   "metadata": {},
   "outputs": [],
   "source": [
    "x= mal_fem1.iloc[:,:20]\n",
    "y=mal_fem1.iloc[:,-1]\n",
    "x[\"intercept\"] = 1"
   ]
  },
  {
   "cell_type": "code",
   "execution_count": 26,
   "metadata": {},
   "outputs": [
    {
     "name": "stdout",
     "output_type": "stream",
     "text": [
      "In-sampling accuracies: [0.9887758681164504, 0.9859698351455629, 0.9877236057523676, 0.9842160645387583, 0.9828130480533146, 0.9845668186601193, 0.9863205892669239, 0.9835145562960365, 0.9849228611500701, 0.985273492286115]\n",
      "Out-sampling accuracies: [0.41009463722397477, 0.31230283911671924, 0.45110410094637227, 0.4889589905362776, 0.35331230283911674, 0.6214511041009464, 0.6214511041009464, 0.5299684542586751, 0.43354430379746833, 0.5981012658227848]\n",
      "Average accuracy In-sampling: 0.9854096739265719\n",
      "Average accuracy Out-sampling: 0.4820289102743282\n"
     ]
    }
   ],
   "source": [
    "scores_in = []\n",
    "scores_out=[]\n",
    "svc = SVC(kernel='rbf')\n",
    "cv = KFold(n_splits=10, random_state=50, shuffle=False)\n",
    "for train_index, test_index in cv.split(x):\n",
    "    X_train, X_test, y_train, y_test = x.iloc[train_index], x.iloc[test_index], y.iloc[train_index], y.iloc[test_index]\n",
    "    X_train=norm(X_train)\n",
    "    X_test=norm(X_test)\n",
    "    svc = svc.fit(X_train, y_train)\n",
    "    y_pred_train = svc.predict(X_train)\n",
    "    y_pred_test = svc.predict(X_test)\n",
    "    scores_out.append(metrics.accuracy_score(y_pred_test, y_test))\n",
    "    scores_in.append(metrics.accuracy_score(y_pred_train, y_train))\n",
    "print(\"In-sampling accuracies:\" ,scores_in)\n",
    "print(\"Out-sampling accuracies:\" ,scores_out)\n",
    "print(\"Average accuracy In-sampling:\", sum(scores_in)/len(scores_in))\n",
    "print(\"Average accuracy Out-sampling:\", sum(scores_out)/len(scores_out))"
   ]
  },
  {
   "cell_type": "markdown",
   "metadata": {},
   "source": [
    "### Run"
   ]
  },
  {
   "cell_type": "code",
   "execution_count": 29,
   "metadata": {},
   "outputs": [],
   "source": [
    "x_1= run.iloc[:,:14]\n",
    "y_1=run.iloc[:,-1]\n",
    "x_1[\"intercept\"]=1"
   ]
  },
  {
   "cell_type": "code",
   "execution_count": null,
   "metadata": {},
   "outputs": [],
   "source": [
    "scores_in = []\n",
    "scores_out=[]\n",
    "svc = SVC(kernel='rbf')\n",
    "cv = KFold(n_splits=3, random_state=42, shuffle=False)\n",
    "for train_index, test_index in cv.split(x_1):\n",
    "    X_train, X_test, y_train, y_test = x_1.iloc[train_index], x_1.iloc[test_index], y_1.iloc[train_index], y_1.iloc[test_index]\n",
    "    X_train=norm(X_train)\n",
    "    X_test=norm(X_test)\n",
    "    svc.fit(X_train, y_train)\n",
    "    y_pred_train = svc.predict(X_train)\n",
    "    y_pred_test = svc.predict(X_test)\n",
    "    scores_in.append(metrics.accuracy_score(y_pred_test, y_test))\n",
    "    scores_out.append(metrics.accuracy_score(y_pred_train, y_train))\n",
    "print(\"In-sampling accuracies:\" ,scores_in)\n",
    "print(\"Out-sampling accuracies:\" ,scores_out)\n",
    "print(\"Average accuracy In-sampling:\", sum(scores_in)/len(scores_in))\n",
    "print(\"Average accuracy Out-sampling:\", sum(scores_out)/len(scores_out))"
   ]
  },
  {
   "cell_type": "markdown",
   "metadata": {},
   "source": [
    "## Kernel = Linear"
   ]
  },
  {
   "cell_type": "markdown",
   "metadata": {},
   "source": [
    "## Voice"
   ]
  },
  {
   "cell_type": "code",
   "execution_count": 27,
   "metadata": {},
   "outputs": [
    {
     "name": "stdout",
     "output_type": "stream",
     "text": [
      "(2851, 21) (317, 21) (2851,) (317,)\n",
      "(2851, 21) (317, 21) (2851,) (317,)\n",
      "(2851, 21) (317, 21) (2851,) (317,)\n",
      "(2851, 21) (317, 21) (2851,) (317,)\n",
      "(2851, 21) (317, 21) (2851,) (317,)\n",
      "(2851, 21) (317, 21) (2851,) (317,)\n",
      "(2851, 21) (317, 21) (2851,) (317,)\n",
      "(2851, 21) (317, 21) (2851,) (317,)\n",
      "(2852, 21) (316, 21) (2852,) (316,)\n",
      "(2852, 21) (316, 21) (2852,) (316,)\n",
      "In-sampling accuracies: [0.9824622939319537, 0.9750964573833742, 0.9803577692037881, 0.9743949491406524, 0.9747457032620134, 0.9779024903542617, 0.9779024903542617, 0.9743949491406524, 0.9758064516129032, 0.9768583450210379]\n",
      "Out-sampling accuracies: [0.3501577287066246, 0.30914826498422715, 0.3722397476340694, 0.40063091482649843, 0.36908517350157727, 0.5993690851735016, 0.5962145110410094, 0.5709779179810726, 0.48417721518987344, 0.45569620253164556]\n",
      "Average accuracy In-sampling: 0.9769921899404899\n",
      "Average accuracy Out-sampling: 0.45076967615700997\n"
     ]
    }
   ],
   "source": [
    "scores_in = []\n",
    "scores_out=[]\n",
    "svc = SVC(kernel='linear')\n",
    "cv = KFold(n_splits=10, random_state=42, shuffle=False)\n",
    "for train_index, test_index in cv.split(x):\n",
    "    X_train, X_test, y_train, y_test = x.iloc[train_index], x.iloc[test_index], y.iloc[train_index], y.iloc[test_index]\n",
    "    print(X_train.shape, X_test.shape, y_train.shape, y_test.shape)\n",
    "    X_train=norm(X_train)\n",
    "    X_test=norm(X_test)\n",
    "    svc.fit(X_train, y_train)\n",
    "    y_pred_train = svc.predict(X_train)\n",
    "    y_pred_test = svc.predict(X_test)\n",
    "    scores_out.append(metrics.accuracy_score(y_pred_test, y_test))\n",
    "    scores_in.append(metrics.accuracy_score(y_pred_train, y_train))\n",
    "print(\"In-sampling accuracies:\" ,scores_in)\n",
    "print(\"Out-sampling accuracies:\" ,scores_out)\n",
    "print(\"Average accuracy In-sampling:\", sum(scores_in)/len(scores_in))\n",
    "print(\"Average accuracy Out-sampling:\", sum(scores_out)/len(scores_out))"
   ]
  },
  {
   "cell_type": "markdown",
   "metadata": {},
   "source": [
    "## RUN"
   ]
  },
  {
   "cell_type": "code",
   "execution_count": null,
   "metadata": {},
   "outputs": [],
   "source": [
    "scores_in = []\n",
    "scores_out=[]\n",
    "svc = SVC(kernel='linear')\n",
    "cv = KFold(n_splits=10, random_state=42, shuffle=False)\n",
    "for train_index, test_index in cv.split(x_1):\n",
    "    X_train, X_test, y_train, y_test = x_1.iloc[train_index], x_1.iloc[test_index], y_1.iloc[train_index], y_1.iloc[test_index]\n",
    "    svc.fit(X_train, y_train)\n",
    "    y_pred_train = svc.predict(X_train)\n",
    "    y_pred_test = svc.predict(X_test)\n",
    "    scores_in.append(metrics.accuracy_score(y_pred_test, y_test))\n",
    "    scores_out.append(metrics.accuracy_score(y_pred_train, y_train))\n",
    "print(\"In-sampling accuracies:\" ,scores_in)\n",
    "print(\"Out-sampling accuracies:\" ,scores_out)\n",
    "print(\"Average accuracy In-sampling:\", sum(scores_in)/len(scores_in))\n",
    "print(\"Average accuracy Out-sampling:\", sum(scores_out)/len(scores_out))"
   ]
  },
  {
   "cell_type": "markdown",
   "metadata": {},
   "source": [
    "## Kernel = Polynomial"
   ]
  },
  {
   "cell_type": "markdown",
   "metadata": {},
   "source": [
    "### VOICE"
   ]
  },
  {
   "cell_type": "code",
   "execution_count": 28,
   "metadata": {},
   "outputs": [
    {
     "name": "stdout",
     "output_type": "stream",
     "text": [
      "In-sampling accuracies: [0.976148719747457, 0.9743949491406524, 0.9754472115047352, 0.9729919326552087, 0.9743949491406524, 0.966678358470712, 0.9659768502279902, 0.9624693090143809, 0.9631837307152875, 0.9652875175315568]\n",
      "Out-sampling accuracies: [0.5867507886435331, 0.5488958990536278, 0.6246056782334385, 0.6025236593059937, 0.5930599369085173, 0.3627760252365931, 0.3785488958990536, 0.21451104100946372, 0.3322784810126582, 0.37341772151898733]\n",
      "Average accuracy In-sampling: 0.9696973528148634\n",
      "Average accuracy Out-sampling: 0.4617368126821867\n"
     ]
    }
   ],
   "source": [
    "scores_in = []\n",
    "scores_out=[]\n",
    "svc = SVC(kernel='poly')\n",
    "cv = KFold(n_splits=10, random_state=42, shuffle=False)\n",
    "for train_index, test_index in cv.split(x):\n",
    "    X_train, X_test, y_train, y_test = x.iloc[train_index], x.iloc[test_index], y.iloc[train_index], y.iloc[test_index]\n",
    "    X_train=norm(X_train)\n",
    "    X_test=norm(X_test)\n",
    "    svc.fit(X_train, y_train)\n",
    "    y_pred_train = svc.predict(X_train)\n",
    "    y_pred_test = svc.predict(X_test)\n",
    "    scores_out.append(metrics.accuracy_score(y_pred_test, y_test))\n",
    "    scores_in.append(metrics.accuracy_score(y_pred_train, y_train))\n",
    "print(\"In-sampling accuracies:\" ,scores_in)\n",
    "print(\"Out-sampling accuracies:\" ,scores_out)\n",
    "print(\"Average accuracy In-sampling:\", sum(scores_in)/len(scores_in))\n",
    "print(\"Average accuracy Out-sampling:\", sum(scores_out)/len(scores_out))"
   ]
  },
  {
   "cell_type": "markdown",
   "metadata": {},
   "source": [
    "## RUN"
   ]
  },
  {
   "cell_type": "code",
   "execution_count": null,
   "metadata": {},
   "outputs": [],
   "source": [
    "scores_in = []\n",
    "scores_out=[]\n",
    "svc = SVC(kernel='poly')\n",
    "cv = KFold(n_splits=3, random_state=42, shuffle=False)\n",
    "for train_index, test_index in cv.split(x_1):\n",
    "    X_train, X_test, y_train, y_test = x_1.iloc[train_index], x_1.iloc[test_index], y_1.iloc[train_index], y_1.iloc[test_index]\n",
    "    svc.fit(X_train, y_train)\n",
    "    y_pred_train = svc.predict(X_train)\n",
    "    y_pred_test = svc.predict(X_test)\n",
    "    scores_in.append(metrics.accuracy_score(y_pred_test, y_test))\n",
    "    scores_out.append(metrics.accuracy_score(y_pred_train, y_train))\n",
    "print(\"In-sampling accuracies:\" ,scores_in)\n",
    "print(\"Out-sampling accuracies:\" ,scores_out)\n",
    "print(\"Average accuracy In-sampling:\", sum(scores_in)/len(scores_in))\n",
    "print(\"Average accuracy Out-sampling:\", sum(scores_out)/len(scores_out))"
   ]
  },
  {
   "cell_type": "markdown",
   "metadata": {},
   "source": [
    "## Decision Trees"
   ]
  },
  {
   "cell_type": "markdown",
   "metadata": {},
   "source": [
    "### VOICE"
   ]
  },
  {
   "cell_type": "code",
   "execution_count": 98,
   "metadata": {},
   "outputs": [
    {
     "name": "stdout",
     "output_type": "stream",
     "text": [
      "In-sampling accuracies: [0.9708874079270431, 0.9677306208347948, 0.9712381620484041, 0.9691336373202385, 0.9684321290775166, 0.9772009821115398, 0.9772009821115398, 0.9768502279901788, 0.9772089761570828, 0.985273492286115]\n",
      "Out-sampling accuracies: [0.6466876971608833, 0.5299684542586751, 0.5583596214511041, 0.6182965299684543, 0.47634069400630913, 0.6529968454258676, 0.6466876971608833, 0.5141955835962145, 0.41455696202531644, 0.5981012658227848]\n",
      "Average accuracy In-sampling: 0.9741156617864453\n",
      "Average accuracy Out-sampling: 0.5656191350876493\n"
     ]
    }
   ],
   "source": [
    "clf = DecisionTreeClassifier()\n",
    "scores_in = []\n",
    "scores_out=[]\n",
    "cv = KFold(n_splits=10, random_state=42, shuffle=False)\n",
    "for train_index, test_index in cv.split(x):\n",
    "    X_train, X_test, y_train, y_test = x.iloc[train_index], x.iloc[test_index], y.iloc[train_index], y.iloc[test_index]\n",
    "    X_train=norm(X_train)\n",
    "    X_test=norm(X_test)\n",
    "    clf.fit(X_train, y_train)\n",
    "    y_pred_train = clf.predict(X_train)\n",
    "    y_pred_test = clf.predict(X_test)\n",
    "    scores_out.append(metrics.accuracy_score(y_pred_test, y_test))\n",
    "    scores_in.append(metrics.accuracy_score(y_pred_train, y_train))\n",
    "print(\"In-sampling accuracies:\" ,scores_in)\n",
    "print(\"Out-sampling accuracies:\" ,scores_out)\n",
    "print(\"Average accuracy In-sampling:\", sum(scores_in)/len(scores_in))\n",
    "print(\"Average accuracy Out-sampling:\", sum(scores_out)/len(scores_out))"
   ]
  },
  {
   "cell_type": "markdown",
   "metadata": {},
   "source": [
    "### RUN"
   ]
  },
  {
   "cell_type": "code",
   "execution_count": 37,
   "metadata": {},
   "outputs": [
    {
     "name": "stdout",
     "output_type": "stream",
     "text": [
      "In-sampling accuracies: [1.0, 1.0, 1.0, 1.0, 1.0, 1.0, 1.0, 1.0, 1.0, 1.0]\n",
      "Out-sampling accuracies: [0.7372930463576159, 0.756705298013245, 0.7250413907284768, 0.8355960264900663, 0.6917218543046357, 0.8457781456953642, 0.7118377483443709, 0.6283112582781457, 0.9868791390728476, 0.9956953642384105]\n",
      "Average accuracy In-sampling: 1.0\n",
      "Average accuracy Out-sampling: 0.7914859271523178\n"
     ]
    }
   ],
   "source": [
    "clf = DecisionTreeClassifier()\n",
    "scores_in = []\n",
    "scores_out=[]\n",
    "cv = KFold(n_splits=10, random_state=42, shuffle=False)\n",
    "for train_index, test_index in cv.split(x_1):\n",
    "    X_train, X_test, y_train, y_test = x_1.iloc[train_index], x_1.iloc[test_index], y_1.iloc[train_index], y_1.iloc[test_index]\n",
    "    clf.fit(X_train, y_train)\n",
    "    X_train=norm(X_train)\n",
    "    X_test=norm(X_test)\n",
    "    y_pred_train = clf.predict(X_train)\n",
    "    y_pred_test = clf.predict(X_test)\n",
    "    scores_out.append(metrics.accuracy_score(y_pred_test, y_test))\n",
    "    scores_in.append(metrics.accuracy_score(y_pred_train, y_train))\n",
    "print(\"In-sampling accuracies:\" ,scores_in)\n",
    "print(\"Out-sampling accuracies:\" ,scores_out)\n",
    "print(\"Average accuracy In-sampling:\", sum(scores_in)/len(scores_in))\n",
    "print(\"Average accuracy Out-sampling:\", sum(scores_out)/len(scores_out))"
   ]
  },
  {
   "cell_type": "markdown",
   "metadata": {},
   "source": [
    "### PRUNING , Taking depth = 4 for voice"
   ]
  },
  {
   "cell_type": "code",
   "execution_count": 99,
   "metadata": {},
   "outputs": [
    {
     "name": "stdout",
     "output_type": "stream",
     "text": [
      "In-sampling accuracies: [0.9708874079270431, 0.9677306208347948, 0.9712381620484041, 0.9691336373202385, 0.9684321290775166, 0.9772009821115398, 0.9772009821115398, 0.9768502279901788, 0.9772089761570828, 0.985273492286115]\n",
      "Out-sampling accuracies: [0.6466876971608833, 0.5299684542586751, 0.5583596214511041, 0.6182965299684543, 0.47634069400630913, 0.6529968454258676, 0.6466876971608833, 0.5141955835962145, 0.41455696202531644, 0.5981012658227848]\n",
      "Average accuracy In-sampling: 0.9741156617864453\n",
      "Average accuracy Out-sampling: 0.5656191350876493\n"
     ]
    }
   ],
   "source": [
    "clf = DecisionTreeClassifier(max_depth=4)\n",
    "scores_in = []\n",
    "scores_out=[]\n",
    "cv = KFold(n_splits=10, random_state=42, shuffle=False)\n",
    "for train_index, test_index in cv.split(x):\n",
    "    X_train, X_test, y_train, y_test = x.iloc[train_index], x.iloc[test_index], y.iloc[train_index], y.iloc[test_index]\n",
    "    X_train=norm(X_train)\n",
    "    X_test=norm(X_test)\n",
    "    clf.fit(X_train, y_train)\n",
    "    y_pred_train = clf.predict(X_train)\n",
    "    y_pred_test = clf.predict(X_test)\n",
    "    scores_out.append(metrics.accuracy_score(y_pred_test, y_test))\n",
    "    scores_in.append(metrics.accuracy_score(y_pred_train, y_train))\n",
    "print(\"In-sampling accuracies:\" ,scores_in)\n",
    "print(\"Out-sampling accuracies:\" ,scores_out)\n",
    "print(\"Average accuracy In-sampling:\", sum(scores_in)/len(scores_in))\n",
    "print(\"Average accuracy Out-sampling:\", sum(scores_out)/len(scores_out))"
   ]
  },
  {
   "cell_type": "markdown",
   "metadata": {},
   "source": [
    "### PRUNING , Taking depth = 19 for run"
   ]
  },
  {
   "cell_type": "code",
   "execution_count": 38,
   "metadata": {},
   "outputs": [
    {
     "name": "stdout",
     "output_type": "stream",
     "text": [
      "In-sampling accuracies: [0.9995493009565857, 0.9994849153789551, 0.9993285504047094, 0.9992549668874172, 0.9993561442236939, 0.9992733627667403, 0.9993975349521708, 0.9993561442236939, 0.9994251287711553, 0.9993285504047094]\n",
      "Out-sampling accuracies: [0.736796357615894, 0.7566225165562914, 0.7247930463576159, 0.835637417218543, 0.6914735099337749, 0.8457781456953642, 0.7118377483443709, 0.6259933774834437, 0.8428807947019867, 0.9956953642384105]\n",
      "Average accuracy In-sampling: 0.9993754598969831\n",
      "Average accuracy Out-sampling: 0.7767508278145695\n"
     ]
    }
   ],
   "source": [
    "clf = DecisionTreeClassifier(max_depth=19)\n",
    "scores_in = []\n",
    "scores_out=[]\n",
    "cv = KFold(n_splits=10, random_state=42, shuffle=False)\n",
    "for train_index, test_index in cv.split(x_1):\n",
    "    X_train, X_test, y_train, y_test = x_1.iloc[train_index], x_1.iloc[test_index], y_1.iloc[train_index], y_1.iloc[test_index]\n",
    "    X_train=norm(X_train)\n",
    "    X_test=norm(X_test)\n",
    "    clf.fit(X_train, y_train)\n",
    "    y_pred_train = clf.predict(X_train)\n",
    "    y_pred_test = clf.predict(X_test)\n",
    "    scores_out.append(metrics.accuracy_score(y_pred_test, y_test))\n",
    "    scores_in.append(metrics.accuracy_score(y_pred_train, y_train))\n",
    "print(\"In-sampling accuracies:\" ,scores_in)\n",
    "print(\"Out-sampling accuracies:\" ,scores_out)\n",
    "print(\"Average accuracy In-sampling:\", sum(scores_in)/len(scores_in))\n",
    "print(\"Average accuracy Out-sampling:\", sum(scores_out)/len(scores_out))"
   ]
  },
  {
   "cell_type": "markdown",
   "metadata": {},
   "source": [
    "## BOOSTING"
   ]
  },
  {
   "cell_type": "markdown",
   "metadata": {},
   "source": [
    "### VOICE"
   ]
  },
  {
   "cell_type": "code",
   "execution_count": 41,
   "metadata": {},
   "outputs": [
    {
     "name": "stdout",
     "output_type": "stream",
     "text": [
      "In-sampling accuracies: [1.0, 1.0, 1.0, 1.0, 1.0, 1.0, 1.0, 1.0, 1.0, 1.0]\n",
      "Out-sampling accuracies: [0.28391167192429023, 0.3501577287066246, 0.38801261829652994, 0.47634069400630913, 0.21766561514195584, 0.6813880126182965, 0.6309148264984227, 0.61198738170347, 0.44936708860759494, 0.5063291139240507]\n",
      "Average accuracy In-sampling: 1.0\n",
      "Average accuracy Out-sampling: 0.45960747514275446\n"
     ]
    }
   ],
   "source": [
    "clf = AdaBoostClassifier(DecisionTreeClassifier())\n",
    "scores_in = []\n",
    "scores_out=[]\n",
    "cv = KFold(n_splits=10, random_state=42, shuffle=False)\n",
    "for train_index, test_index in cv.split(x):\n",
    "    X_train, X_test, y_train, y_test = x.iloc[train_index], x.iloc[test_index], y.iloc[train_index], y.iloc[test_index]\n",
    "    X_train=norm(X_train)\n",
    "    X_test=norm(X_test)\n",
    "    clf.fit(X_train, y_train)\n",
    "    y_pred_train = clf.predict(X_train)\n",
    "    y_pred_test = clf.predict(X_test)\n",
    "    scores_out.append(metrics.accuracy_score(y_pred_test, y_test))\n",
    "    scores_in.append(metrics.accuracy_score(y_pred_train, y_train))\n",
    "print(\"In-sampling accuracies:\" ,scores_in)\n",
    "print(\"Out-sampling accuracies:\" ,scores_out)\n",
    "print(\"Average accuracy In-sampling:\", sum(scores_in)/len(scores_in))\n",
    "print(\"Average accuracy Out-sampling:\", sum(scores_out)/len(scores_out))"
   ]
  },
  {
   "cell_type": "markdown",
   "metadata": {},
   "source": [
    "### RUN"
   ]
  },
  {
   "cell_type": "code",
   "execution_count": 25,
   "metadata": {},
   "outputs": [
    {
     "data": {
      "text/plain": [
       "<function gc.collect(generation=2)>"
      ]
     },
     "execution_count": 25,
     "metadata": {},
     "output_type": "execute_result"
    }
   ],
   "source": [
    "import gc\n",
    "gc.collect"
   ]
  },
  {
   "cell_type": "code",
   "execution_count": 39,
   "metadata": {
    "scrolled": true
   },
   "outputs": [
    {
     "name": "stdout",
     "output_type": "stream",
     "text": [
      "In-sampling accuracies: [1.0, 1.0, 1.0, 1.0, 1.0, 1.0, 1.0, 1.0, 1.0, 1.0]\n",
      "Out-sampling accuracies: [0.4248344370860927, 0.7521109271523179, 0.5728476821192053, 0.6413907284768212, 0.6649834437086093, 0.6994205298013245, 0.6517384105960264, 0.5100165562913908, 0.6940811258278146, 0.3070364238410596]\n",
      "Average accuracy In-sampling: 1.0\n",
      "Average accuracy Out-sampling: 0.5918460264900662\n"
     ]
    }
   ],
   "source": [
    "clf = AdaBoostClassifier(DecisionTreeClassifier())\n",
    "scores_in = []\n",
    "scores_out=[]\n",
    "cv = KFold(n_splits=10, random_state=42, shuffle=False)\n",
    "for train_index, test_index in cv.split(x_1):\n",
    "    X_train, X_test, y_train, y_test = x_1.iloc[train_index], x_1.iloc[test_index], y_1.iloc[train_index], y_1.iloc[test_index]\n",
    "    X_train=norm(X_train)\n",
    "    X_test=norm(X_test)\n",
    "    clf.fit(X_train, y_train)\n",
    "    y_pred_train = clf.predict(X_train)\n",
    "    y_pred_test = clf.predict(X_test)\n",
    "    scores_out.append(metrics.accuracy_score(y_pred_test, y_test))\n",
    "    scores_in.append(metrics.accuracy_score(y_pred_train, y_train))\n",
    "print(\"In-sampling accuracies:\" ,scores_in)\n",
    "print(\"Out-sampling accuracies:\" ,scores_out)\n",
    "print(\"Average accuracy In-sampling:\", sum(scores_in)/len(scores_in))\n",
    "print(\"Average accuracy Out-sampling:\", sum(scores_out)/len(scores_out))"
   ]
  },
  {
   "cell_type": "markdown",
   "metadata": {},
   "source": [
    "### Pruning"
   ]
  },
  {
   "cell_type": "markdown",
   "metadata": {},
   "source": [
    "### VOICE"
   ]
  },
  {
   "cell_type": "code",
   "execution_count": 40,
   "metadata": {},
   "outputs": [
    {
     "name": "stdout",
     "output_type": "stream",
     "text": [
      "In-sampling accuracies: [1.0, 1.0, 1.0, 1.0, 1.0, 1.0, 1.0, 1.0, 1.0, 1.0]\n",
      "Out-sampling accuracies: [0.277602523659306, 0.334384858044164, 0.35646687697160884, 0.4384858044164038, 0.21451104100946372, 0.6908517350157729, 0.6277602523659306, 0.5993690851735016, 0.4240506329113924, 0.5031645569620253]\n",
      "Average accuracy In-sampling: 1.0\n",
      "Average accuracy Out-sampling: 0.4466647366529569\n"
     ]
    }
   ],
   "source": [
    "clf = AdaBoostClassifier(DecisionTreeClassifier(max_depth=4,criterion='gini'))\n",
    "scores_in = []\n",
    "scores_out=[]\n",
    "cv = KFold(n_splits=10, random_state=42, shuffle=False)\n",
    "for train_index, test_index in cv.split(x):\n",
    "    X_train, X_test, y_train, y_test = x.iloc[train_index], x.iloc[test_index], y.iloc[train_index], y.iloc[test_index]\n",
    "    X_train=norm(X_train)\n",
    "    X_test=norm(X_test)\n",
    "    clf.fit(X_train, y_train)\n",
    "    y_pred_train = clf.predict(X_train)\n",
    "    y_pred_test = clf.predict(X_test)\n",
    "    scores_out.append(metrics.accuracy_score(y_pred_test, y_test))\n",
    "    scores_in.append(metrics.accuracy_score(y_pred_train, y_train))\n",
    "print(\"In-sampling accuracies:\" ,scores_in)\n",
    "print(\"Out-sampling accuracies:\" ,scores_out)\n",
    "print(\"Average accuracy In-sampling:\", sum(scores_in)/len(scores_in))\n",
    "print(\"Average accuracy Out-sampling:\", sum(scores_out)/len(scores_out))"
   ]
  },
  {
   "cell_type": "markdown",
   "metadata": {},
   "source": [
    "## RUN"
   ]
  },
  {
   "cell_type": "code",
   "execution_count": 42,
   "metadata": {},
   "outputs": [
    {
     "name": "stdout",
     "output_type": "stream",
     "text": [
      "In-sampling accuracies: [1.0, 1.0, 1.0]\n",
      "Out-sampling accuracies: [0.36332480691385005, 0.6847876025976929, 0.5779121602324513]\n",
      "Average accuracy In-sampling: 1.0\n",
      "Average accuracy Out-sampling: 0.5420081899146648\n"
     ]
    }
   ],
   "source": [
    "clf = AdaBoostClassifier(DecisionTreeClassifier(max_depth=19,criterion='entropy'))\n",
    "scores_in = []\n",
    "scores_out=[]\n",
    "cv = KFold(n_splits=3, random_state=42, shuffle=False)\n",
    "for train_index, test_index in cv.split(x_1):\n",
    "    X_train, X_test, y_train, y_test = x_1.iloc[train_index], x_1.iloc[test_index], y_1.iloc[train_index], y_1.iloc[test_index]\n",
    "    X_train=norm(X_train)\n",
    "    X_test=norm(X_test)\n",
    "    clf.fit(X_train, y_train)\n",
    "    y_pred_train = clf.predict(X_train)\n",
    "    y_pred_test = clf.predict(X_test)\n",
    "    scores_out.append(metrics.accuracy_score(y_pred_test, y_test))\n",
    "    scores_in.append(metrics.accuracy_score(y_pred_train, y_train))\n",
    "print(\"In-sampling accuracies:\" ,scores_in)\n",
    "print(\"Out-sampling accuracies:\" ,scores_out)\n",
    "print(\"Average accuracy In-sampling:\", sum(scores_in)/len(scores_in))\n",
    "print(\"Average accuracy Out-sampling:\", sum(scores_out)/len(scores_out))"
   ]
  },
  {
   "cell_type": "markdown",
   "metadata": {},
   "source": [
    "# -------------------------------------THE END---------------------------------------------"
   ]
  }
 ],
 "metadata": {
  "kernelspec": {
   "display_name": "Python 3",
   "language": "python",
   "name": "python3"
  },
  "language_info": {
   "codemirror_mode": {
    "name": "ipython",
    "version": 3
   },
   "file_extension": ".py",
   "mimetype": "text/x-python",
   "name": "python",
   "nbconvert_exporter": "python",
   "pygments_lexer": "ipython3",
   "version": "3.7.4"
  }
 },
 "nbformat": 4,
 "nbformat_minor": 2
}
